{
  "nbformat": 4,
  "nbformat_minor": 0,
  "metadata": {
    "colab": {
      "name": "Pie.ipynb",
      "provenance": [],
      "authorship_tag": "ABX9TyNUoTahwxbroJrRUUW7cYKa",
      "include_colab_link": true
    },
    "kernelspec": {
      "name": "python3",
      "display_name": "Python 3"
    },
    "language_info": {
      "name": "python"
    }
  },
  "cells": [
    {
      "cell_type": "markdown",
      "metadata": {
        "id": "view-in-github",
        "colab_type": "text"
      },
      "source": [
        "<a href=\"https://colab.research.google.com/github/ParkSlingshot/-/blob/main/Pie.ipynb\" target=\"_parent\"><img src=\"https://colab.research.google.com/assets/colab-badge.svg\" alt=\"Open In Colab\"/></a>"
      ]
    },
    {
      "cell_type": "markdown",
      "metadata": {
        "id": "Xi_9V_XNtZDC"
      },
      "source": [
        "#1. Mount"
      ]
    },
    {
      "cell_type": "code",
      "metadata": {
        "id": "w3xrI837tWui"
      },
      "source": [
        "from google.colab import drive\n",
        "drive.mount('/gdrive')"
      ],
      "execution_count": null,
      "outputs": []
    },
    {
      "cell_type": "markdown",
      "metadata": {
        "id": "j5oUCBU8trjM"
      },
      "source": [
        "#2.한글패치"
      ]
    },
    {
      "cell_type": "code",
      "metadata": {
        "colab": {
          "base_uri": "https://localhost:8080/"
        },
        "id": "ryHRfB2qts-V",
        "outputId": "10c76bdf-396b-4e60-b25f-c9f01a7d0500"
      },
      "source": [
        "!sudo apt-get install -y fonts-nanum\n",
        "!sudo fc-cache  -fv\n",
        "!rm -/.cache/matplotlib -rf"
      ],
      "execution_count": 39,
      "outputs": [
        {
          "output_type": "stream",
          "text": [
            "Reading package lists... Done\n",
            "Building dependency tree       \n",
            "Reading state information... Done\n",
            "fonts-nanum is already the newest version (20170925-1).\n",
            "0 upgraded, 0 newly installed, 0 to remove and 40 not upgraded.\n",
            "/usr/share/fonts: caching, new cache contents: 0 fonts, 1 dirs\n",
            "/usr/share/fonts/truetype: caching, new cache contents: 0 fonts, 3 dirs\n",
            "/usr/share/fonts/truetype/humor-sans: caching, new cache contents: 1 fonts, 0 dirs\n",
            "/usr/share/fonts/truetype/liberation: caching, new cache contents: 16 fonts, 0 dirs\n",
            "/usr/share/fonts/truetype/nanum: caching, new cache contents: 10 fonts, 0 dirs\n",
            "/usr/local/share/fonts: caching, new cache contents: 0 fonts, 0 dirs\n",
            "/root/.local/share/fonts: skipping, no such directory\n",
            "/root/.fonts: skipping, no such directory\n",
            "/var/cache/fontconfig: cleaning cache directory\n",
            "/root/.cache/fontconfig: not cleaning non-existent cache directory\n",
            "/root/.fontconfig: not cleaning non-existent cache directory\n",
            "fc-cache: succeeded\n",
            "rm: invalid option -- '/'\n",
            "Try 'rm --help' for more information.\n"
          ],
          "name": "stdout"
        }
      ]
    },
    {
      "cell_type": "code",
      "metadata": {
        "id": "ZadAAILgt7Bb"
      },
      "source": [
        "import matplotlib.pyplot as plt"
      ],
      "execution_count": 1,
      "outputs": []
    },
    {
      "cell_type": "code",
      "metadata": {
        "id": "DKSJG4_guOyX"
      },
      "source": [
        "plt.rc('font',family='NanumBarunGothic')"
      ],
      "execution_count": 2,
      "outputs": []
    },
    {
      "cell_type": "markdown",
      "metadata": {
        "id": "G7f-JSl2uWSW"
      },
      "source": [
        "#3. Load data"
      ]
    },
    {
      "cell_type": "code",
      "metadata": {
        "id": "kuM8hL0buXqm"
      },
      "source": [
        "import pandas as pd"
      ],
      "execution_count": 3,
      "outputs": []
    },
    {
      "cell_type": "code",
      "metadata": {
        "id": "x4AjlCyYuY9e"
      },
      "source": [
        "file='/gdrive/MyDrive/data/data_2021.csv'\n",
        "data=pd.read_csv(file)"
      ],
      "execution_count": 4,
      "outputs": []
    },
    {
      "cell_type": "code",
      "metadata": {
        "colab": {
          "base_uri": "https://localhost:8080/"
        },
        "id": "titWA-Jmun_j",
        "outputId": "c33deff2-2465-43ae-f01b-018899916462"
      },
      "source": [
        "#data structure\n",
        "data.info()"
      ],
      "execution_count": 5,
      "outputs": [
        {
          "output_type": "stream",
          "text": [
            "<class 'pandas.core.frame.DataFrame'>\n",
            "RangeIndex: 37132 entries, 0 to 37131\n",
            "Data columns (total 6 columns):\n",
            " #   Column   Non-Null Count  Dtype\n",
            "---  ------   --------------  -----\n",
            " 0   집계일자     37132 non-null  int64\n",
            " 1   집계시      37132 non-null  int64\n",
            " 2   출발영업소코드  37132 non-null  int64\n",
            " 3   도착영업소코드  37132 non-null  int64\n",
            " 4   통행시간     37132 non-null  int64\n",
            " 5   요일       37132 non-null  int64\n",
            "dtypes: int64(6)\n",
            "memory usage: 1.7 MB\n"
          ],
          "name": "stdout"
        }
      ]
    },
    {
      "cell_type": "markdown",
      "metadata": {
        "id": "c1SZxz5Iu_8y"
      },
      "source": [
        "#4. Select Data\n",
        "집계시"
      ]
    },
    {
      "cell_type": "code",
      "metadata": {
        "id": "kz7J4TRJvC_p"
      },
      "source": [
        "data_6_22 = data[data.집계시.isin(range(6,23))]"
      ],
      "execution_count": 6,
      "outputs": []
    },
    {
      "cell_type": "code",
      "metadata": {
        "colab": {
          "base_uri": "https://localhost:8080/",
          "height": 417
        },
        "id": "vW-M97TyvUf1",
        "outputId": "afeb9070-fb58-49a1-9764-8cf7c3675fc3"
      },
      "source": [
        "#Creat data frame with counting by 집계시\n",
        "data_6_22.sort_values(by=['집계시'])"
      ],
      "execution_count": 7,
      "outputs": [
        {
          "output_type": "execute_result",
          "data": {
            "text/html": [
              "<div>\n",
              "<style scoped>\n",
              "    .dataframe tbody tr th:only-of-type {\n",
              "        vertical-align: middle;\n",
              "    }\n",
              "\n",
              "    .dataframe tbody tr th {\n",
              "        vertical-align: top;\n",
              "    }\n",
              "\n",
              "    .dataframe thead th {\n",
              "        text-align: right;\n",
              "    }\n",
              "</style>\n",
              "<table border=\"1\" class=\"dataframe\">\n",
              "  <thead>\n",
              "    <tr style=\"text-align: right;\">\n",
              "      <th></th>\n",
              "      <th>집계일자</th>\n",
              "      <th>집계시</th>\n",
              "      <th>출발영업소코드</th>\n",
              "      <th>도착영업소코드</th>\n",
              "      <th>통행시간</th>\n",
              "      <th>요일</th>\n",
              "    </tr>\n",
              "  </thead>\n",
              "  <tbody>\n",
              "    <tr>\n",
              "      <th>29579</th>\n",
              "      <td>20210312</td>\n",
              "      <td>6</td>\n",
              "      <td>101</td>\n",
              "      <td>120</td>\n",
              "      <td>6934</td>\n",
              "      <td>4</td>\n",
              "    </tr>\n",
              "    <tr>\n",
              "      <th>5983</th>\n",
              "      <td>20210116</td>\n",
              "      <td>6</td>\n",
              "      <td>101</td>\n",
              "      <td>115</td>\n",
              "      <td>4896</td>\n",
              "      <td>16</td>\n",
              "    </tr>\n",
              "    <tr>\n",
              "      <th>5984</th>\n",
              "      <td>20210116</td>\n",
              "      <td>6</td>\n",
              "      <td>101</td>\n",
              "      <td>115</td>\n",
              "      <td>5592</td>\n",
              "      <td>16</td>\n",
              "    </tr>\n",
              "    <tr>\n",
              "      <th>2571</th>\n",
              "      <td>20210108</td>\n",
              "      <td>6</td>\n",
              "      <td>101</td>\n",
              "      <td>105</td>\n",
              "      <td>734</td>\n",
              "      <td>8</td>\n",
              "    </tr>\n",
              "    <tr>\n",
              "      <th>2570</th>\n",
              "      <td>20210108</td>\n",
              "      <td>6</td>\n",
              "      <td>101</td>\n",
              "      <td>105</td>\n",
              "      <td>820</td>\n",
              "      <td>8</td>\n",
              "    </tr>\n",
              "    <tr>\n",
              "      <th>...</th>\n",
              "      <td>...</td>\n",
              "      <td>...</td>\n",
              "      <td>...</td>\n",
              "      <td>...</td>\n",
              "      <td>...</td>\n",
              "      <td>...</td>\n",
              "    </tr>\n",
              "    <tr>\n",
              "      <th>30514</th>\n",
              "      <td>20210316</td>\n",
              "      <td>22</td>\n",
              "      <td>101</td>\n",
              "      <td>115</td>\n",
              "      <td>6289</td>\n",
              "      <td>1</td>\n",
              "    </tr>\n",
              "    <tr>\n",
              "      <th>30515</th>\n",
              "      <td>20210316</td>\n",
              "      <td>22</td>\n",
              "      <td>101</td>\n",
              "      <td>115</td>\n",
              "      <td>4883</td>\n",
              "      <td>1</td>\n",
              "    </tr>\n",
              "    <tr>\n",
              "      <th>35650</th>\n",
              "      <td>20210317</td>\n",
              "      <td>22</td>\n",
              "      <td>101</td>\n",
              "      <td>110</td>\n",
              "      <td>3412</td>\n",
              "      <td>2</td>\n",
              "    </tr>\n",
              "    <tr>\n",
              "      <th>19745</th>\n",
              "      <td>20210218</td>\n",
              "      <td>22</td>\n",
              "      <td>101</td>\n",
              "      <td>125</td>\n",
              "      <td>8800</td>\n",
              "      <td>3</td>\n",
              "    </tr>\n",
              "    <tr>\n",
              "      <th>33900</th>\n",
              "      <td>20210324</td>\n",
              "      <td>22</td>\n",
              "      <td>101</td>\n",
              "      <td>115</td>\n",
              "      <td>7649</td>\n",
              "      <td>2</td>\n",
              "    </tr>\n",
              "  </tbody>\n",
              "</table>\n",
              "<p>28160 rows × 6 columns</p>\n",
              "</div>"
            ],
            "text/plain": [
              "           집계일자  집계시  출발영업소코드  도착영업소코드  통행시간  요일\n",
              "29579  20210312    6      101      120  6934   4\n",
              "5983   20210116    6      101      115  4896  16\n",
              "5984   20210116    6      101      115  5592  16\n",
              "2571   20210108    6      101      105   734   8\n",
              "2570   20210108    6      101      105   820   8\n",
              "...         ...  ...      ...      ...   ...  ..\n",
              "30514  20210316   22      101      115  6289   1\n",
              "30515  20210316   22      101      115  4883   1\n",
              "35650  20210317   22      101      110  3412   2\n",
              "19745  20210218   22      101      125  8800   3\n",
              "33900  20210324   22      101      115  7649   2\n",
              "\n",
              "[28160 rows x 6 columns]"
            ]
          },
          "metadata": {
            "tags": []
          },
          "execution_count": 7
        }
      ]
    },
    {
      "cell_type": "code",
      "metadata": {
        "id": "UduGBRtAvvSt"
      },
      "source": [
        "data_6_22_counting = data_6_22['집계시'].value_counts()"
      ],
      "execution_count": 8,
      "outputs": []
    },
    {
      "cell_type": "code",
      "metadata": {
        "colab": {
          "base_uri": "https://localhost:8080/"
        },
        "id": "1xXtCONtv1qP",
        "outputId": "02ec9062-789d-4361-bd04-cbf8011e3b2e"
      },
      "source": [
        "data_6_22_counting.head()"
      ],
      "execution_count": 9,
      "outputs": [
        {
          "output_type": "execute_result",
          "data": {
            "text/plain": [
              "10    1738\n",
              "11    1735\n",
              "14    1732\n",
              "12    1729\n",
              "13    1726\n",
              "Name: 집계시, dtype: int64"
            ]
          },
          "metadata": {
            "tags": []
          },
          "execution_count": 9
        }
      ]
    },
    {
      "cell_type": "code",
      "metadata": {
        "id": "pTM-gN4VwCYJ"
      },
      "source": [
        "x= data_6_22_counting.index"
      ],
      "execution_count": 10,
      "outputs": []
    },
    {
      "cell_type": "code",
      "metadata": {
        "colab": {
          "base_uri": "https://localhost:8080/"
        },
        "id": "ZBvIEZO1wHYt",
        "outputId": "6bb8db07-e90a-4c6c-d848-df8f8358e05d"
      },
      "source": [
        "labels = [str(i)+'시' for i in x]\n",
        "len(labels)"
      ],
      "execution_count": 11,
      "outputs": [
        {
          "output_type": "execute_result",
          "data": {
            "text/plain": [
              "17"
            ]
          },
          "metadata": {
            "tags": []
          },
          "execution_count": 11
        }
      ]
    },
    {
      "cell_type": "code",
      "metadata": {
        "id": "X_ieR5RpwSsz"
      },
      "source": [
        "explode = [0.1, 0.1,0,0,0,0,0,0,0,0,0,0,0,0,0,0,0]"
      ],
      "execution_count": 12,
      "outputs": []
    },
    {
      "cell_type": "code",
      "metadata": {
        "id": "Nju-VZX0xV7J"
      },
      "source": [
        "y= data_6_22_counting.values"
      ],
      "execution_count": 13,
      "outputs": []
    },
    {
      "cell_type": "markdown",
      "metadata": {
        "id": "stbkt0VRxbBR"
      },
      "source": [
        "#5. Pie Chart"
      ]
    },
    {
      "cell_type": "code",
      "metadata": {
        "colab": {
          "base_uri": "https://localhost:8080/",
          "height": 52
        },
        "id": "5mCJe8bJxeY9",
        "outputId": "dfa4460f-7eea-4291-90ad-8ffeec90b789"
      },
      "source": [
        "#Configue figure size \n",
        "plt.figure(figsize = (7,7))"
      ],
      "execution_count": 14,
      "outputs": [
        {
          "output_type": "execute_result",
          "data": {
            "text/plain": [
              "<Figure size 504x504 with 0 Axes>"
            ]
          },
          "metadata": {
            "tags": []
          },
          "execution_count": 14
        },
        {
          "output_type": "display_data",
          "data": {
            "text/plain": [
              "<Figure size 504x504 with 0 Axes>"
            ]
          },
          "metadata": {
            "tags": []
          }
        }
      ]
    },
    {
      "cell_type": "code",
      "metadata": {
        "colab": {
          "base_uri": "https://localhost:8080/",
          "height": 286
        },
        "id": "zO_0EvWjxlMJ",
        "outputId": "72877c4c-d5b2-4c30-de0c-281d4b683e1c"
      },
      "source": [
        "#Create pie Chart\n",
        "plt.pie(y, explode= explode, labels = labels , startangle = 90, shadow = 90 , autopct = '%.1f')\n",
        "#Generate labels and title\n",
        "plt.title(\"집계시 기준 통행횟수\", fontsize = 18)\n",
        "#Show plot\n",
        "plt.show"
      ],
      "execution_count": 15,
      "outputs": [
        {
          "output_type": "execute_result",
          "data": {
            "text/plain": [
              "<function matplotlib.pyplot.show>"
            ]
          },
          "metadata": {
            "tags": []
          },
          "execution_count": 15
        },
        {
          "output_type": "display_data",
          "data": {
            "image/png": "[encoded data removed]",
            "text/plain": [
              "<Figure size 432x288 with 1 Axes>"
            ]
          },
          "metadata": {
            "tags": []
          }
        }
      ]
    },
    {
      "cell_type": "markdown",
      "metadata": {
        "id": "vAp2WUWV3F4n"
      },
      "source": [
        "#6.도착영업소코드\n"
      ]
    },
    {
      "cell_type": "code",
      "metadata": {
        "colab": {
          "base_uri": "https://localhost:8080/"
        },
        "id": "Iy_osP1c3IXk",
        "outputId": "f46d98e1-be03-4fb8-f51b-263c89c18f40"
      },
      "source": [
        "data_dest_counting = data['도착영업소코드'].value_counts()\n",
        "data_dest_counting.head()"
      ],
      "execution_count": 18,
      "outputs": [
        {
          "output_type": "execute_result",
          "data": {
            "text/plain": [
              "105    12209\n",
              "110     9300\n",
              "115     6555\n",
              "140     2122\n",
              "125     1871\n",
              "Name: 도착영업소코드, dtype: int64"
            ]
          },
          "metadata": {
            "tags": []
          },
          "execution_count": 18
        }
      ]
    },
    {
      "cell_type": "code",
      "metadata": {
        "id": "LbIy3GFt3XXD"
      },
      "source": [
        "x=data_dest_counting.index"
      ],
      "execution_count": 19,
      "outputs": []
    },
    {
      "cell_type": "code",
      "metadata": {
        "id": "MzF-mxW73Zm8"
      },
      "source": [
        "labels = [str(i) for i in x]"
      ],
      "execution_count": 20,
      "outputs": []
    },
    {
      "cell_type": "code",
      "metadata": {
        "colab": {
          "base_uri": "https://localhost:8080/"
        },
        "id": "3UNMVcxt3zBt",
        "outputId": "07ec2106-81b1-4e5d-e3f4-387f6a6774a5"
      },
      "source": [
        "labels =['기흥','옥천','대전', '부산', '동김천', '경주','남구미','황간' ]\n",
        "labels"
      ],
      "execution_count": 24,
      "outputs": [
        {
          "output_type": "execute_result",
          "data": {
            "text/plain": [
              "['기흥', '옥천', '대전', '부산', '동김천', '경주', '남구미', '황간']"
            ]
          },
          "metadata": {
            "tags": []
          },
          "execution_count": 24
        }
      ]
    },
    {
      "cell_type": "code",
      "metadata": {
        "id": "whtB155q4VAf"
      },
      "source": [
        "explode = [0.2, 0.1, 0, 0 ,0 ,0 ,0 ,0]"
      ],
      "execution_count": 26,
      "outputs": []
    },
    {
      "cell_type": "code",
      "metadata": {
        "id": "HpFRMgtP3fnU"
      },
      "source": [
        "y= data_dest_counting.values"
      ],
      "execution_count": 27,
      "outputs": []
    },
    {
      "cell_type": "code",
      "metadata": {
        "colab": {
          "base_uri": "https://localhost:8080/",
          "height": 432
        },
        "id": "m3KzItwV4gcL",
        "outputId": "8ab80bb1-84a9-42d8-ae1e-b2f9be06af62"
      },
      "source": [
        "plt.figure(figsize=(7,7))\n",
        "plt.pie(y,labels=labels, explode = explode, shadow =True, autopct='%.1f', startangle=180)\n",
        "plt.title('도착영업소 기준 통행횟수', fontsize =18)\n",
        "plt.show()"
      ],
      "execution_count": 30,
      "outputs": [
        {
          "output_type": "display_data",
          "data": {
            "image/png": "[encoded data removed]",
            "text/plain": [
              "<Figure size 504x504 with 1 Axes>"
            ]
          },
          "metadata": {
            "tags": []
          }
        }
      ]
    }
  ]
}