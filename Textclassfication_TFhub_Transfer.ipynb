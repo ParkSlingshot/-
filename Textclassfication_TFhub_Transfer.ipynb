{
  "nbformat": 4,
  "nbformat_minor": 0,
  "metadata": {
    "colab": {
      "name": "Textclassfication TFhub Transfer.ipynb",
      "private_outputs": true,
      "provenance": [],
      "collapsed_sections": [],
      "authorship_tag": "ABX9TyMBUjy7furz09XiuDd8HEpS",
      "include_colab_link": true
    },
    "kernelspec": {
      "name": "python3",
      "display_name": "Python 3"
    },
    "language_info": {
      "name": "python"
    },
    "accelerator": "GPU"
  },
  "cells": [
    {
      "cell_type": "markdown",
      "metadata": {
        "id": "view-in-github",
        "colab_type": "text"
      },
      "source": [
        "<a href=\"https://colab.research.google.com/github/ParkSlingshot/-/blob/main/Textclassfication_TFhub_Transfer.ipynb\" target=\"_parent\"><img src=\"https://colab.research.google.com/assets/colab-badge.svg\" alt=\"Open In Colab\"/></a>"
      ]
    },
    {
      "cell_type": "code",
      "metadata": {
        "id": "XfdblgmDK2DB"
      },
      "source": [
        "#Ready \n",
        "import tensorflow as tf\n",
        "from tensorflow import keras\n",
        "!pip install -q tensorflow -hub\n",
        "!pip install -q tfds -nightly\n",
        "import tensorflow_hub as hub\n",
        "import tensorflow_datasets as tfds\n",
        "from tensorflow.keras.layers import Dense\n",
        "print('GPU', 'On' if tf.config.experimental.list_physical_devices(\"GPU\") else 'off')"
      ],
      "execution_count": null,
      "outputs": []
    },
    {
      "cell_type": "code",
      "metadata": {
        "id": "Wtivdl5SLpdg"
      },
      "source": [
        "#Data setting\n",
        "train_data, validation_data, test_data = tfds.load(\n",
        "    name = 'imdb_reviews', split = ('train[:60%]', 'train[60%:]', 'test'), as_supervised = True\n",
        ")"
      ],
      "execution_count": null,
      "outputs": []
    },
    {
      "cell_type": "code",
      "metadata": {
        "id": "suSJGSJNTqaO"
      },
      "source": [
        "train_examples_batch, train_labels_bathc = next(iter(train_data.batch(10)))"
      ],
      "execution_count": null,
      "outputs": []
    },
    {
      "cell_type": "markdown",
      "metadata": {
        "id": "AzNUD8MTULXO"
      },
      "source": [
        "#Modeling"
      ]
    },
    {
      "cell_type": "code",
      "metadata": {
        "id": "rb7ZNZjWUPUQ"
      },
      "source": [
        "embedding = \"https://tfhub.dev/google/tf2-preview/gnews-swivel-20dim/1\"\n",
        "hub_layer = hub.KerasLayer(embedding, input_shape=[], dtype = tf.string, trainable=True)\n",
        "hub_layer (train_examples_batch[:5])\n",
        "model = keras.Sequential()\n",
        "model.add(hub_layer)\n",
        "model.add(Dense(16, activation='relu'))\n",
        "model.add(Dense(1, activation='sigmoid'))\n",
        "model.summary()"
      ],
      "execution_count": null,
      "outputs": []
    },
    {
      "cell_type": "code",
      "metadata": {
        "id": "nSftCxIvWNcW"
      },
      "source": [
        "model.compile(optimizer='Adam', loss=keras.losses.BinaryCrossentropy(from_logits=True), metrics=['accuracy'])"
      ],
      "execution_count": null,
      "outputs": []
    },
    {
      "cell_type": "code",
      "metadata": {
        "id": "6pQXjcv8WdMI"
      },
      "source": [
        "history = model.fit(train_data.shuffle(10000).batch(512), epochs=20, validation_data=validation_data.batch(512))"
      ],
      "execution_count": null,
      "outputs": []
    },
    {
      "cell_type": "code",
      "metadata": {
        "id": "iKJkqY0CWrjB"
      },
      "source": [
        "loss, acc = model.evaluate(test_data.batch(512))\n",
        "print('Loss : %.5f  Accuracy : %.5f' %(loss, acc))"
      ],
      "execution_count": null,
      "outputs": []
    }
  ]
}