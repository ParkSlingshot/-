{
  "nbformat": 4,
  "nbformat_minor": 0,
  "metadata": {
    "colab": {
      "name": "Data with Pandas.ipynb",
      "provenance": [],
      "authorship_tag": "ABX9TyP5WD8YIOhk4LCRQHEKGdBc",
      "include_colab_link": true
    },
    "kernelspec": {
      "name": "python3",
      "display_name": "Python 3"
    },
    "language_info": {
      "name": "python"
    }
  },
  "cells": [
    {
      "cell_type": "markdown",
      "metadata": {
        "id": "view-in-github",
        "colab_type": "text"
      },
      "source": [
        "<a href=\"https://colab.research.google.com/github/ParkSlingshot/-/blob/main/Data_with_Pandas.ipynb\" target=\"_parent\"><img src=\"https://colab.research.google.com/assets/colab-badge.svg\" alt=\"Open In Colab\"/></a>"
      ]
    },
    {
      "cell_type": "markdown",
      "metadata": {
        "id": "vLJhGGwqsG4o"
      },
      "source": [
        "#1. Mount Gdrive"
      ]
    },
    {
      "cell_type": "code",
      "metadata": {
        "colab": {
          "base_uri": "https://localhost:8080/"
        },
        "id": "Lne-NtSYzKk3",
        "outputId": "270712c8-0ffc-4592-fea6-f49799dc3e13"
      },
      "source": [
        "from google.colab import drive\n",
        "drive.mount('/gdrive')"
      ],
      "execution_count": 3,
      "outputs": [
        {
          "output_type": "stream",
          "text": [
            "Mounted at /gdrive\n"
          ],
          "name": "stdout"
        }
      ]
    },
    {
      "cell_type": "markdown",
      "metadata": {
        "id": "Y6LbvkXazfNo"
      },
      "source": [
        "#2. Load Data"
      ]
    },
    {
      "cell_type": "code",
      "metadata": {
        "id": "IfANnnafz1U3"
      },
      "source": [
        "import pandas as pd"
      ],
      "execution_count": 4,
      "outputs": []
    },
    {
      "cell_type": "code",
      "metadata": {
        "id": "N7tb-UrOziMp"
      },
      "source": [
        "file='/gdrive/MyDrive/data/2021년_1월_영업소간_통행시간.csv'"
      ],
      "execution_count": 5,
      "outputs": []
    },
    {
      "cell_type": "code",
      "metadata": {
        "id": "umV5w2Zxzt_M"
      },
      "source": [
        "data=pd.read_csv(file,sep=\",\",encoding=\"euc-kr\")"
      ],
      "execution_count": 6,
      "outputs": []
    },
    {
      "cell_type": "markdown",
      "metadata": {
        "id": "QVXIso7B0qf7"
      },
      "source": [
        "#3.Clean Data"
      ]
    },
    {
      "cell_type": "code",
      "metadata": {
        "colab": {
          "base_uri": "https://localhost:8080/"
        },
        "id": "Esh9yCQy0K_B",
        "outputId": "9a4c9ef2-81c7-42c2-e395-c6ff58dbddf1"
      },
      "source": [
        "data.isnull().sum(axis=0)"
      ],
      "execution_count": 7,
      "outputs": [
        {
          "output_type": "execute_result",
          "data": {
            "text/plain": [
              "집계일자                 0\n",
              "집계시                  0\n",
              "출발영업소코드              0\n",
              "도착영업소코드              0\n",
              "TCS차종구분코드            0\n",
              "통행시간                 0\n",
              "Unnamed: 6    24767718\n",
              "dtype: int64"
            ]
          },
          "metadata": {
            "tags": []
          },
          "execution_count": 7
        }
      ]
    },
    {
      "cell_type": "code",
      "metadata": {
        "colab": {
          "base_uri": "https://localhost:8080/"
        },
        "id": "Vvbcox8N0WWe",
        "outputId": "83bd858b-5bdf-43a2-863f-6ab312d7ed26"
      },
      "source": [
        "data.columns"
      ],
      "execution_count": 8,
      "outputs": [
        {
          "output_type": "execute_result",
          "data": {
            "text/plain": [
              "Index(['집계일자', '집계시', '출발영업소코드', '도착영업소코드', 'TCS차종구분코드', '통행시간', 'Unnamed: 6'], dtype='object')"
            ]
          },
          "metadata": {
            "tags": []
          },
          "execution_count": 8
        }
      ]
    },
    {
      "cell_type": "code",
      "metadata": {
        "id": "Pr41eZ1k19vq"
      },
      "source": [
        "cleandata=data.drop(['Unnamed: 6'],axis='columns')"
      ],
      "execution_count": 9,
      "outputs": []
    },
    {
      "cell_type": "code",
      "metadata": {
        "colab": {
          "base_uri": "https://localhost:8080/",
          "height": 203
        },
        "id": "oRjtEJUr2SWH",
        "outputId": "ca5cf723-316d-4a94-fae8-72d355d6940d"
      },
      "source": [
        "cleandata.head()"
      ],
      "execution_count": 10,
      "outputs": [
        {
          "output_type": "execute_result",
          "data": {
            "text/html": [
              "<div>\n",
              "<style scoped>\n",
              "    .dataframe tbody tr th:only-of-type {\n",
              "        vertical-align: middle;\n",
              "    }\n",
              "\n",
              "    .dataframe tbody tr th {\n",
              "        vertical-align: top;\n",
              "    }\n",
              "\n",
              "    .dataframe thead th {\n",
              "        text-align: right;\n",
              "    }\n",
              "</style>\n",
              "<table border=\"1\" class=\"dataframe\">\n",
              "  <thead>\n",
              "    <tr style=\"text-align: right;\">\n",
              "      <th></th>\n",
              "      <th>집계일자</th>\n",
              "      <th>집계시</th>\n",
              "      <th>출발영업소코드</th>\n",
              "      <th>도착영업소코드</th>\n",
              "      <th>TCS차종구분코드</th>\n",
              "      <th>통행시간</th>\n",
              "    </tr>\n",
              "  </thead>\n",
              "  <tbody>\n",
              "    <tr>\n",
              "      <th>0</th>\n",
              "      <td>20210101</td>\n",
              "      <td>18</td>\n",
              "      <td>0</td>\n",
              "      <td>101</td>\n",
              "      <td>1</td>\n",
              "      <td>-1</td>\n",
              "    </tr>\n",
              "    <tr>\n",
              "      <th>1</th>\n",
              "      <td>20210101</td>\n",
              "      <td>18</td>\n",
              "      <td>0</td>\n",
              "      <td>101</td>\n",
              "      <td>3</td>\n",
              "      <td>-1</td>\n",
              "    </tr>\n",
              "    <tr>\n",
              "      <th>2</th>\n",
              "      <td>20210101</td>\n",
              "      <td>18</td>\n",
              "      <td>0</td>\n",
              "      <td>101</td>\n",
              "      <td>4</td>\n",
              "      <td>-1</td>\n",
              "    </tr>\n",
              "    <tr>\n",
              "      <th>3</th>\n",
              "      <td>20210101</td>\n",
              "      <td>9</td>\n",
              "      <td>0</td>\n",
              "      <td>101</td>\n",
              "      <td>3</td>\n",
              "      <td>-1</td>\n",
              "    </tr>\n",
              "    <tr>\n",
              "      <th>4</th>\n",
              "      <td>20210101</td>\n",
              "      <td>9</td>\n",
              "      <td>0</td>\n",
              "      <td>101</td>\n",
              "      <td>2</td>\n",
              "      <td>-1</td>\n",
              "    </tr>\n",
              "  </tbody>\n",
              "</table>\n",
              "</div>"
            ],
            "text/plain": [
              "       집계일자  집계시  출발영업소코드  도착영업소코드  TCS차종구분코드  통행시간\n",
              "0  20210101   18        0      101          1    -1\n",
              "1  20210101   18        0      101          3    -1\n",
              "2  20210101   18        0      101          4    -1\n",
              "3  20210101    9        0      101          3    -1\n",
              "4  20210101    9        0      101          2    -1"
            ]
          },
          "metadata": {
            "tags": []
          },
          "execution_count": 10
        }
      ]
    },
    {
      "cell_type": "code",
      "metadata": {
        "id": "YYiArWPk2WEI"
      },
      "source": [
        "data=cleandata[cleandata.통행시간>0]"
      ],
      "execution_count": 11,
      "outputs": []
    },
    {
      "cell_type": "code",
      "metadata": {
        "colab": {
          "base_uri": "https://localhost:8080/",
          "height": 203
        },
        "id": "ktSCbrOT2hT7",
        "outputId": "33117611-8fcd-4e45-a149-81726de6fc50"
      },
      "source": [
        "data.head()"
      ],
      "execution_count": 12,
      "outputs": [
        {
          "output_type": "execute_result",
          "data": {
            "text/html": [
              "<div>\n",
              "<style scoped>\n",
              "    .dataframe tbody tr th:only-of-type {\n",
              "        vertical-align: middle;\n",
              "    }\n",
              "\n",
              "    .dataframe tbody tr th {\n",
              "        vertical-align: top;\n",
              "    }\n",
              "\n",
              "    .dataframe thead th {\n",
              "        text-align: right;\n",
              "    }\n",
              "</style>\n",
              "<table border=\"1\" class=\"dataframe\">\n",
              "  <thead>\n",
              "    <tr style=\"text-align: right;\">\n",
              "      <th></th>\n",
              "      <th>집계일자</th>\n",
              "      <th>집계시</th>\n",
              "      <th>출발영업소코드</th>\n",
              "      <th>도착영업소코드</th>\n",
              "      <th>TCS차종구분코드</th>\n",
              "      <th>통행시간</th>\n",
              "    </tr>\n",
              "  </thead>\n",
              "  <tbody>\n",
              "    <tr>\n",
              "      <th>7684</th>\n",
              "      <td>20210101</td>\n",
              "      <td>21</td>\n",
              "      <td>101</td>\n",
              "      <td>102</td>\n",
              "      <td>3</td>\n",
              "      <td>617</td>\n",
              "    </tr>\n",
              "    <tr>\n",
              "      <th>7686</th>\n",
              "      <td>20210101</td>\n",
              "      <td>21</td>\n",
              "      <td>101</td>\n",
              "      <td>102</td>\n",
              "      <td>1</td>\n",
              "      <td>601</td>\n",
              "    </tr>\n",
              "    <tr>\n",
              "      <th>7687</th>\n",
              "      <td>20210101</td>\n",
              "      <td>21</td>\n",
              "      <td>101</td>\n",
              "      <td>102</td>\n",
              "      <td>2</td>\n",
              "      <td>644</td>\n",
              "    </tr>\n",
              "    <tr>\n",
              "      <th>7688</th>\n",
              "      <td>20210101</td>\n",
              "      <td>21</td>\n",
              "      <td>101</td>\n",
              "      <td>102</td>\n",
              "      <td>6</td>\n",
              "      <td>600</td>\n",
              "    </tr>\n",
              "    <tr>\n",
              "      <th>7689</th>\n",
              "      <td>20210101</td>\n",
              "      <td>17</td>\n",
              "      <td>101</td>\n",
              "      <td>102</td>\n",
              "      <td>3</td>\n",
              "      <td>612</td>\n",
              "    </tr>\n",
              "  </tbody>\n",
              "</table>\n",
              "</div>"
            ],
            "text/plain": [
              "          집계일자  집계시  출발영업소코드  도착영업소코드  TCS차종구분코드  통행시간\n",
              "7684  20210101   21      101      102          3   617\n",
              "7686  20210101   21      101      102          1   601\n",
              "7687  20210101   21      101      102          2   644\n",
              "7688  20210101   21      101      102          6   600\n",
              "7689  20210101   17      101      102          3   612"
            ]
          },
          "metadata": {
            "tags": []
          },
          "execution_count": 12
        }
      ]
    },
    {
      "cell_type": "markdown",
      "metadata": {
        "id": "qPtyufdT4sr_"
      },
      "source": [
        "#4.Select Data\n",
        "101서울, 105기흥, 110목천, 115대전, 120황간, 125남구미, 130동김천, 135경주, 140부산"
      ]
    },
    {
      "cell_type": "code",
      "metadata": {
        "id": "usXXAyzUSW73"
      },
      "source": [
        "df_data=pd.DataFrame(data,columns=['집계일자', '집계시', '출발영업소코드', '도착영업소코드', '통행시간'])"
      ],
      "execution_count": 18,
      "outputs": []
    },
    {
      "cell_type": "code",
      "metadata": {
        "id": "xvefpZ7IS11p",
        "outputId": "c85b1c0a-2539-4e3d-f2f9-afd09a8a25b8",
        "colab": {
          "base_uri": "https://localhost:8080/",
          "height": 203
        }
      },
      "source": [
        "df_data.head()"
      ],
      "execution_count": 19,
      "outputs": [
        {
          "output_type": "execute_result",
          "data": {
            "text/html": [
              "<div>\n",
              "<style scoped>\n",
              "    .dataframe tbody tr th:only-of-type {\n",
              "        vertical-align: middle;\n",
              "    }\n",
              "\n",
              "    .dataframe tbody tr th {\n",
              "        vertical-align: top;\n",
              "    }\n",
              "\n",
              "    .dataframe thead th {\n",
              "        text-align: right;\n",
              "    }\n",
              "</style>\n",
              "<table border=\"1\" class=\"dataframe\">\n",
              "  <thead>\n",
              "    <tr style=\"text-align: right;\">\n",
              "      <th></th>\n",
              "      <th>집계일자</th>\n",
              "      <th>집계시</th>\n",
              "      <th>출발영업소코드</th>\n",
              "      <th>도착영업소코드</th>\n",
              "      <th>통행시간</th>\n",
              "    </tr>\n",
              "  </thead>\n",
              "  <tbody>\n",
              "    <tr>\n",
              "      <th>7684</th>\n",
              "      <td>20210101</td>\n",
              "      <td>21</td>\n",
              "      <td>101</td>\n",
              "      <td>102</td>\n",
              "      <td>617</td>\n",
              "    </tr>\n",
              "    <tr>\n",
              "      <th>7686</th>\n",
              "      <td>20210101</td>\n",
              "      <td>21</td>\n",
              "      <td>101</td>\n",
              "      <td>102</td>\n",
              "      <td>601</td>\n",
              "    </tr>\n",
              "    <tr>\n",
              "      <th>7687</th>\n",
              "      <td>20210101</td>\n",
              "      <td>21</td>\n",
              "      <td>101</td>\n",
              "      <td>102</td>\n",
              "      <td>644</td>\n",
              "    </tr>\n",
              "    <tr>\n",
              "      <th>7688</th>\n",
              "      <td>20210101</td>\n",
              "      <td>21</td>\n",
              "      <td>101</td>\n",
              "      <td>102</td>\n",
              "      <td>600</td>\n",
              "    </tr>\n",
              "    <tr>\n",
              "      <th>7689</th>\n",
              "      <td>20210101</td>\n",
              "      <td>17</td>\n",
              "      <td>101</td>\n",
              "      <td>102</td>\n",
              "      <td>612</td>\n",
              "    </tr>\n",
              "  </tbody>\n",
              "</table>\n",
              "</div>"
            ],
            "text/plain": [
              "          집계일자  집계시  출발영업소코드  도착영업소코드  통행시간\n",
              "7684  20210101   21      101      102   617\n",
              "7686  20210101   21      101      102   601\n",
              "7687  20210101   21      101      102   644\n",
              "7688  20210101   21      101      102   600\n",
              "7689  20210101   17      101      102   612"
            ]
          },
          "metadata": {
            "tags": []
          },
          "execution_count": 19
        }
      ]
    },
    {
      "cell_type": "code",
      "metadata": {
        "id": "CAV1c8AsS87N"
      },
      "source": [
        "data=df_data"
      ],
      "execution_count": 21,
      "outputs": []
    },
    {
      "cell_type": "code",
      "metadata": {
        "id": "Gv9WLmt1TDGO"
      },
      "source": [
        "long_distance=data.통행시간>700"
      ],
      "execution_count": 29,
      "outputs": []
    },
    {
      "cell_type": "code",
      "metadata": {
        "id": "824xqQNITL9W"
      },
      "source": [
        "start_seoul=data[data.출발영업소코드==101]"
      ],
      "execution_count": 27,
      "outputs": []
    },
    {
      "cell_type": "code",
      "metadata": {
        "id": "95XLfbfZTkRX",
        "outputId": "0b26d650-4415-45ae-cbc9-da39882d730e",
        "colab": {
          "base_uri": "https://localhost:8080/",
          "height": 417
        }
      },
      "source": [
        "start_seoul"
      ],
      "execution_count": 28,
      "outputs": [
        {
          "output_type": "execute_result",
          "data": {
            "text/html": [
              "<div>\n",
              "<style scoped>\n",
              "    .dataframe tbody tr th:only-of-type {\n",
              "        vertical-align: middle;\n",
              "    }\n",
              "\n",
              "    .dataframe tbody tr th {\n",
              "        vertical-align: top;\n",
              "    }\n",
              "\n",
              "    .dataframe thead th {\n",
              "        text-align: right;\n",
              "    }\n",
              "</style>\n",
              "<table border=\"1\" class=\"dataframe\">\n",
              "  <thead>\n",
              "    <tr style=\"text-align: right;\">\n",
              "      <th></th>\n",
              "      <th>집계일자</th>\n",
              "      <th>집계시</th>\n",
              "      <th>출발영업소코드</th>\n",
              "      <th>도착영업소코드</th>\n",
              "      <th>통행시간</th>\n",
              "    </tr>\n",
              "  </thead>\n",
              "  <tbody>\n",
              "    <tr>\n",
              "      <th>7684</th>\n",
              "      <td>20210101</td>\n",
              "      <td>21</td>\n",
              "      <td>101</td>\n",
              "      <td>102</td>\n",
              "      <td>617</td>\n",
              "    </tr>\n",
              "    <tr>\n",
              "      <th>7686</th>\n",
              "      <td>20210101</td>\n",
              "      <td>21</td>\n",
              "      <td>101</td>\n",
              "      <td>102</td>\n",
              "      <td>601</td>\n",
              "    </tr>\n",
              "    <tr>\n",
              "      <th>7687</th>\n",
              "      <td>20210101</td>\n",
              "      <td>21</td>\n",
              "      <td>101</td>\n",
              "      <td>102</td>\n",
              "      <td>644</td>\n",
              "    </tr>\n",
              "    <tr>\n",
              "      <th>7688</th>\n",
              "      <td>20210101</td>\n",
              "      <td>21</td>\n",
              "      <td>101</td>\n",
              "      <td>102</td>\n",
              "      <td>600</td>\n",
              "    </tr>\n",
              "    <tr>\n",
              "      <th>7689</th>\n",
              "      <td>20210101</td>\n",
              "      <td>17</td>\n",
              "      <td>101</td>\n",
              "      <td>102</td>\n",
              "      <td>612</td>\n",
              "    </tr>\n",
              "    <tr>\n",
              "      <th>...</th>\n",
              "      <td>...</td>\n",
              "      <td>...</td>\n",
              "      <td>...</td>\n",
              "      <td>...</td>\n",
              "      <td>...</td>\n",
              "    </tr>\n",
              "    <tr>\n",
              "      <th>24767215</th>\n",
              "      <td>20210131</td>\n",
              "      <td>18</td>\n",
              "      <td>101</td>\n",
              "      <td>620</td>\n",
              "      <td>12498</td>\n",
              "    </tr>\n",
              "    <tr>\n",
              "      <th>24767219</th>\n",
              "      <td>20210131</td>\n",
              "      <td>8</td>\n",
              "      <td>101</td>\n",
              "      <td>556</td>\n",
              "      <td>13091</td>\n",
              "    </tr>\n",
              "    <tr>\n",
              "      <th>24767332</th>\n",
              "      <td>20210131</td>\n",
              "      <td>16</td>\n",
              "      <td>101</td>\n",
              "      <td>741</td>\n",
              "      <td>1847</td>\n",
              "    </tr>\n",
              "    <tr>\n",
              "      <th>24767427</th>\n",
              "      <td>20210131</td>\n",
              "      <td>21</td>\n",
              "      <td>101</td>\n",
              "      <td>224</td>\n",
              "      <td>10449</td>\n",
              "    </tr>\n",
              "    <tr>\n",
              "      <th>24767586</th>\n",
              "      <td>20210131</td>\n",
              "      <td>16</td>\n",
              "      <td>101</td>\n",
              "      <td>107</td>\n",
              "      <td>2009</td>\n",
              "    </tr>\n",
              "  </tbody>\n",
              "</table>\n",
              "<p>254619 rows × 5 columns</p>\n",
              "</div>"
            ],
            "text/plain": [
              "              집계일자  집계시  출발영업소코드  도착영업소코드   통행시간\n",
              "7684      20210101   21      101      102    617\n",
              "7686      20210101   21      101      102    601\n",
              "7687      20210101   21      101      102    644\n",
              "7688      20210101   21      101      102    600\n",
              "7689      20210101   17      101      102    612\n",
              "...            ...  ...      ...      ...    ...\n",
              "24767215  20210131   18      101      620  12498\n",
              "24767219  20210131    8      101      556  13091\n",
              "24767332  20210131   16      101      741   1847\n",
              "24767427  20210131   21      101      224  10449\n",
              "24767586  20210131   16      101      107   2009\n",
              "\n",
              "[254619 rows x 5 columns]"
            ]
          },
          "metadata": {
            "tags": []
          },
          "execution_count": 28
        }
      ]
    },
    {
      "cell_type": "code",
      "metadata": {
        "id": "cDbR6RhwTvMh"
      },
      "source": [
        "#101서울, 105기흥, 110목천, 115대전, 120황간, 125남구미, 130동김천, 135경주, 140부산\n",
        "start_101_to_140=[start_seoul['도착영업소코드'].isin([105,110,115,120,125,130,135,140])]"
      ],
      "execution_count": 34,
      "outputs": []
    }
  ]
}