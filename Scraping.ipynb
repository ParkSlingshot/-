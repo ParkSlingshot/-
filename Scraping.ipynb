{
  "nbformat": 4,
  "nbformat_minor": 0,
  "metadata": {
    "colab": {
      "name": "Scraping.ipynb",
      "provenance": [],
      "authorship_tag": "ABX9TyMEpw58beRzoge/K24FnKxl",
      "include_colab_link": true
    },
    "kernelspec": {
      "name": "python3",
      "display_name": "Python 3"
    },
    "language_info": {
      "name": "python"
    }
  },
  "cells": [
    {
      "cell_type": "markdown",
      "metadata": {
        "id": "view-in-github",
        "colab_type": "text"
      },
      "source": [
        "<a href=\"https://colab.research.google.com/github/ParkSlingshot/-/blob/main/Scraping.ipynb\" target=\"_parent\"><img src=\"https://colab.research.google.com/assets/colab-badge.svg\" alt=\"Open In Colab\"/></a>"
      ]
    },
    {
      "cell_type": "markdown",
      "metadata": {
        "id": "OmNrf69PVxp2"
      },
      "source": [
        "부산도시철도 역별 승객수\n"
      ]
    },
    {
      "cell_type": "markdown",
      "metadata": {
        "id": "UKGjkiLLL-TD"
      },
      "source": [
        "#Scraping -> Parsing -> Manipulation\n",
        "\n",
        "pasing : from bs4 import Beautiful soapz"
      ]
    },
    {
      "cell_type": "code",
      "metadata": {
        "id": "3ZyejGy6PsHo"
      },
      "source": [
        "import requests\n",
        "url=\"http://www.kric.go.kr/jsp/industry/rss/citystapassList.jsp?q_fdate=2021&q_org_cd=A010010023\""
      ],
      "execution_count": null,
      "outputs": []
    },
    {
      "cell_type": "code",
      "metadata": {
        "id": "yMDO8nYlP4W-"
      },
      "source": [
        " html_text= requests.get(url).text #페이지의 소스 코드 가져오기\n",
        " "
      ],
      "execution_count": null,
      "outputs": []
    },
    {
      "cell_type": "markdown",
      "metadata": {
        "id": "MqIOnhwRQd-D"
      },
      "source": [
        "#parsing"
      ]
    },
    {
      "cell_type": "code",
      "metadata": {
        "id": "a4ky5REbQXIs"
      },
      "source": [
        "from bs4 import BeautifulSoup"
      ],
      "execution_count": null,
      "outputs": []
    },
    {
      "cell_type": "code",
      "metadata": {
        "id": "WsWJbM3EQtZ_"
      },
      "source": [
        "soup = BeautifulSoup(html_text,\"html.parser\")\n",
        "print(soup)"
      ],
      "execution_count": null,
      "outputs": []
    },
    {
      "cell_type": "markdown",
      "metadata": {
        "id": "BLetOc5qRdLN"
      },
      "source": [
        "#Manipulation"
      ]
    },
    {
      "cell_type": "code",
      "metadata": {
        "id": "lcWij1xERg8o"
      },
      "source": [
        "table=soup.find(\"table\",{\"class\":\"listtbl_c100\"})"
      ],
      "execution_count": null,
      "outputs": []
    },
    {
      "cell_type": "code",
      "metadata": {
        "id": "_xREP7n4SfXR"
      },
      "source": [
        "print(table)"
      ],
      "execution_count": null,
      "outputs": []
    },
    {
      "cell_type": "code",
      "metadata": {
        "id": "zAt7udiDS4GV"
      },
      "source": [
        "trs=table.find(\"tbody\").find_all('tr')\n"
      ],
      "execution_count": null,
      "outputs": []
    },
    {
      "cell_type": "code",
      "metadata": {
        "id": "MOYnyD1xTt__"
      },
      "source": [
        "tdcols=trs[1].find(\"td\",{\"class\":\"tdcol\"})\n"
      ],
      "execution_count": null,
      "outputs": []
    },
    {
      "cell_type": "code",
      "metadata": {
        "id": "nuVvOvo3UL7D"
      },
      "source": [
        "tds=trs[1].find_all('td')\n"
      ],
      "execution_count": null,
      "outputs": []
    },
    {
      "cell_type": "code",
      "metadata": {
        "id": "TJyIagqEUzVS"
      },
      "source": [
        "stationpassengers=[]\n",
        "for tr in trs[1:]:\n",
        "  dic={}\n",
        "  tds=tr.find_all('td')\n",
        "  dic['station'] = tds[0].text\n",
        "  dic['ride'] = tds[2].text\n",
        "  dic['alight'] = tds[3].text\n",
        "  stationpassengers.append(dic)"
      ],
      "execution_count": 42,
      "outputs": []
    },
    {
      "cell_type": "code",
      "metadata": {
        "colab": {
          "base_uri": "https://localhost:8080/"
        },
        "id": "K09EHU0nVo8G",
        "outputId": "ebebf10c-b024-422c-e07d-e504a3f62fda"
      },
      "source": [
        "stationpassengers"
      ],
      "execution_count": 43,
      "outputs": [
        {
          "output_type": "execute_result",
          "data": {
            "text/plain": [
              "[{'alight': '865,489', 'ride': '872,377', 'station': '괴정역'},\n",
              " {'alight': '1,280,363', 'ride': '1,305,847', 'station': '교대앞역'},\n",
              " {'alight': '879,811', 'ride': '920,236', 'station': '구서동역'},\n",
              " {'alight': '505,627', 'ride': '545,618', 'station': '남산동역'},\n",
              " {'alight': '1,684,113', 'ride': '1,536,004', 'station': '남포동역'},\n",
              " {'alight': '1,073,237', 'ride': '1,094,239', 'station': '노포동역'},\n",
              " {'alight': '637,819', 'ride': '602,661', 'station': '당리역'},\n",
              " {'alight': '353,306', 'ride': '361,956', 'station': '대티역'},\n",
              " {'alight': '577,090', 'ride': '639,469', 'station': '동대신동역'},\n",
              " {'alight': '1,701,275', 'ride': '1,542,803', 'station': '동래역'},\n",
              " {'alight': '621,436', 'ride': '709,272', 'station': '두실역'},\n",
              " {'alight': '920,785', 'ride': '866,314', 'station': '명륜동역'},\n",
              " {'alight': '938,241', 'ride': '958,194', 'station': '범내골역'},\n",
              " {'alight': '639,209', 'ride': '786,780', 'station': '범어사역'}]"
            ]
          },
          "metadata": {
            "tags": []
          },
          "execution_count": 43
        }
      ]
    }
  ]
}