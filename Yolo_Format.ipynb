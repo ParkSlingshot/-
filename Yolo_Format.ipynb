{
  "nbformat": 4,
  "nbformat_minor": 0,
  "metadata": {
    "colab": {
      "name": "Yolo Format.ipynb",
      "provenance": [],
      "collapsed_sections": [],
      "authorship_tag": "ABX9TyOhnm193RIuQFZH5oH2kE27",
      "include_colab_link": true
    },
    "kernelspec": {
      "name": "python3",
      "display_name": "Python 3"
    },
    "language_info": {
      "name": "python"
    }
  },
  "cells": [
    {
      "cell_type": "markdown",
      "metadata": {
        "id": "view-in-github",
        "colab_type": "text"
      },
      "source": [
        "<a href=\"https://colab.research.google.com/github/ParkSlingshot/-/blob/main/Yolo_Format.ipynb\" target=\"_parent\"><img src=\"https://colab.research.google.com/assets/colab-badge.svg\" alt=\"Open In Colab\"/></a>"
      ]
    },
    {
      "cell_type": "code",
      "metadata": {
        "colab": {
          "base_uri": "https://localhost:8080/"
        },
        "id": "1JVY1kuTyiz9",
        "outputId": "99a5cdc9-1bbf-43b6-c325-e720d3b065f0"
      },
      "source": [
        "from google.colab import drive\n",
        "drive.mount('/gdrive')"
      ],
      "execution_count": 1,
      "outputs": [
        {
          "output_type": "stream",
          "name": "stdout",
          "text": [
            "Mounted at /gdrive\n"
          ]
        }
      ]
    },
    {
      "cell_type": "code",
      "metadata": {
        "id": "A3yLmSI8y2l4"
      },
      "source": [
        "DATA_PATH = '/custom'\n",
        "COLAB_YOLO_PATH = '/gdrive/MyDrive/yolo'\n",
        "YOLO_PATH = COLAB_YOLO_PATH + DATA_PATH "
      ],
      "execution_count": 11,
      "outputs": []
    },
    {
      "cell_type": "code",
      "metadata": {
        "id": "m0fn0tK0zP3C"
      },
      "source": [
        "class_count = 0\n",
        "test_persantage = 0.2\n",
        "paths = []"
      ],
      "execution_count": 4,
      "outputs": []
    },
    {
      "cell_type": "code",
      "metadata": {
        "colab": {
          "base_uri": "https://localhost:8080/"
        },
        "id": "D0R9Pc4RzVX3",
        "outputId": "99a71ffe-ca7a-494b-8468-5cfcfe8aed53"
      },
      "source": [
        "with open(YOLO_PATH + '/' + 'classes.names', 'w') as names , open(YOLO_PATH + '/' + 'classes.txt', 'r') as text:\n",
        "     for line in text:\n",
        "       names.write(line)\n",
        "       class_count+=1\n",
        "     print('[classes.names] is created')\n"
      ],
      "execution_count": 13,
      "outputs": [
        {
          "output_type": "stream",
          "name": "stdout",
          "text": [
            "[classes.names] is created\n"
          ]
        }
      ]
    },
    {
      "cell_type": "code",
      "metadata": {
        "colab": {
          "base_uri": "https://localhost:8080/"
        },
        "id": "nrpjPey20i94",
        "outputId": "71d40910-5ae7-4c34-80e8-0bb45e8efdd2"
      },
      "source": [
        "with open(YOLO_PATH + '/' 'custom_data.data', 'w') as data:\n",
        "  data.write('classes = ' + str(class_count) + '\\n')\n",
        "  data.write('train  = ' + YOLO_PATH + '/' + 'train.txt' + '\\n')\n",
        "  data.write('valid  = ' + YOLO_PATH + '/' + 'test.txt' + '\\n')\n",
        "  data.write('classes  = ' + YOLO_PATH + '/' + 'classes.names' + '\\n')\n",
        "  data.write('backup = backup')\n",
        "  print('[custom_data.data] is created')"
      ],
      "execution_count": 16,
      "outputs": [
        {
          "output_type": "stream",
          "name": "stdout",
          "text": [
            "[custom_data.data] is created\n"
          ]
        }
      ]
    }
  ]
}