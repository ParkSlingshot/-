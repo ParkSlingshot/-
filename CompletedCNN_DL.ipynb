{
  "nbformat": 4,
  "nbformat_minor": 0,
  "metadata": {
    "colab": {
      "name": "CompletedCNN_DL.ipynb",
      "provenance": [],
      "collapsed_sections": [],
      "authorship_tag": "ABX9TyOEpRZZl7baRAUokYUxa1TE",
      "include_colab_link": true
    },
    "kernelspec": {
      "name": "python3",
      "display_name": "Python 3"
    },
    "language_info": {
      "name": "python"
    }
  },
  "cells": [
    {
      "cell_type": "markdown",
      "metadata": {
        "id": "view-in-github",
        "colab_type": "text"
      },
      "source": [
        "<a href=\"https://colab.research.google.com/github/ParkSlingshot/-/blob/main/CompletedCNN_DL.ipynb\" target=\"_parent\"><img src=\"https://colab.research.google.com/assets/colab-badge.svg\" alt=\"Open In Colab\"/></a>"
      ]
    },
    {
      "cell_type": "code",
      "metadata": {
        "id": "KK77cbXgBNRR"
      },
      "source": [
        "#IMPORT LIBRARY\n",
        "import tensorflow as tf\n",
        "from tensorflow import keras\n",
        "from tensorflow.keras.layers import Dropout, Flatten, Dense, Reshape, Conv2D, MaxPooling2D\n",
        "import math\n",
        "import matplotlib.pyplot as plt\n",
        "import numpy as np\n"
      ],
      "execution_count": null,
      "outputs": []
    },
    {
      "cell_type": "markdown",
      "metadata": {
        "id": "IbFJaTRSPrky"
      },
      "source": [
        ""
      ]
    },
    {
      "cell_type": "code",
      "metadata": {
        "id": "hfH059tCCp-i"
      },
      "source": [
        "#DEFINE CONSTANTS\n",
        "batch_size = 128\n",
        "epochs = 10000"
      ],
      "execution_count": null,
      "outputs": []
    },
    {
      "cell_type": "code",
      "metadata": {
        "id": "h5BI5EasC6eJ"
      },
      "source": [
        "#DOWNLOAD MNIST DATASET\n",
        "mnist = keras.datasets.mnist\n",
        "(train_images, train_labels),(test_images, test_labels) = mnist.load_data()"
      ],
      "execution_count": null,
      "outputs": []
    },
    {
      "cell_type": "code",
      "metadata": {
        "id": "rCqYKL7rDH5M"
      },
      "source": [
        "#NORMALIZATION\n",
        "test_images = test_images/255.0\n",
        "train_images = train_images/255.0\n"
      ],
      "execution_count": null,
      "outputs": []
    },
    {
      "cell_type": "code",
      "metadata": {
        "id": "UHNaNo9GDSzQ"
      },
      "source": [
        "#MODELING\n",
        "model = keras.Sequential([\n",
        "                          Flatten(input_shape = (28,28)),\n",
        "                          Reshape(target_shape=(28,28,1)),\n",
        "                          Conv2D(filters=32, kernel_size=(3,3), activation=tf.nn.relu),\n",
        "                          Conv2D(filters=64, kernel_size=(3,3), activation =tf.nn.relu),\n",
        "                          MaxPooling2D(pool_size=(2,2)),\n",
        "                          Dropout(0.5),\n",
        "                          Flatten(input_shape=(28,28)),\n",
        "                          Dense(128, activation = tf.nn.relu),\n",
        "                          Dropout(0.5),\n",
        "                          Dense(10, activation='softmax')\n",
        "\n",
        "])\n",
        "model.compile(optimizer='Adam',\n",
        "              loss=keras.losses.SparseCategoricalCrossentropy(from_logits=True),\n",
        "              metrics=['accuracy'])"
      ],
      "execution_count": null,
      "outputs": []
    },
    {
      "cell_type": "code",
      "metadata": {
        "colab": {
          "base_uri": "https://localhost:8080/"
        },
        "id": "m939qt3iEbj6",
        "outputId": "fab353ae-8b66-4ea5-d492-60205a69c276"
      },
      "source": [
        "#MODEL SUMMARY\n",
        "model.summary()"
      ],
      "execution_count": null,
      "outputs": [
        {
          "output_type": "stream",
          "text": [
            "Model: \"sequential\"\n",
            "_________________________________________________________________\n",
            "Layer (type)                 Output Shape              Param #   \n",
            "=================================================================\n",
            "flatten (Flatten)            (None, 784)               0         \n",
            "_________________________________________________________________\n",
            "reshape (Reshape)            (None, 28, 28, 1)         0         \n",
            "_________________________________________________________________\n",
            "conv2d (Conv2D)              (None, 26, 26, 32)        320       \n",
            "_________________________________________________________________\n",
            "conv2d_1 (Conv2D)            (None, 24, 24, 64)        18496     \n",
            "_________________________________________________________________\n",
            "max_pooling2d (MaxPooling2D) (None, 12, 12, 64)        0         \n",
            "_________________________________________________________________\n",
            "dropout (Dropout)            (None, 12, 12, 64)        0         \n",
            "_________________________________________________________________\n",
            "flatten_1 (Flatten)          (None, 9216)              0         \n",
            "_________________________________________________________________\n",
            "dense (Dense)                (None, 128)               1179776   \n",
            "_________________________________________________________________\n",
            "dropout_1 (Dropout)          (None, 128)               0         \n",
            "_________________________________________________________________\n",
            "dense_1 (Dense)              (None, 10)                1290      \n",
            "=================================================================\n",
            "Total params: 1,199,882\n",
            "Trainable params: 1,199,882\n",
            "Non-trainable params: 0\n",
            "_________________________________________________________________\n"
          ],
          "name": "stdout"
        }
      ]
    },
    {
      "cell_type": "code",
      "metadata": {
        "id": "ZOu_oxfeGT01"
      },
      "source": [
        "filepath = 'digits_model.h5'\n",
        "modelCheckpoint = keras.callbacks.ModelCheckpoint(filepath=filepath, save_best_only=True)"
      ],
      "execution_count": null,
      "outputs": []
    },
    {
      "cell_type": "code",
      "metadata": {
        "colab": {
          "base_uri": "https://localhost:8080/"
        },
        "id": "jFqK6RRpEkET",
        "outputId": "73642264-4315-4b75-c012-5006921595a3"
      },
      "source": [
        "#Fitting the model with Early Stopping\n",
        "Earlystop = keras.callbacks.EarlyStopping(monitor='val_loss', patience=5)\n",
        "history = model.fit(train_images, train_labels, validation_data = (test_images, test_labels), batch_size=batch_size, epochs=epochs, callbacks=[Earlystop,modelCheckpoint])"
      ],
      "execution_count": null,
      "outputs": [
        {
          "output_type": "stream",
          "text": [
            "469/469 [==============================] - 149s 318ms/step - loss: 0.0370 - accuracy: 0.9884 - val_loss: 0.0276 - val_accuracy: 0.9913\n",
            "Epoch 10/10000\n",
            "469/469 [==============================] - 149s 318ms/step - loss: 0.0346 - accuracy: 0.9880 - val_loss: 0.0268 - val_accuracy: 0.9922\n",
            "Epoch 11/10000\n",
            "469/469 [==============================] - 151s 323ms/step - loss: 0.0332 - accuracy: 0.9890 - val_loss: 0.0278 - val_accuracy: 0.9919\n",
            "Epoch 12/10000\n",
            "469/469 [==============================] - 156s 332ms/step - loss: 0.0309 - accuracy: 0.9898 - val_loss: 0.0269 - val_accuracy: 0.9908\n",
            "Epoch 13/10000\n",
            "469/469 [==============================] - 151s 321ms/step - loss: 0.0292 - accuracy: 0.9906 - val_loss: 0.0283 - val_accuracy: 0.9920\n"
          ],
          "name": "stdout"
        }
      ]
    },
    {
      "cell_type": "code",
      "metadata": {
        "colab": {
          "base_uri": "https://localhost:8080/"
        },
        "id": "d3SFruNqPVgI",
        "outputId": "62dacda0-84f1-4ea1-e8b8-7b9218687b6c"
      },
      "source": [
        "#EVALUATE THE MODEL WITH LOAD MODEL\n",
        "savefile = 'saved_digits.h5'\n",
        "model.save(savefile)\n",
        "load_model = keras.models.load_model(savefile)\n",
        "test_acc, test_val = load_model.evaluate(test_images, test_labels)\n",
        "print('Test Accuracy : ', test_acc)\n",
        "\n"
      ],
      "execution_count": null,
      "outputs": [
        {
          "output_type": "stream",
          "text": [
            "  4/313 [..............................] - ETA: 7s - loss: 0.0062 - accuracy: 1.0000 "
          ],
          "name": "stdout"
        },
        {
          "output_type": "stream",
          "text": [
            "/usr/local/lib/python3.7/dist-packages/keras/backend.py:4907: UserWarning: \"`sparse_categorical_crossentropy` received `from_logits=True`, but the `output` argument was produced by a sigmoid or softmax activation and thus does not represent logits. Was this intended?\"\n",
            "  '\"`sparse_categorical_crossentropy` received `from_logits=True`, but '\n"
          ],
          "name": "stderr"
        },
        {
          "output_type": "stream",
          "text": [
            "313/313 [==============================] - 7s 22ms/step - loss: 0.0283 - accuracy: 0.9920\n",
            "Test Accuracy :  0.02834543213248253\n"
          ],
          "name": "stdout"
        }
      ]
    },
    {
      "cell_type": "code",
      "metadata": {
        "id": "oipj4N2bMqzZ"
      },
      "source": [
        "#Helper function to display digit images\n",
        "\n",
        "def show_sample(images, labels, sample_count=25):\n",
        "  #create a Square with can fit{sample_count} images\n",
        "  grid_count = math.ceil(math.ceil(math.sqrt(sample_count)))\n",
        "  grid_count = min(grid_count, len(images), len(labels))\n",
        "  print(grid_count)\n",
        "  plt.figure(figsize=(2*grid_count, 2*grid_count))\n",
        "  for i in range(sample_count):\n",
        "    plt.subplot(grid_count, grid_count, i+1)\n",
        "    plt.xticks([])\n",
        "    plt.yticks([])\n",
        "    plt.grid(False)\n",
        "    plt.imshow(images[i], cmap=plt.cm.gray)\n",
        "    plt.xlabel(labels[i])\n",
        "  plt.show()"
      ],
      "execution_count": null,
      "outputs": []
    },
    {
      "cell_type": "code",
      "metadata": {
        "colab": {
          "base_uri": "https://localhost:8080/",
          "height": 606
        },
        "id": "Yc9Jec8lPp2y",
        "outputId": "1f65275c-6c93-45d8-adfe-481a0a8f69fa"
      },
      "source": [
        "#show the first 25images in the training Dataset\n",
        "show_sample(test_images, ['Label : %s' % label for label in test_labels])"
      ],
      "execution_count": null,
      "outputs": [
        {
          "output_type": "stream",
          "text": [
            "5\n"
          ],
          "name": "stdout"
        },
        {
          "output_type": "display_data",
          "data": {
            "image/png": "[encoded data removed]",
            "text/plain": [
              "<Figure size 720x720 with 25 Axes>"
            ]
          },
          "metadata": {}
        }
      ]
    },
    {
      "cell_type": "code",
      "metadata": {
        "colab": {
          "base_uri": "https://localhost:8080/",
          "height": 558
        },
        "id": "CwnNxQbPMrlp",
        "outputId": "75100965-0c9b-48c6-a1f3-9a5cea34fc47"
      },
      "source": [
        "fig,loss_ax = plt.subplots()\n",
        "fig,acc_ax = plt.subplots()\n",
        "\n",
        "loss_ax.plot(history.history['loss'], 'r-', label='train_loss')\n",
        "loss_ax.plot(history.history['val_loss'], 'r:', label='validation_loss')\n",
        "loss_ax.set_xlabel('iteration')\n",
        "loss_ax.set_ylabel('loss')\n",
        "\n",
        "acc_ax.plot(history.history['accuracy'], 'b-', label='test_acc')\n",
        "acc_ax.plot(history.history['val_accuracy'], 'b:', label='validation_acc')\n",
        "acc_ax.set_xlabel('iteration')\n",
        "acc_ax.set_ylabel('accracy')"
      ],
      "execution_count": null,
      "outputs": [
        {
          "output_type": "execute_result",
          "data": {
            "text/plain": [
              "Text(0, 0.5, 'accracy')"
            ]
          },
          "metadata": {},
          "execution_count": 21
        },
        {
          "output_type": "display_data",
          "data": {
            "image/png": "[encoded data removed]",
            "text/plain": [
              "<Figure size 432x288 with 1 Axes>"
            ]
          },
          "metadata": {
            "needs_background": "light"
          }
        },
        {
          "output_type": "display_data",
          "data": {
            "image/png": "[encoded data removed]",
            "text/plain": [
              "<Figure size 432x288 with 1 Axes>"
            ]
          },
          "metadata": {
            "needs_background": "light"
          }
        }
      ]
    }
  ]
}