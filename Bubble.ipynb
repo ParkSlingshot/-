{
  "nbformat": 4,
  "nbformat_minor": 0,
  "metadata": {
    "colab": {
      "name": "Bubble.ipynb",
      "provenance": [],
      "authorship_tag": "ABX9TyMaKfs0FOfhkNorH/xzntr0",
      "include_colab_link": true
    },
    "kernelspec": {
      "name": "python3",
      "display_name": "Python 3"
    },
    "language_info": {
      "name": "python"
    }
  },
  "cells": [
    {
      "cell_type": "markdown",
      "metadata": {
        "id": "view-in-github",
        "colab_type": "text"
      },
      "source": [
        "<a href=\"https://colab.research.google.com/github/ParkSlingshot/-/blob/main/Bubble.ipynb\" target=\"_parent\"><img src=\"https://colab.research.google.com/assets/colab-badge.svg\" alt=\"Open In Colab\"/></a>"
      ]
    },
    {
      "cell_type": "markdown",
      "metadata": {
        "id": "pm-GPlgMjxP6"
      },
      "source": [
        "#1. Mount Drive"
      ]
    },
    {
      "cell_type": "code",
      "metadata": {
        "colab": {
          "base_uri": "https://localhost:8080/"
        },
        "id": "_ZssPK9Wj0rV",
        "outputId": "19564896-2452-4d79-93ce-399a330ab26e"
      },
      "source": [
        "from google.colab import drive\n",
        "drive.mount('/gdrive')"
      ],
      "execution_count": 32,
      "outputs": [
        {
          "output_type": "stream",
          "text": [
            "Drive already mounted at /gdrive; to attempt to forcibly remount, call drive.mount(\"/gdrive\", force_remount=True).\n"
          ],
          "name": "stdout"
        }
      ]
    },
    {
      "cell_type": "markdown",
      "metadata": {
        "id": "s-Oj--Rik2LI"
      },
      "source": [
        "#2. 한글패치"
      ]
    },
    {
      "cell_type": "code",
      "metadata": {
        "colab": {
          "base_uri": "https://localhost:8080/"
        },
        "id": "p50TT7qBk09u",
        "outputId": "8147656d-719e-4604-db62-a38646189def"
      },
      "source": [
        "!sudo apt-get install -y fonts-nanum\n",
        "!sudo fc-cache -fv\n",
        "!rm ~/.cache/matplotlib -rf"
      ],
      "execution_count": 33,
      "outputs": [
        {
          "output_type": "stream",
          "text": [
            "Reading package lists... Done\n",
            "Building dependency tree       \n",
            "Reading state information... Done\n",
            "fonts-nanum is already the newest version (20170925-1).\n",
            "0 upgraded, 0 newly installed, 0 to remove and 40 not upgraded.\n",
            "/usr/share/fonts: caching, new cache contents: 0 fonts, 1 dirs\n",
            "/usr/share/fonts/truetype: caching, new cache contents: 0 fonts, 3 dirs\n",
            "/usr/share/fonts/truetype/humor-sans: caching, new cache contents: 1 fonts, 0 dirs\n",
            "/usr/share/fonts/truetype/liberation: caching, new cache contents: 16 fonts, 0 dirs\n",
            "/usr/share/fonts/truetype/nanum: caching, new cache contents: 10 fonts, 0 dirs\n",
            "/usr/local/share/fonts: caching, new cache contents: 0 fonts, 0 dirs\n",
            "/root/.local/share/fonts: skipping, no such directory\n",
            "/root/.fonts: skipping, no such directory\n",
            "/var/cache/fontconfig: cleaning cache directory\n",
            "/root/.cache/fontconfig: not cleaning non-existent cache directory\n",
            "/root/.fontconfig: not cleaning non-existent cache directory\n",
            "fc-cache: succeeded\n"
          ],
          "name": "stdout"
        }
      ]
    },
    {
      "cell_type": "code",
      "metadata": {
        "id": "JOXRAvLVkfN5"
      },
      "source": [
        "import matplotlib.pyplot as plt\n",
        "import pandas as pd"
      ],
      "execution_count": 1,
      "outputs": []
    },
    {
      "cell_type": "code",
      "metadata": {
        "id": "Q5V6KKsclYaQ"
      },
      "source": [
        "plt.rc('font', family='NanumBarunGothic')"
      ],
      "execution_count": 2,
      "outputs": []
    },
    {
      "cell_type": "markdown",
      "metadata": {
        "id": "mCl3faEQl2xs"
      },
      "source": [
        "#3. Load & Select Data"
      ]
    },
    {
      "cell_type": "code",
      "metadata": {
        "id": "D9O27HUvj_-S"
      },
      "source": [
        "file = ('/gdrive/MyDrive/data/data_2020.csv')\n",
        "data = pd.read_csv(file)"
      ],
      "execution_count": 3,
      "outputs": []
    },
    {
      "cell_type": "code",
      "metadata": {
        "colab": {
          "base_uri": "https://localhost:8080/",
          "height": 418
        },
        "id": "wHwcf9_4l5ut",
        "outputId": "aaff0cde-5e68-4d19-9e73-f2b76d4a2542"
      },
      "source": [
        "data_6_22 = data[data['집계시'].isin(range(6,23))]\n",
        "data_6_22"
      ],
      "execution_count": 4,
      "outputs": [
        {
          "output_type": "execute_result",
          "data": {
            "text/html": [
              "<div>\n",
              "<style scoped>\n",
              "    .dataframe tbody tr th:only-of-type {\n",
              "        vertical-align: middle;\n",
              "    }\n",
              "\n",
              "    .dataframe tbody tr th {\n",
              "        vertical-align: top;\n",
              "    }\n",
              "\n",
              "    .dataframe thead th {\n",
              "        text-align: right;\n",
              "    }\n",
              "</style>\n",
              "<table border=\"1\" class=\"dataframe\">\n",
              "  <thead>\n",
              "    <tr style=\"text-align: right;\">\n",
              "      <th></th>\n",
              "      <th>집계일자</th>\n",
              "      <th>집계시</th>\n",
              "      <th>출발영업소코드</th>\n",
              "      <th>도착영업소코드</th>\n",
              "      <th>통행시간</th>\n",
              "      <th>요일</th>\n",
              "    </tr>\n",
              "  </thead>\n",
              "  <tbody>\n",
              "    <tr>\n",
              "      <th>10</th>\n",
              "      <td>20200101</td>\n",
              "      <td>10</td>\n",
              "      <td>101</td>\n",
              "      <td>105</td>\n",
              "      <td>686</td>\n",
              "      <td>2</td>\n",
              "    </tr>\n",
              "    <tr>\n",
              "      <th>11</th>\n",
              "      <td>20200101</td>\n",
              "      <td>10</td>\n",
              "      <td>101</td>\n",
              "      <td>105</td>\n",
              "      <td>761</td>\n",
              "      <td>2</td>\n",
              "    </tr>\n",
              "    <tr>\n",
              "      <th>12</th>\n",
              "      <td>20200101</td>\n",
              "      <td>10</td>\n",
              "      <td>101</td>\n",
              "      <td>105</td>\n",
              "      <td>704</td>\n",
              "      <td>2</td>\n",
              "    </tr>\n",
              "    <tr>\n",
              "      <th>13</th>\n",
              "      <td>20200101</td>\n",
              "      <td>10</td>\n",
              "      <td>101</td>\n",
              "      <td>105</td>\n",
              "      <td>807</td>\n",
              "      <td>2</td>\n",
              "    </tr>\n",
              "    <tr>\n",
              "      <th>14</th>\n",
              "      <td>20200101</td>\n",
              "      <td>10</td>\n",
              "      <td>101</td>\n",
              "      <td>105</td>\n",
              "      <td>687</td>\n",
              "      <td>2</td>\n",
              "    </tr>\n",
              "    <tr>\n",
              "      <th>...</th>\n",
              "      <td>...</td>\n",
              "      <td>...</td>\n",
              "      <td>...</td>\n",
              "      <td>...</td>\n",
              "      <td>...</td>\n",
              "      <td>...</td>\n",
              "    </tr>\n",
              "    <tr>\n",
              "      <th>37348</th>\n",
              "      <td>20200331</td>\n",
              "      <td>6</td>\n",
              "      <td>101</td>\n",
              "      <td>115</td>\n",
              "      <td>6938</td>\n",
              "      <td>1</td>\n",
              "    </tr>\n",
              "    <tr>\n",
              "      <th>37349</th>\n",
              "      <td>20200331</td>\n",
              "      <td>17</td>\n",
              "      <td>101</td>\n",
              "      <td>135</td>\n",
              "      <td>12477</td>\n",
              "      <td>1</td>\n",
              "    </tr>\n",
              "    <tr>\n",
              "      <th>37351</th>\n",
              "      <td>20200331</td>\n",
              "      <td>10</td>\n",
              "      <td>101</td>\n",
              "      <td>105</td>\n",
              "      <td>885</td>\n",
              "      <td>1</td>\n",
              "    </tr>\n",
              "    <tr>\n",
              "      <th>37352</th>\n",
              "      <td>20200331</td>\n",
              "      <td>8</td>\n",
              "      <td>101</td>\n",
              "      <td>140</td>\n",
              "      <td>13403</td>\n",
              "      <td>1</td>\n",
              "    </tr>\n",
              "    <tr>\n",
              "      <th>37354</th>\n",
              "      <td>20200331</td>\n",
              "      <td>10</td>\n",
              "      <td>101</td>\n",
              "      <td>110</td>\n",
              "      <td>3598</td>\n",
              "      <td>1</td>\n",
              "    </tr>\n",
              "  </tbody>\n",
              "</table>\n",
              "<p>28304 rows × 6 columns</p>\n",
              "</div>"
            ],
            "text/plain": [
              "           집계일자  집계시  출발영업소코드  도착영업소코드   통행시간  요일\n",
              "10     20200101   10      101      105    686   2\n",
              "11     20200101   10      101      105    761   2\n",
              "12     20200101   10      101      105    704   2\n",
              "13     20200101   10      101      105    807   2\n",
              "14     20200101   10      101      105    687   2\n",
              "...         ...  ...      ...      ...    ...  ..\n",
              "37348  20200331    6      101      115   6938   1\n",
              "37349  20200331   17      101      135  12477   1\n",
              "37351  20200331   10      101      105    885   1\n",
              "37352  20200331    8      101      140  13403   1\n",
              "37354  20200331   10      101      110   3598   1\n",
              "\n",
              "[28304 rows x 6 columns]"
            ]
          },
          "metadata": {
            "tags": []
          },
          "execution_count": 4
        }
      ]
    },
    {
      "cell_type": "code",
      "metadata": {
        "colab": {
          "base_uri": "https://localhost:8080/",
          "height": 418
        },
        "id": "qRm3bwduKlWb",
        "outputId": "38a94214-ac84-4e45-9640-9e11d2a57498"
      },
      "source": [
        "data_6_22.sort_values(by='집계시')"
      ],
      "execution_count": 6,
      "outputs": [
        {
          "output_type": "execute_result",
          "data": {
            "text/html": [
              "<div>\n",
              "<style scoped>\n",
              "    .dataframe tbody tr th:only-of-type {\n",
              "        vertical-align: middle;\n",
              "    }\n",
              "\n",
              "    .dataframe tbody tr th {\n",
              "        vertical-align: top;\n",
              "    }\n",
              "\n",
              "    .dataframe thead th {\n",
              "        text-align: right;\n",
              "    }\n",
              "</style>\n",
              "<table border=\"1\" class=\"dataframe\">\n",
              "  <thead>\n",
              "    <tr style=\"text-align: right;\">\n",
              "      <th></th>\n",
              "      <th>집계일자</th>\n",
              "      <th>집계시</th>\n",
              "      <th>출발영업소코드</th>\n",
              "      <th>도착영업소코드</th>\n",
              "      <th>통행시간</th>\n",
              "      <th>요일</th>\n",
              "    </tr>\n",
              "  </thead>\n",
              "  <tbody>\n",
              "    <tr>\n",
              "      <th>25164</th>\n",
              "      <td>20200302</td>\n",
              "      <td>6</td>\n",
              "      <td>101</td>\n",
              "      <td>110</td>\n",
              "      <td>2772</td>\n",
              "      <td>0</td>\n",
              "    </tr>\n",
              "    <tr>\n",
              "      <th>22064</th>\n",
              "      <td>20200213</td>\n",
              "      <td>6</td>\n",
              "      <td>101</td>\n",
              "      <td>130</td>\n",
              "      <td>8044</td>\n",
              "      <td>3</td>\n",
              "    </tr>\n",
              "    <tr>\n",
              "      <th>12199</th>\n",
              "      <td>20200130</td>\n",
              "      <td>6</td>\n",
              "      <td>101</td>\n",
              "      <td>115</td>\n",
              "      <td>6542</td>\n",
              "      <td>3</td>\n",
              "    </tr>\n",
              "    <tr>\n",
              "      <th>6518</th>\n",
              "      <td>20200117</td>\n",
              "      <td>6</td>\n",
              "      <td>101</td>\n",
              "      <td>105</td>\n",
              "      <td>806</td>\n",
              "      <td>4</td>\n",
              "    </tr>\n",
              "    <tr>\n",
              "      <th>28006</th>\n",
              "      <td>20200309</td>\n",
              "      <td>6</td>\n",
              "      <td>101</td>\n",
              "      <td>115</td>\n",
              "      <td>7670</td>\n",
              "      <td>0</td>\n",
              "    </tr>\n",
              "    <tr>\n",
              "      <th>...</th>\n",
              "      <td>...</td>\n",
              "      <td>...</td>\n",
              "      <td>...</td>\n",
              "      <td>...</td>\n",
              "      <td>...</td>\n",
              "      <td>...</td>\n",
              "    </tr>\n",
              "    <tr>\n",
              "      <th>15006</th>\n",
              "      <td>20200207</td>\n",
              "      <td>22</td>\n",
              "      <td>101</td>\n",
              "      <td>105</td>\n",
              "      <td>991</td>\n",
              "      <td>4</td>\n",
              "    </tr>\n",
              "    <tr>\n",
              "      <th>16139</th>\n",
              "      <td>20200209</td>\n",
              "      <td>22</td>\n",
              "      <td>101</td>\n",
              "      <td>130</td>\n",
              "      <td>9075</td>\n",
              "      <td>6</td>\n",
              "    </tr>\n",
              "    <tr>\n",
              "      <th>28346</th>\n",
              "      <td>20200310</td>\n",
              "      <td>22</td>\n",
              "      <td>101</td>\n",
              "      <td>115</td>\n",
              "      <td>4747</td>\n",
              "      <td>1</td>\n",
              "    </tr>\n",
              "    <tr>\n",
              "      <th>16141</th>\n",
              "      <td>20200209</td>\n",
              "      <td>22</td>\n",
              "      <td>101</td>\n",
              "      <td>130</td>\n",
              "      <td>7947</td>\n",
              "      <td>6</td>\n",
              "    </tr>\n",
              "    <tr>\n",
              "      <th>21183</th>\n",
              "      <td>20200221</td>\n",
              "      <td>22</td>\n",
              "      <td>101</td>\n",
              "      <td>115</td>\n",
              "      <td>6355</td>\n",
              "      <td>4</td>\n",
              "    </tr>\n",
              "  </tbody>\n",
              "</table>\n",
              "<p>28304 rows × 6 columns</p>\n",
              "</div>"
            ],
            "text/plain": [
              "           집계일자  집계시  출발영업소코드  도착영업소코드  통행시간  요일\n",
              "25164  20200302    6      101      110  2772   0\n",
              "22064  20200213    6      101      130  8044   3\n",
              "12199  20200130    6      101      115  6542   3\n",
              "6518   20200117    6      101      105   806   4\n",
              "28006  20200309    6      101      115  7670   0\n",
              "...         ...  ...      ...      ...   ...  ..\n",
              "15006  20200207   22      101      105   991   4\n",
              "16139  20200209   22      101      130  9075   6\n",
              "28346  20200310   22      101      115  4747   1\n",
              "16141  20200209   22      101      130  7947   6\n",
              "21183  20200221   22      101      115  6355   4\n",
              "\n",
              "[28304 rows x 6 columns]"
            ]
          },
          "metadata": {
            "tags": []
          },
          "execution_count": 6
        }
      ]
    },
    {
      "cell_type": "code",
      "metadata": {
        "colab": {
          "base_uri": "https://localhost:8080/"
        },
        "id": "XbaF2CwHmWVw",
        "outputId": "8b12f843-eef8-4d8f-ed7d-2b1b632c49ed"
      },
      "source": [
        "data_6_22_count = data_6_22['집계시'].value_counts()\n",
        "data_6_22_count"
      ],
      "execution_count": 7,
      "outputs": [
        {
          "output_type": "execute_result",
          "data": {
            "text/plain": [
              "14    1766\n",
              "12    1758\n",
              "15    1755\n",
              "13    1754\n",
              "11    1744\n",
              "10    1725\n",
              "16    1724\n",
              "17    1719\n",
              "9     1703\n",
              "18    1666\n",
              "8     1662\n",
              "19    1628\n",
              "20    1611\n",
              "7     1585\n",
              "21    1559\n",
              "22    1505\n",
              "6     1440\n",
              "Name: 집계시, dtype: int64"
            ]
          },
          "metadata": {
            "tags": []
          },
          "execution_count": 7
        }
      ]
    },
    {
      "cell_type": "code",
      "metadata": {
        "colab": {
          "base_uri": "https://localhost:8080/"
        },
        "id": "ARlkzZOUpPKU",
        "outputId": "9f5d379e-fefb-46b9-a01c-b0e0267b6fac"
      },
      "source": [
        "data_6_22_count_sorted = data_6_22_count.sort_index()\n",
        "data_6_22_count_sorted"
      ],
      "execution_count": 8,
      "outputs": [
        {
          "output_type": "execute_result",
          "data": {
            "text/plain": [
              "6     1440\n",
              "7     1585\n",
              "8     1662\n",
              "9     1703\n",
              "10    1725\n",
              "11    1744\n",
              "12    1758\n",
              "13    1754\n",
              "14    1766\n",
              "15    1755\n",
              "16    1724\n",
              "17    1719\n",
              "18    1666\n",
              "19    1628\n",
              "20    1611\n",
              "21    1559\n",
              "22    1505\n",
              "Name: 집계시, dtype: int64"
            ]
          },
          "metadata": {
            "tags": []
          },
          "execution_count": 8
        }
      ]
    },
    {
      "cell_type": "code",
      "metadata": {
        "colab": {
          "base_uri": "https://localhost:8080/"
        },
        "id": "x0QBPOBcqgon",
        "outputId": "b919a1ce-64c4-45ac-d332-a91171a44615"
      },
      "source": [
        "data_6_22_time = data_6_22['통행시간']\n",
        "data_6_22_time"
      ],
      "execution_count": 10,
      "outputs": [
        {
          "output_type": "execute_result",
          "data": {
            "text/plain": [
              "10         686\n",
              "11         761\n",
              "12         704\n",
              "13         807\n",
              "14         687\n",
              "         ...  \n",
              "37348     6938\n",
              "37349    12477\n",
              "37351      885\n",
              "37352    13403\n",
              "37354     3598\n",
              "Name: 통행시간, Length: 28304, dtype: int64"
            ]
          },
          "metadata": {
            "tags": []
          },
          "execution_count": 10
        }
      ]
    },
    {
      "cell_type": "code",
      "metadata": {
        "id": "9EUTDE_srd3X"
      },
      "source": [
        "# Configure figure size\n",
        "plt.figure(figsize=(20,10))\n",
        "plt.scatter(data_6_22_time.index, data_6_22_time.values, c=\"g\", alpha = 0.5)\n",
        "plt.title(\"순번 기준 통행시간\",fontsize = 18)\n",
        "plt.xlabel('순번',fontdict={'size':16})\n",
        "plt.ylabel('통행시간',fontdict={'size':16})\n",
        "plt.show()"
      ],
      "execution_count": null,
      "outputs": []
    },
    {
      "cell_type": "markdown",
      "metadata": {
        "id": "-EzT5i9YLbtk"
      },
      "source": [
        "#4. Bubble"
      ]
    },
    {
      "cell_type": "code",
      "metadata": {
        "id": "ACyMZ7jXLE7Y"
      },
      "source": [
        "x = data_6_22_count_sorted.index"
      ],
      "execution_count": 11,
      "outputs": []
    },
    {
      "cell_type": "code",
      "metadata": {
        "id": "8cfcODH4LM6H"
      },
      "source": [
        "x =[str(i)+'시' for i in x]"
      ],
      "execution_count": 13,
      "outputs": []
    },
    {
      "cell_type": "code",
      "metadata": {
        "id": "LC6PpeWtLV2U"
      },
      "source": [
        "y = data_6_22_count_sorted.values"
      ],
      "execution_count": 14,
      "outputs": []
    },
    {
      "cell_type": "code",
      "metadata": {
        "colab": {
          "base_uri": "https://localhost:8080/",
          "height": 371
        },
        "id": "ZbsZwdYdLZ49",
        "outputId": "83d39be8-aca8-4b50-a28c-05fc3bfb96e9"
      },
      "source": [
        "plt.figure(figsize=(20,10))\n",
        "plt.scatter(x, y, s= y, c='b', alpha =0.5)\n",
        "plt.title('버블', fontsize = 18)\n",
        "plt.xlabel('집계시',fontdict={'size':16})\n",
        "plt.ylabel('통행횟수',fontdict={'size':16})\n",
        "plt.show()"
      ],
      "execution_count": 16,
      "outputs": [
        {
          "output_type": "display_data",
          "data": {
            "image/png": "[encoded data removed]",
            "text/plain": [
              "<Figure size 1440x720 with 1 Axes>"
            ]
          },
          "metadata": {
            "tags": [],
            "needs_background": "light"
          }
        }
      ]
    },
    {
      "cell_type": "markdown",
      "metadata": {
        "id": "rfi83qyotvK5"
      },
      "source": [
        "#4-1 도착영업소코드"
      ]
    },
    {
      "cell_type": "code",
      "metadata": {
        "id": "Ye4Boz83MoiU"
      },
      "source": [
        "data_dest_count =data['도착영업소코드'].value_counts()"
      ],
      "execution_count": 17,
      "outputs": []
    },
    {
      "cell_type": "code",
      "metadata": {
        "id": "qmzzSHK7MyPZ"
      },
      "source": [
        "data_dest_count_sorted = data_dest_count.sort_index()"
      ],
      "execution_count": 21,
      "outputs": []
    },
    {
      "cell_type": "code",
      "metadata": {
        "colab": {
          "base_uri": "https://localhost:8080/"
        },
        "id": "kyb1a5NMMzvK",
        "outputId": "50e5b6af-b444-4f51-f728-efab3ba02f6f"
      },
      "source": [
        "x = data_dest_count_sorted.index\n",
        "x = [str(i) for i in x]\n",
        "x = ['기흥','목천','대전', '황간','남구미', '동김천', '경주','부산']\n",
        "x"
      ],
      "execution_count": 26,
      "outputs": [
        {
          "output_type": "execute_result",
          "data": {
            "text/plain": [
              "['기흥', '목천', '대전', '황간', '남구미', '동김천', '경주', '부산']"
            ]
          },
          "metadata": {
            "tags": []
          },
          "execution_count": 26
        }
      ]
    },
    {
      "cell_type": "code",
      "metadata": {
        "colab": {
          "base_uri": "https://localhost:8080/"
        },
        "id": "2S7cTHuDNco3",
        "outputId": "43ed0671-f46b-4f55-cac8-d7046da8736e"
      },
      "source": [
        "y = data_dest_count_sorted.values\n",
        "y"
      ],
      "execution_count": 25,
      "outputs": [
        {
          "output_type": "execute_result",
          "data": {
            "text/plain": [
              "array([12274,  9419,  6509,  1511,  1677,  1972,  1759,  2235])"
            ]
          },
          "metadata": {
            "tags": []
          },
          "execution_count": 25
        }
      ]
    },
    {
      "cell_type": "code",
      "metadata": {
        "colab": {
          "base_uri": "https://localhost:8080/",
          "height": 383
        },
        "id": "kK2kRjFtN0of",
        "outputId": "91df0659-61f7-45a8-9c8d-ae0d740986ef"
      },
      "source": [
        "plt.figure(figsize = (20,10))\n",
        "plt.scatter(x, y , s=y, c='r', alpha=0.5)\n",
        "plt.title('도착영업소 별 통행횟수 Bubble')\n",
        "plt.xlabel('목적지', fontdict={'size':16})\n",
        "plt.ylabel('통행횟수', fontdict={'size':16})"
      ],
      "execution_count": 28,
      "outputs": [
        {
          "output_type": "execute_result",
          "data": {
            "text/plain": [
              "Text(0, 0.5, '통행횟수')"
            ]
          },
          "metadata": {
            "tags": []
          },
          "execution_count": 28
        },
        {
          "output_type": "display_data",
          "data": {
            "image/png": "[encoded data removed]",
            "text/plain": [
              "<Figure size 1440x720 with 1 Axes>"
            ]
          },
          "metadata": {
            "tags": [],
            "needs_background": "light"
          }
        }
      ]
    },
    {
      "cell_type": "markdown",
      "metadata": {
        "id": "qM5s28dhOzm5"
      },
      "source": [
        "#4-2. 요일별"
      ]
    },
    {
      "cell_type": "code",
      "metadata": {
        "id": "F8qH42XdO14d"
      },
      "source": [
        "data_week_mean =  data.groupby(by=['요일']).mean()\n",
        "data_week_count = data.groupby(by=['요일']).count()"
      ],
      "execution_count": 33,
      "outputs": []
    },
    {
      "cell_type": "code",
      "metadata": {
        "id": "O5vSn9ZPPUOk"
      },
      "source": [
        "data_week_mean_time = data_week_mean['통행시간']"
      ],
      "execution_count": 43,
      "outputs": []
    },
    {
      "cell_type": "code",
      "metadata": {
        "id": "3tcR5AriPpz_"
      },
      "source": [
        "data_week_count_time = data_week_count['통행시간']"
      ],
      "execution_count": 44,
      "outputs": []
    },
    {
      "cell_type": "code",
      "metadata": {
        "id": "ZcJkBfrcQczI"
      },
      "source": [
        "import numpy as np"
      ],
      "execution_count": 45,
      "outputs": []
    },
    {
      "cell_type": "code",
      "metadata": {
        "id": "0Oxln86QQfF4"
      },
      "source": [
        "x = data_week_mean_time.index\n",
        "y = data_week_mean_time.values\n",
        "s = data_week_count_time.values\n",
        "c = np.random.rand(len(data_week_mean_time.index))"
      ],
      "execution_count": 47,
      "outputs": []
    },
    {
      "cell_type": "code",
      "metadata": {
        "colab": {
          "base_uri": "https://localhost:8080/",
          "height": 396
        },
        "id": "JJ3uS9bTRIxg",
        "outputId": "0addcabe-644a-47fc-e506-5b1339daddfb"
      },
      "source": [
        "plt.figure(figsize = (20,10))\n",
        "plt.scatter(x, y , s=s, c=c, alpha=0.5)\n",
        "plt.title('요일 별 통행횟수 Bubble',fontsize = 30)\n",
        "plt.xlabel('요일', fontdict={'size':25})\n",
        "plt.ylabel('통행횟수', fontdict={'size':25})"
      ],
      "execution_count": 50,
      "outputs": [
        {
          "output_type": "execute_result",
          "data": {
            "text/plain": [
              "Text(0, 0.5, '통행횟수')"
            ]
          },
          "metadata": {
            "tags": []
          },
          "execution_count": 50
        },
        {
          "output_type": "display_data",
          "data": {
            "image/png": "[encoded data removed]",
            "text/plain": [
              "<Figure size 1440x720 with 1 Axes>"
            ]
          },
          "metadata": {
            "tags": [],
            "needs_background": "light"
          }
        }
      ]
    }
  ]
}