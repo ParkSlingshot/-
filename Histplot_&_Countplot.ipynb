{
  "nbformat": 4,
  "nbformat_minor": 0,
  "metadata": {
    "colab": {
      "name": "Histplot & Countplot.ipynb",
      "provenance": [],
      "collapsed_sections": [],
      "authorship_tag": "ABX9TyOn1VhgDxr3+yJ55iHKWWei",
      "include_colab_link": true
    },
    "kernelspec": {
      "name": "python3",
      "display_name": "Python 3"
    },
    "language_info": {
      "name": "python"
    }
  },
  "cells": [
    {
      "cell_type": "markdown",
      "metadata": {
        "id": "view-in-github",
        "colab_type": "text"
      },
      "source": [
        "<a href=\"https://colab.research.google.com/github/ParkSlingshot/-/blob/main/Histplot_%26_Countplot.ipynb\" target=\"_parent\"><img src=\"https://colab.research.google.com/assets/colab-badge.svg\" alt=\"Open In Colab\"/></a>"
      ]
    },
    {
      "cell_type": "markdown",
      "metadata": {
        "id": "hDS6s_UIYlFl"
      },
      "source": [
        "histplot, countplot from seaborn"
      ]
    },
    {
      "cell_type": "markdown",
      "metadata": {
        "id": "2LCBto50LdTx"
      },
      "source": [
        "#1. Drive Mount"
      ]
    },
    {
      "cell_type": "code",
      "metadata": {
        "colab": {
          "base_uri": "https://localhost:8080/"
        },
        "id": "_KsSPMR1LfsE",
        "outputId": "124031bb-7a02-48c6-b54c-86ff6104bde5"
      },
      "source": [
        "from google.colab import drive\n",
        "drive.mount('/gdrive')"
      ],
      "execution_count": 2,
      "outputs": [
        {
          "output_type": "stream",
          "text": [
            "Mounted at /gdrive\n"
          ],
          "name": "stdout"
        }
      ]
    },
    {
      "cell_type": "markdown",
      "metadata": {
        "id": "PoJFlneZLua5"
      },
      "source": [
        "#2. 한글패치"
      ]
    },
    {
      "cell_type": "code",
      "metadata": {
        "colab": {
          "base_uri": "https://localhost:8080/"
        },
        "id": "ijeslwBkLvwR",
        "outputId": "59871b68-9755-44d5-eba1-f64464e3e32f"
      },
      "source": [
        "!sudo apt-get install -y fonts-nanum\n",
        "!sudo fc-cache -fv\n",
        "!rm ~/.cache/matplotlib -rf"
      ],
      "execution_count": 8,
      "outputs": [
        {
          "output_type": "stream",
          "text": [
            "Reading package lists... Done\n",
            "Building dependency tree       \n",
            "Reading state information... Done\n",
            "fonts-nanum is already the newest version (20170925-1).\n",
            "0 upgraded, 0 newly installed, 0 to remove and 40 not upgraded.\n",
            "/usr/share/fonts: caching, new cache contents: 0 fonts, 1 dirs\n",
            "/usr/share/fonts/truetype: caching, new cache contents: 0 fonts, 3 dirs\n",
            "/usr/share/fonts/truetype/humor-sans: caching, new cache contents: 1 fonts, 0 dirs\n",
            "/usr/share/fonts/truetype/liberation: caching, new cache contents: 16 fonts, 0 dirs\n",
            "/usr/share/fonts/truetype/nanum: caching, new cache contents: 10 fonts, 0 dirs\n",
            "/usr/local/share/fonts: caching, new cache contents: 0 fonts, 0 dirs\n",
            "/root/.local/share/fonts: skipping, no such directory\n",
            "/root/.fonts: skipping, no such directory\n",
            "/var/cache/fontconfig: cleaning cache directory\n",
            "/root/.cache/fontconfig: not cleaning non-existent cache directory\n",
            "/root/.fontconfig: not cleaning non-existent cache directory\n",
            "fc-cache: succeeded\n"
          ],
          "name": "stdout"
        }
      ]
    },
    {
      "cell_type": "code",
      "metadata": {
        "id": "tXkYC24oMBIY"
      },
      "source": [
        "import matplotlib.pyplot as plt\n",
        "import seaborn as sns"
      ],
      "execution_count": 1,
      "outputs": []
    },
    {
      "cell_type": "code",
      "metadata": {
        "id": "xUsUodm4MEHa"
      },
      "source": [
        "plt.rc('font',family='NanumBarunGothic')"
      ],
      "execution_count": 5,
      "outputs": []
    },
    {
      "cell_type": "markdown",
      "metadata": {
        "id": "Cr7liUupN2Z4"
      },
      "source": [
        "#3. Load & Select Data"
      ]
    },
    {
      "cell_type": "code",
      "metadata": {
        "id": "UHRB3bUyN6JW"
      },
      "source": [
        "import pandas as pd"
      ],
      "execution_count": 6,
      "outputs": []
    },
    {
      "cell_type": "code",
      "metadata": {
        "colab": {
          "base_uri": "https://localhost:8080/",
          "height": 204
        },
        "id": "nX98dZ15N8c-",
        "outputId": "f3a4ce53-41a3-47b0-959e-e6442cddb0af"
      },
      "source": [
        "file = '/gdrive/MyDrive/data/data_2020.csv'\n",
        "data = pd.read_csv(file)"
      ],
      "execution_count": 8,
      "outputs": [
        {
          "output_type": "execute_result",
          "data": {
            "text/html": [
              "<div>\n",
              "<style scoped>\n",
              "    .dataframe tbody tr th:only-of-type {\n",
              "        vertical-align: middle;\n",
              "    }\n",
              "\n",
              "    .dataframe tbody tr th {\n",
              "        vertical-align: top;\n",
              "    }\n",
              "\n",
              "    .dataframe thead th {\n",
              "        text-align: right;\n",
              "    }\n",
              "</style>\n",
              "<table border=\"1\" class=\"dataframe\">\n",
              "  <thead>\n",
              "    <tr style=\"text-align: right;\">\n",
              "      <th></th>\n",
              "      <th>집계일자</th>\n",
              "      <th>집계시</th>\n",
              "      <th>출발영업소코드</th>\n",
              "      <th>도착영업소코드</th>\n",
              "      <th>통행시간</th>\n",
              "      <th>요일</th>\n",
              "    </tr>\n",
              "  </thead>\n",
              "  <tbody>\n",
              "    <tr>\n",
              "      <th>0</th>\n",
              "      <td>20200101</td>\n",
              "      <td>4</td>\n",
              "      <td>101</td>\n",
              "      <td>105</td>\n",
              "      <td>637</td>\n",
              "      <td>2</td>\n",
              "    </tr>\n",
              "    <tr>\n",
              "      <th>1</th>\n",
              "      <td>20200101</td>\n",
              "      <td>4</td>\n",
              "      <td>101</td>\n",
              "      <td>105</td>\n",
              "      <td>773</td>\n",
              "      <td>2</td>\n",
              "    </tr>\n",
              "    <tr>\n",
              "      <th>2</th>\n",
              "      <td>20200101</td>\n",
              "      <td>4</td>\n",
              "      <td>101</td>\n",
              "      <td>105</td>\n",
              "      <td>762</td>\n",
              "      <td>2</td>\n",
              "    </tr>\n",
              "    <tr>\n",
              "      <th>3</th>\n",
              "      <td>20200101</td>\n",
              "      <td>4</td>\n",
              "      <td>101</td>\n",
              "      <td>105</td>\n",
              "      <td>746</td>\n",
              "      <td>2</td>\n",
              "    </tr>\n",
              "    <tr>\n",
              "      <th>4</th>\n",
              "      <td>20200101</td>\n",
              "      <td>4</td>\n",
              "      <td>101</td>\n",
              "      <td>105</td>\n",
              "      <td>875</td>\n",
              "      <td>2</td>\n",
              "    </tr>\n",
              "  </tbody>\n",
              "</table>\n",
              "</div>"
            ],
            "text/plain": [
              "       집계일자  집계시  출발영업소코드  도착영업소코드  통행시간  요일\n",
              "0  20200101    4      101      105   637   2\n",
              "1  20200101    4      101      105   773   2\n",
              "2  20200101    4      101      105   762   2\n",
              "3  20200101    4      101      105   746   2\n",
              "4  20200101    4      101      105   875   2"
            ]
          },
          "metadata": {
            "tags": []
          },
          "execution_count": 8
        }
      ]
    },
    {
      "cell_type": "markdown",
      "metadata": {
        "id": "aW0lHvuTOkRL"
      },
      "source": [
        "#4. Histplot\n"
      ]
    },
    {
      "cell_type": "code",
      "metadata": {
        "colab": {
          "base_uri": "https://localhost:8080/",
          "height": 334
        },
        "id": "VEyydP6WQojO",
        "outputId": "b9cc2cac-4c11-45aa-b4a2-5e03d49d8c28"
      },
      "source": [
        "plt.figure(figsize=(20,10))\n",
        "sns.histplot(data[data['도착영업소코드']==110]['통행시간'],color='green', label = '목천')\n",
        "sns.histplot(data[data['도착영업소코드']==115]['통행시간'], color='blue', label= '남구미')\n",
        "sns.histplot(data[data['도착영업소코드']==140]['통행시간'], color='blue', label= '부산')\n",
        "plt.legend(title = '도착영업소')\n",
        "plt.show()"
      ],
      "execution_count": 19,
      "outputs": [
        {
          "output_type": "display_data",
          "data": {
            "image/png": "[encoded data removed]",
            "text/plain": [
              "<Figure size 1440x720 with 1 Axes>"
            ]
          },
          "metadata": {
            "tags": [],
            "needs_background": "light"
          }
        }
      ]
    },
    {
      "cell_type": "code",
      "metadata": {
        "colab": {
          "base_uri": "https://localhost:8080/",
          "height": 332
        },
        "id": "tNpT0vuyYPZ7",
        "outputId": "b62162aa-081a-48c7-a7f4-c22c1ac896fb"
      },
      "source": [
        "plt.figure(figsize=(20,10))\n",
        "sns.histplot(data=data, x='통행시간', hue='도착영업소코드')\n",
        "plt.show()"
      ],
      "execution_count": 20,
      "outputs": [
        {
          "output_type": "display_data",
          "data": {
            "image/png": "[encoded data removed]",
            "text/plain": [
              "<Figure size 1440x720 with 1 Axes>"
            ]
          },
          "metadata": {
            "tags": [],
            "needs_background": "light"
          }
        }
      ]
    },
    {
      "cell_type": "markdown",
      "metadata": {
        "id": "HsXXVe6ERmwQ"
      },
      "source": [
        "#5. Count plot"
      ]
    },
    {
      "cell_type": "code",
      "metadata": {
        "colab": {
          "base_uri": "https://localhost:8080/",
          "height": 358
        },
        "id": "t7z3xT2sRp5x",
        "outputId": "264f14da-251b-44a2-917b-67bb62c52b61"
      },
      "source": [
        "plt.figure(figsize=(20,10))\n",
        "data_dest = sns.countplot(data = data , x='도착영업소코드')\n",
        "data_dest.set_title('도착영업소 별 통행횟수')\n",
        "data_dest.set_xlabel('도착영업소코드', fontdict={'size':15})\n",
        "data_dest.set_ylabel('통행횟수', fontdict={'size':15})"
      ],
      "execution_count": 14,
      "outputs": [
        {
          "output_type": "execute_result",
          "data": {
            "text/plain": [
              "Text(0, 0.5, '통행횟수')"
            ]
          },
          "metadata": {
            "tags": []
          },
          "execution_count": 14
        },
        {
          "output_type": "display_data",
          "data": {
            "image/png": "[encoded data removed]",
            "text/plain": [
              "<Figure size 1440x720 with 1 Axes>"
            ]
          },
          "metadata": {
            "tags": [],
            "needs_background": "light"
          }
        }
      ]
    },
    {
      "cell_type": "markdown",
      "metadata": {
        "id": "UV7RUIc7SVGS"
      },
      "source": [
        "Count plot,값의 크기에 따른 정렬\n"
      ]
    },
    {
      "cell_type": "code",
      "metadata": {
        "colab": {
          "base_uri": "https://localhost:8080/",
          "height": 358
        },
        "id": "mVp5j82FSbeJ",
        "outputId": "123f67c4-dea3-4f09-cb22-bec4c1c0d0ee"
      },
      "source": [
        "plt.figure(figsize=(20,10))\n",
        "data_dest = sns.countplot(data = data , x='도착영업소코드',order = data['도착영업소코드'].value_counts().index)\n",
        "data_dest.set_title('도착영업소 별 통행횟수')\n",
        "data_dest.set_xlabel('도착영업소코드', fontdict={'size':15})\n",
        "data_dest.set_ylabel('통행횟수', fontdict={'size':15})"
      ],
      "execution_count": 17,
      "outputs": [
        {
          "output_type": "execute_result",
          "data": {
            "text/plain": [
              "Text(0, 0.5, '통행횟수')"
            ]
          },
          "metadata": {
            "tags": []
          },
          "execution_count": 17
        },
        {
          "output_type": "display_data",
          "data": {
            "image/png": "[encoded data removed]",
            "text/plain": [
              "<Figure size 1440x720 with 1 Axes>"
            ]
          },
          "metadata": {
            "tags": [],
            "needs_background": "light"
          }
        }
      ]
    }
  ]
}