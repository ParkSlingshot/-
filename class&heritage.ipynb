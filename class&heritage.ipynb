{
  "nbformat": 4,
  "nbformat_minor": 0,
  "metadata": {
    "colab": {
      "name": "class.ipynb",
      "provenance": [],
      "authorship_tag": "ABX9TyNtPHaN/n0C1MKbkA+4d62w",
      "include_colab_link": true
    },
    "kernelspec": {
      "name": "python3",
      "display_name": "Python 3"
    },
    "language_info": {
      "name": "python"
    }
  },
  "cells": [
    {
      "cell_type": "markdown",
      "metadata": {
        "id": "view-in-github",
        "colab_type": "text"
      },
      "source": [
        "<a href=\"https://colab.research.google.com/github/ParkSlingshot/-/blob/main/class%26heritage.ipynb\" target=\"_parent\"><img src=\"https://colab.research.google.com/assets/colab-badge.svg\" alt=\"Open In Colab\"/></a>"
      ]
    },
    {
      "cell_type": "markdown",
      "metadata": {
        "id": "ahopw7nLfrGC"
      },
      "source": [
        "#1. Function"
      ]
    },
    {
      "cell_type": "code",
      "metadata": {
        "id": "e9wmbh2if0pk"
      },
      "source": [
        "stationfares=[\n",
        "              {\"station\":\"청량리\",\"fare\":1500},\n",
        "              {\"station\":\"성북\",\"fare\":1800},\n",
        "              {\"station\":\"의정부\",\"fare\":2000},\n",
        "              {\"station\":\"소요산\",\"fare\":2500}\n",
        "]"
      ],
      "execution_count": null,
      "outputs": []
    },
    {
      "cell_type": "code",
      "metadata": {
        "id": "LtixMa4JgFUZ"
      },
      "source": [
        "stations=[]\n",
        "fares=[]\n",
        "for stationfare in stationfares:\n",
        "  stations.append(stationfare[\"station\"])\n",
        "  fares.append(stationfare[\"fare\"])\n",
        "print(stations)\n",
        "print(fares)"
      ],
      "execution_count": null,
      "outputs": []
    },
    {
      "cell_type": "code",
      "metadata": {
        "id": "p10_lb3PhR3b"
      },
      "source": [
        "def getFare(station):\n",
        "  for stationfare in stationfares :\n",
        "    if stationfare['station']==station:\n",
        "      return stationfare['fare']\n",
        "    \n",
        "  \n",
        "print(getFare(\"소요산\"))"
      ],
      "execution_count": null,
      "outputs": []
    },
    {
      "cell_type": "markdown",
      "metadata": {
        "id": "6a2SXJYriMkL"
      },
      "source": [
        "#2.Class  승차권발매기계 만들기\n"
      ]
    },
    {
      "cell_type": "code",
      "metadata": {
        "id": "TluEw-kfiPXM"
      },
      "source": [
        "class Comments:\n",
        "  title =\"#### %s 승차권 판매기입니다. ####\"\n",
        "  product_description= \"%s : %s (%s원)\"\n",
        "  insert_fare = \"\\n요금을 넣어 주세요. :\"\n",
        "  insufficient_fare=\"%s 요금이 부족합니다. 거스름돈은 %s원 입니다.\"\n",
        "  select_station=\"원하시는 역번호를 선택하세요.\"\n",
        "  select_error =\"잘못된 입력입니다.\"\n",
        "  finish_sale =\"선택하신 역은 %s역 입니다. 거스름돈은 %s원 입니다. \\n 감사합니다.\"\n",
        "  terminate_sale =\"승차권 판매를 종료합니다.\"\n"
      ],
      "execution_count": null,
      "outputs": []
    },
    {
      "cell_type": "code",
      "metadata": {
        "id": "hVf0GPe-4FyS"
      },
      "source": [
        "class Products:\n",
        "  productNames=[]\n",
        "  productValues=[]"
      ],
      "execution_count": null,
      "outputs": []
    },
    {
      "cell_type": "code",
      "metadata": {
        "id": "4-SNlve44NlT"
      },
      "source": [
        "class SubwayTicket(Products):\n",
        "  _data = stationfares\n",
        "  _name = \"지하철\"\n",
        "  _status=True\n",
        "\n",
        "  def __init__(self):\n",
        "    print(Comments.title %self._name)\n",
        "  \n",
        "  def set_products(self):\n",
        "    Products.productNames=[]\n",
        "    Products.productValues=[]\n",
        "    for stationfare in self._data :\n",
        "      Products.productNames.append(stationfare[\"station\"])\n",
        "      Products.productValues.append(stationfare[\"fare\"])\n",
        "\n",
        "  def run(self):\n",
        "    self.set_products()\n",
        "    while self._status :\n",
        "      try:\n",
        "        inputMoney = int(input(Comments.insert_fare))\n",
        "      except ValueError:\n",
        "          print(Comments.select_error)\n",
        "      else:\n",
        "          self.selectStation(inputMoney)\n",
        "  \n",
        "  def selectStation(self,money):\n",
        "    print(Comments.select_station)\n",
        "    for idx,name in enumerate(Products.productNames):\n",
        "        fare = Products.productValues[idx]\n",
        "        print(Comments.product_description %(str(idx),name, fare))\n",
        "    inputStation =int(input(Comments.select_station))\n",
        "    self.payment(money,inputStation)\n",
        "\n",
        "  def payment(self,money,idx):\n",
        "    name=Products.productNames[idx] \n",
        "    fare=Products.productValues[idx]\n",
        "    if money >= fare:\n",
        "      balance =money - fare\n",
        "      print(Comments.finish_sale %(name, str(balance)))\n",
        "    else:\n",
        "      print(Comments.insufficient_fare %(name,str(maney)))\n",
        "                                  "
      ],
      "execution_count": null,
      "outputs": []
    },
    {
      "cell_type": "code",
      "metadata": {
        "id": "C6jfAdq-AQZl"
      },
      "source": [
        "tm=SubwayTicket()\n",
        "\n",
        "try:\n",
        "  tm.run()\n",
        "except KeyboardInterrupt:\n",
        "  tm._status = False\n",
        "  print(Comments.terminate_sale)"
      ],
      "execution_count": null,
      "outputs": []
    },
    {
      "cell_type": "markdown",
      "metadata": {
        "id": "mucMbyWM-UjY"
      },
      "source": [
        "#3. Inheritance"
      ]
    },
    {
      "cell_type": "code",
      "metadata": {
        "id": "WbfOviob-ZpU"
      },
      "source": [
        "railstationfares=[\n",
        "                  {\"station\":\"천안\",\"fare\":15000},\n",
        "                  {\"station\":\"대전\",\"fare\":20000},\n",
        "                  {\"station\":\"동대구\",\"fare\":37000},\n",
        "                  {\"station\":\"부산\",\"fare\":53000}\n",
        "]"
      ],
      "execution_count": 43,
      "outputs": []
    },
    {
      "cell_type": "code",
      "metadata": {
        "id": "R5q_rzXo-txi"
      },
      "source": [
        "class RailTicket(SubwayTicket):\n",
        "  _date=railstationfares\n",
        "  _name=\"고속철도\"\n"
      ],
      "execution_count": 44,
      "outputs": []
    },
    {
      "cell_type": "code",
      "metadata": {
        "colab": {
          "base_uri": "https://localhost:8080/"
        },
        "id": "vd5uhNIQ_Bxk",
        "outputId": "e3c9daff-03a7-4a9d-9a4d-23fc985cd98b"
      },
      "source": [
        "tm=RailTicket()\n",
        "try:\n",
        "  tm.run()\n",
        "except KeyboardInterrupt:\n",
        "  tm._status = False\n",
        "  print(Comments.terminate_sale)\n",
        "  "
      ],
      "execution_count": 45,
      "outputs": [
        {
          "output_type": "stream",
          "text": [
            "#### 고속철도 승차권 판매기입니다. ####\n",
            "\n",
            "요금을 넣어 주세요. :55000\n",
            "원하시는 역번호를 선택하세요.\n",
            "0 : 청량리 (1500원)\n",
            "1 : 성북 (1800원)\n",
            "2 : 의정부 (2000원)\n",
            "3 : 소요산 (2500원)\n",
            "승차권 판매를 종료합니다.\n"
          ],
          "name": "stdout"
        }
      ]
    }
  ]
}