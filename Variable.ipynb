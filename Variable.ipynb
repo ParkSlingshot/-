{
  "nbformat": 4,
  "nbformat_minor": 0,
  "metadata": {
    "colab": {
      "name": "Variable.ipynb",
      "provenance": [],
      "collapsed_sections": [],
      "authorship_tag": "ABX9TyO8qWt9yhKQG0bSDu7ciVz5",
      "include_colab_link": true
    },
    "kernelspec": {
      "name": "python3",
      "display_name": "Python 3"
    },
    "language_info": {
      "name": "python"
    }
  },
  "cells": [
    {
      "cell_type": "markdown",
      "metadata": {
        "id": "view-in-github",
        "colab_type": "text"
      },
      "source": [
        "<a href=\"https://colab.research.google.com/github/ParkSlingshot/-/blob/main/Variable.ipynb\" target=\"_parent\"><img src=\"https://colab.research.google.com/assets/colab-badge.svg\" alt=\"Open In Colab\"/></a>"
      ]
    },
    {
      "cell_type": "markdown",
      "metadata": {
        "id": "dMgaZpm1RL7B"
      },
      "source": [
        ""
      ]
    },
    {
      "cell_type": "markdown",
      "metadata": {
        "id": "OMTts5YxNG0h"
      },
      "source": [
        "#1.Variable"
      ]
    },
    {
      "cell_type": "code",
      "metadata": {
        "id": "of39jz12NJcK"
      },
      "source": [
        "score=10"
      ],
      "execution_count": 11,
      "outputs": []
    },
    {
      "cell_type": "code",
      "metadata": {
        "colab": {
          "base_uri": "https://localhost:8080/"
        },
        "id": "elPE4l8pNLXn",
        "outputId": "ca2739be-6c79-4657-916a-8967f0fe6363"
      },
      "source": [
        "print(score)"
      ],
      "execution_count": 12,
      "outputs": [
        {
          "output_type": "stream",
          "text": [
            "10\n"
          ],
          "name": "stdout"
        }
      ]
    },
    {
      "cell_type": "markdown",
      "metadata": {
        "id": "ZoZqXRG1NRly"
      },
      "source": [
        "#2. Data Type"
      ]
    },
    {
      "cell_type": "code",
      "metadata": {
        "id": "RThJlAL1Nafv"
      },
      "source": [
        "level =1"
      ],
      "execution_count": 14,
      "outputs": []
    },
    {
      "cell_type": "code",
      "metadata": {
        "colab": {
          "base_uri": "https://localhost:8080/"
        },
        "id": "jKPThfFZNdL8",
        "outputId": "a2546f94-c996-4330-c5cd-c037d9c8b82e"
      },
      "source": [
        "type(level)"
      ],
      "execution_count": 15,
      "outputs": [
        {
          "output_type": "execute_result",
          "data": {
            "text/plain": [
              "int"
            ]
          },
          "metadata": {
            "tags": []
          },
          "execution_count": 15
        }
      ]
    },
    {
      "cell_type": "code",
      "metadata": {
        "id": "uiNieZRpNhfA"
      },
      "source": [
        "angle=22.3"
      ],
      "execution_count": 16,
      "outputs": []
    },
    {
      "cell_type": "code",
      "metadata": {
        "colab": {
          "base_uri": "https://localhost:8080/"
        },
        "id": "_JMU7jz8Njgj",
        "outputId": "682e2954-17e3-417e-90f7-c92afc8af0f1"
      },
      "source": [
        "type(angle)"
      ],
      "execution_count": 17,
      "outputs": [
        {
          "output_type": "execute_result",
          "data": {
            "text/plain": [
              "float"
            ]
          },
          "metadata": {
            "tags": []
          },
          "execution_count": 17
        }
      ]
    },
    {
      "cell_type": "code",
      "metadata": {
        "id": "jOR6RxoQNl7U"
      },
      "source": [
        "name='박상도'\n"
      ],
      "execution_count": 18,
      "outputs": []
    },
    {
      "cell_type": "code",
      "metadata": {
        "colab": {
          "base_uri": "https://localhost:8080/"
        },
        "id": "Pa8n-ioINpLF",
        "outputId": "fe762ceb-d411-4ca7-ef21-2e15fb7da8f5"
      },
      "source": [
        "type(name)"
      ],
      "execution_count": 19,
      "outputs": [
        {
          "output_type": "execute_result",
          "data": {
            "text/plain": [
              "str"
            ]
          },
          "metadata": {
            "tags": []
          },
          "execution_count": 19
        }
      ]
    },
    {
      "cell_type": "markdown",
      "metadata": {
        "id": "ZoA_fEwHN5ZG"
      },
      "source": [
        "#3.List\n",
        "https://colab.research.google.com/notebooks/forms.ipynb"
      ]
    },
    {
      "cell_type": "code",
      "metadata": {
        "id": "Q6fXN16CSszz"
      },
      "source": [
        "names=[]"
      ],
      "execution_count": 37,
      "outputs": []
    },
    {
      "cell_type": "code",
      "metadata": {
        "colab": {
          "base_uri": "https://localhost:8080/"
        },
        "id": "jne8EbpLSxzQ",
        "outputId": "a6d9eeb3-9e62-4a26-b59d-bbb054dd5c89"
      },
      "source": [
        "name=input('Enter names :')\n",
        "names.append(name)\n",
        "print(names)"
      ],
      "execution_count": 38,
      "outputs": [
        {
          "output_type": "stream",
          "text": [
            "Enter names :James\n",
            "['James']\n"
          ],
          "name": "stdout"
        }
      ]
    },
    {
      "cell_type": "code",
      "metadata": {
        "colab": {
          "base_uri": "https://localhost:8080/"
        },
        "id": "aFdk2HTJS6Id",
        "outputId": "e8a9d043-5d31-4c7e-d284-bb4109d90fc3"
      },
      "source": [
        "name='Tom' #@param {type:\"string\"}\n",
        "names.append(name)\n",
        "print(names)"
      ],
      "execution_count": 39,
      "outputs": [
        {
          "output_type": "stream",
          "text": [
            "['James', 'Tom']\n"
          ],
          "name": "stdout"
        }
      ]
    },
    {
      "cell_type": "code",
      "metadata": {
        "colab": {
          "base_uri": "https://localhost:8080/"
        },
        "id": "4uhNYS1fTWSA",
        "outputId": "63a04411-e3cd-4d3d-f926-30cfb626bb96"
      },
      "source": [
        "name='Jane'  #@param {type:\"string\"}\n",
        "names.append(name)\n",
        "print(names)"
      ],
      "execution_count": 40,
      "outputs": [
        {
          "output_type": "stream",
          "text": [
            "['James', 'Tom', 'Jane']\n"
          ],
          "name": "stdout"
        }
      ]
    },
    {
      "cell_type": "code",
      "metadata": {
        "colab": {
          "base_uri": "https://localhost:8080/",
          "height": 35
        },
        "id": "_1oeJoSoTkZB",
        "outputId": "8a2afa23-2e95-4fec-a7ff-685a2a3c8a38"
      },
      "source": [
        "names[0]"
      ],
      "execution_count": 43,
      "outputs": [
        {
          "output_type": "execute_result",
          "data": {
            "application/vnd.google.colaboratory.intrinsic+json": {
              "type": "string"
            },
            "text/plain": [
              "'James'"
            ]
          },
          "metadata": {
            "tags": []
          },
          "execution_count": 43
        }
      ]
    },
    {
      "cell_type": "code",
      "metadata": {
        "colab": {
          "base_uri": "https://localhost:8080/",
          "height": 35
        },
        "id": "TE-VccGBTzCD",
        "outputId": "9c1fd1c8-1965-48f5-a0ee-2b9c4323ef0a"
      },
      "source": [
        "names[-1]"
      ],
      "execution_count": 44,
      "outputs": [
        {
          "output_type": "execute_result",
          "data": {
            "application/vnd.google.colaboratory.intrinsic+json": {
              "type": "string"
            },
            "text/plain": [
              "'Jane'"
            ]
          },
          "metadata": {
            "tags": []
          },
          "execution_count": 44
        }
      ]
    },
    {
      "cell_type": "code",
      "metadata": {
        "colab": {
          "base_uri": "https://localhost:8080/"
        },
        "id": "iQMHS8bMT1im",
        "outputId": "08b8981d-ba27-4b67-823e-9b8148fe781f"
      },
      "source": [
        "names[0:2]"
      ],
      "execution_count": 45,
      "outputs": [
        {
          "output_type": "execute_result",
          "data": {
            "text/plain": [
              "['James', 'Tom']"
            ]
          },
          "metadata": {
            "tags": []
          },
          "execution_count": 45
        }
      ]
    },
    {
      "cell_type": "code",
      "metadata": {
        "colab": {
          "base_uri": "https://localhost:8080/"
        },
        "id": "gm9AoJKfT3-t",
        "outputId": "5bac3900-17af-4428-e154-6f4124a7c927"
      },
      "source": [
        "names[1:]"
      ],
      "execution_count": 46,
      "outputs": [
        {
          "output_type": "execute_result",
          "data": {
            "text/plain": [
              "['Tom', 'Jane']"
            ]
          },
          "metadata": {
            "tags": []
          },
          "execution_count": 46
        }
      ]
    },
    {
      "cell_type": "code",
      "metadata": {
        "colab": {
          "base_uri": "https://localhost:8080/"
        },
        "id": "jYgAtETkT70Y",
        "outputId": "fa99a429-bd44-4528-ffb8-d20b1520a917"
      },
      "source": [
        "len(names)"
      ],
      "execution_count": 48,
      "outputs": [
        {
          "output_type": "execute_result",
          "data": {
            "text/plain": [
              "3"
            ]
          },
          "metadata": {
            "tags": []
          },
          "execution_count": 48
        }
      ]
    },
    {
      "cell_type": "code",
      "metadata": {
        "colab": {
          "base_uri": "https://localhost:8080/"
        },
        "id": "2XR5czlVT_sx",
        "outputId": "b214270c-c39e-4fb2-e06a-eb594f45b3ea"
      },
      "source": [
        "names"
      ],
      "execution_count": 49,
      "outputs": [
        {
          "output_type": "execute_result",
          "data": {
            "text/plain": [
              "['James', 'Tom', 'Jane']"
            ]
          },
          "metadata": {
            "tags": []
          },
          "execution_count": 49
        }
      ]
    },
    {
      "cell_type": "code",
      "metadata": {
        "colab": {
          "base_uri": "https://localhost:8080/"
        },
        "id": "5PeIOJ2aUB30",
        "outputId": "77d3ea5c-8a5d-4bd9-f46f-eabc34a450bd"
      },
      "source": [
        "names.index('Jane')"
      ],
      "execution_count": 50,
      "outputs": [
        {
          "output_type": "execute_result",
          "data": {
            "text/plain": [
              "2"
            ]
          },
          "metadata": {
            "tags": []
          },
          "execution_count": 50
        }
      ]
    },
    {
      "cell_type": "markdown",
      "metadata": {
        "id": "mdLWWZq9UG80"
      },
      "source": [
        "#4.다차원 배열"
      ]
    },
    {
      "cell_type": "code",
      "metadata": {
        "id": "eWQUoqONUVhB"
      },
      "source": [
        "names[1] =\"Jim\""
      ],
      "execution_count": 51,
      "outputs": []
    },
    {
      "cell_type": "code",
      "metadata": {
        "colab": {
          "base_uri": "https://localhost:8080/"
        },
        "id": "iyTDET6IUamF",
        "outputId": "a7cb4a73-f262-465a-ed5c-a44620dfac0c"
      },
      "source": [
        "print(names)"
      ],
      "execution_count": 52,
      "outputs": [
        {
          "output_type": "stream",
          "text": [
            "['James', 'Jim', 'Jane']\n"
          ],
          "name": "stdout"
        }
      ]
    },
    {
      "cell_type": "code",
      "metadata": {
        "colab": {
          "base_uri": "https://localhost:8080/"
        },
        "id": "s60sLJVrUKhi",
        "outputId": "f1079238-36c8-4151-d15a-a45bf7305f0d"
      },
      "source": [
        "scores=[100,90,70]\n",
        "highscores=[names,scores]\n",
        "print(highscores)"
      ],
      "execution_count": 56,
      "outputs": [
        {
          "output_type": "stream",
          "text": [
            "[['James', 'Jim', 'Jane'], [100, 90, 70]]\n"
          ],
          "name": "stdout"
        }
      ]
    },
    {
      "cell_type": "code",
      "metadata": {
        "colab": {
          "base_uri": "https://localhost:8080/",
          "height": 35
        },
        "id": "92do2lB7UsKZ",
        "outputId": "aee7023b-5df3-435b-8e35-4deb297a89ff"
      },
      "source": [
        "highscores[0][0]"
      ],
      "execution_count": 57,
      "outputs": [
        {
          "output_type": "execute_result",
          "data": {
            "application/vnd.google.colaboratory.intrinsic+json": {
              "type": "string"
            },
            "text/plain": [
              "'James'"
            ]
          },
          "metadata": {
            "tags": []
          },
          "execution_count": 57
        }
      ]
    },
    {
      "cell_type": "code",
      "metadata": {
        "colab": {
          "base_uri": "https://localhost:8080/"
        },
        "id": "iIRdB_rAUyVd",
        "outputId": "93945fe6-b083-4a8f-d09b-d3de72f3359c"
      },
      "source": [
        "highscores[1][0]"
      ],
      "execution_count": 59,
      "outputs": [
        {
          "output_type": "execute_result",
          "data": {
            "text/plain": [
              "100"
            ]
          },
          "metadata": {
            "tags": []
          },
          "execution_count": 59
        }
      ]
    },
    {
      "cell_type": "markdown",
      "metadata": {
        "id": "xevgPQOKU-cJ"
      },
      "source": [
        "#5.Dictionary\n"
      ]
    },
    {
      "cell_type": "code",
      "metadata": {
        "id": "DNLvQttGVC6E"
      },
      "source": [
        "stationfares =[]"
      ],
      "execution_count": 80,
      "outputs": []
    },
    {
      "cell_type": "code",
      "metadata": {
        "colab": {
          "base_uri": "https://localhost:8080/"
        },
        "id": "0vCuz37jVGoC",
        "outputId": "9639f5dd-d3ad-47ad-c954-3a3f065aefab"
      },
      "source": [
        "dic = {}\n",
        "station=input('input station : ')\n",
        "fare= int(input('input fare : '))\n",
        "dic['station'] = station\n",
        "dic['fare']=fare\n",
        "stationfares.append(dic)\n",
        "print(dic)\n",
        "print(stationfares)"
      ],
      "execution_count": 81,
      "outputs": [
        {
          "output_type": "stream",
          "text": [
            "input station : 서울\n",
            "input fare : 1200\n",
            "{'station': '서울', 'fare': 1200}\n",
            "[{'station': '서울', 'fare': 1200}]\n"
          ],
          "name": "stdout"
        }
      ]
    },
    {
      "cell_type": "code",
      "metadata": {
        "colab": {
          "base_uri": "https://localhost:8080/"
        },
        "id": "a2cB6L-uWMw2",
        "outputId": "b58d85b0-7b00-44fb-b611-78c304ca00fe"
      },
      "source": [
        "dic = {}\n",
        "station= '\\uC6A9\\uC0B0\\uC5ED' #@param {type:\"string\"}\n",
        "fare= 1500 #@param {type:\"integer\"}\n",
        "dic['station'] = station\n",
        "dic['fare']=fare\n",
        "stationfares.append(dic)\n",
        "print(dic)\n",
        "print(stationfares)"
      ],
      "execution_count": 82,
      "outputs": [
        {
          "output_type": "stream",
          "text": [
            "{'station': '용산역', 'fare': 1500}\n",
            "[{'station': '서울', 'fare': 1200}, {'station': '용산역', 'fare': 1500}]\n"
          ],
          "name": "stdout"
        }
      ]
    },
    {
      "cell_type": "code",
      "metadata": {
        "colab": {
          "base_uri": "https://localhost:8080/"
        },
        "id": "4wdsx47hYUNA",
        "outputId": "09fe4ed6-78be-41a9-80af-7546cfa82997"
      },
      "source": [
        "stationfares[1]"
      ],
      "execution_count": 84,
      "outputs": [
        {
          "output_type": "execute_result",
          "data": {
            "text/plain": [
              "{'fare': 1500, 'station': '용산역'}"
            ]
          },
          "metadata": {
            "tags": []
          },
          "execution_count": 84
        }
      ]
    },
    {
      "cell_type": "code",
      "metadata": {
        "colab": {
          "base_uri": "https://localhost:8080/"
        },
        "id": "pQSQGz2RXVsc",
        "outputId": "6c2e313e-ea1c-4d94-ea13-bfff7bc0c32e"
      },
      "source": [
        "dic.keys()"
      ],
      "execution_count": 85,
      "outputs": [
        {
          "output_type": "execute_result",
          "data": {
            "text/plain": [
              "dict_keys(['station', 'fare'])"
            ]
          },
          "metadata": {
            "tags": []
          },
          "execution_count": 85
        }
      ]
    },
    {
      "cell_type": "code",
      "metadata": {
        "colab": {
          "base_uri": "https://localhost:8080/"
        },
        "id": "WHDrk-DnXaPK",
        "outputId": "3ac72f65-e396-419c-fe1d-a06474023707"
      },
      "source": [
        "dic.values()"
      ],
      "execution_count": 86,
      "outputs": [
        {
          "output_type": "execute_result",
          "data": {
            "text/plain": [
              "dict_values(['용산역', 1500])"
            ]
          },
          "metadata": {
            "tags": []
          },
          "execution_count": 86
        }
      ]
    }
  ]
}