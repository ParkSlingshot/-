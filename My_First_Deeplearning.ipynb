{
  "nbformat": 4,
  "nbformat_minor": 0,
  "metadata": {
    "colab": {
      "name": "My First Deeplearning.ipynb",
      "provenance": [],
      "collapsed_sections": [],
      "authorship_tag": "ABX9TyNLLEb9YbTxJgiXtd1ZsqTv",
      "include_colab_link": true
    },
    "kernelspec": {
      "name": "python3",
      "display_name": "Python 3"
    },
    "language_info": {
      "name": "python"
    }
  },
  "cells": [
    {
      "cell_type": "markdown",
      "metadata": {
        "id": "view-in-github",
        "colab_type": "text"
      },
      "source": [
        "<a href=\"https://colab.research.google.com/github/ParkSlingshot/-/blob/main/My_First_Deeplearning.ipynb\" target=\"_parent\"><img src=\"https://colab.research.google.com/assets/colab-badge.svg\" alt=\"Open In Colab\"/></a>"
      ]
    },
    {
      "cell_type": "code",
      "metadata": {
        "id": "7_8RgE60NxqU"
      },
      "source": [
        "#Import Library\n",
        "import tensorflow as tf\n",
        "from tensorflow import keras\n",
        "import numpy as np\n",
        "import matplotlib.pyplot as plt"
      ],
      "execution_count": 2,
      "outputs": []
    },
    {
      "cell_type": "code",
      "metadata": {
        "id": "ULwp5lDnOmAT"
      },
      "source": [
        "#Define Constants\n",
        "batch_size = 100\n",
        "iteration = 100\n",
        "num_class = 10"
      ],
      "execution_count": 10,
      "outputs": []
    },
    {
      "cell_type": "code",
      "metadata": {
        "colab": {
          "base_uri": "https://localhost:8080/"
        },
        "id": "C4OLDiamPJWv",
        "outputId": "dd9b9515-3536-4051-ca15-c54009cf2f5b"
      },
      "source": [
        "#Download Mnist Dataset\n",
        "mnist = keras.datasets.mnist\n",
        "(train_images, train_labels),(test_images, test_labels) = mnist.load_data()\n",
        "\n",
        "#encode to real number\n",
        "train_images = train_images/255\n",
        "test_images = test_images/255\n",
        "\n",
        "#Modeling \n",
        "model = keras.Sequential([\n",
        "    keras.layers.Flatten(input_shape=(28,28)),\n",
        "    keras.layers.Dense(128,activation=tf.nn.relu),\n",
        "    keras.layers.Dense( num_class ,activation='softmax')\n",
        "])\n",
        "model.compile(optimizer = 'adam',\n",
        "              loss = keras.losses.SparseCategoricalCrossentropy(from_logits=True),\n",
        "              metrics = ['accuracy'])\n",
        "history = model.fit(train_images, train_labels, epochs=iteration, batch_size=batch_size)\n",
        "\n"
      ],
      "execution_count": 14,
      "outputs": [
        {
          "output_type": "stream",
          "text": [
            "Epoch 1/100\n"
          ],
          "name": "stdout"
        },
        {
          "output_type": "stream",
          "text": [
            "/usr/local/lib/python3.7/dist-packages/tensorflow/python/keras/backend.py:4930: UserWarning: \"`sparse_categorical_crossentropy` received `from_logits=True`, but the `output` argument was produced by a sigmoid or softmax activation and thus does not represent logits. Was this intended?\"\n",
            "  '\"`sparse_categorical_crossentropy` received `from_logits=True`, but '\n"
          ],
          "name": "stderr"
        },
        {
          "output_type": "stream",
          "text": [
            "600/600 [==============================] - 3s 3ms/step - loss: 0.3345 - accuracy: 0.9081\n",
            "Epoch 2/100\n",
            "600/600 [==============================] - 2s 3ms/step - loss: 0.1512 - accuracy: 0.9563\n",
            "Epoch 3/100\n",
            "600/600 [==============================] - 2s 3ms/step - loss: 0.1069 - accuracy: 0.9692\n",
            "Epoch 4/100\n",
            "600/600 [==============================] - 2s 3ms/step - loss: 0.0819 - accuracy: 0.9761\n",
            "Epoch 5/100\n",
            "600/600 [==============================] - 2s 3ms/step - loss: 0.0647 - accuracy: 0.9811\n",
            "Epoch 6/100\n",
            "600/600 [==============================] - 2s 3ms/step - loss: 0.0528 - accuracy: 0.9844\n",
            "Epoch 7/100\n",
            "600/600 [==============================] - 2s 3ms/step - loss: 0.0444 - accuracy: 0.9871\n",
            "Epoch 8/100\n",
            "600/600 [==============================] - 2s 3ms/step - loss: 0.0364 - accuracy: 0.9900\n",
            "Epoch 9/100\n",
            "600/600 [==============================] - 2s 3ms/step - loss: 0.0306 - accuracy: 0.9915\n",
            "Epoch 10/100\n",
            "600/600 [==============================] - 2s 3ms/step - loss: 0.0254 - accuracy: 0.9933\n",
            "Epoch 11/100\n",
            "600/600 [==============================] - 2s 3ms/step - loss: 0.0216 - accuracy: 0.9947\n",
            "Epoch 12/100\n",
            "600/600 [==============================] - 2s 3ms/step - loss: 0.0177 - accuracy: 0.9955\n",
            "Epoch 13/100\n",
            "600/600 [==============================] - 2s 3ms/step - loss: 0.0156 - accuracy: 0.9960\n",
            "Epoch 14/100\n",
            "600/600 [==============================] - 2s 3ms/step - loss: 0.0123 - accuracy: 0.9971\n",
            "Epoch 15/100\n",
            "600/600 [==============================] - 2s 3ms/step - loss: 0.0113 - accuracy: 0.9973\n",
            "Epoch 16/100\n",
            "600/600 [==============================] - 2s 3ms/step - loss: 0.0102 - accuracy: 0.9974\n",
            "Epoch 17/100\n",
            "600/600 [==============================] - 2s 3ms/step - loss: 0.0076 - accuracy: 0.9985\n",
            "Epoch 18/100\n",
            "600/600 [==============================] - 2s 3ms/step - loss: 0.0069 - accuracy: 0.9987\n",
            "Epoch 19/100\n",
            "600/600 [==============================] - 2s 3ms/step - loss: 0.0062 - accuracy: 0.9987\n",
            "Epoch 20/100\n",
            "600/600 [==============================] - 2s 3ms/step - loss: 0.0046 - accuracy: 0.9993\n",
            "Epoch 21/100\n",
            "600/600 [==============================] - 2s 3ms/step - loss: 0.0070 - accuracy: 0.9982\n",
            "Epoch 22/100\n",
            "600/600 [==============================] - 2s 3ms/step - loss: 0.0038 - accuracy: 0.9994\n",
            "Epoch 23/100\n",
            "600/600 [==============================] - 2s 3ms/step - loss: 0.0024 - accuracy: 0.9998\n",
            "Epoch 24/100\n",
            "600/600 [==============================] - 2s 3ms/step - loss: 0.0049 - accuracy: 0.9986\n",
            "Epoch 25/100\n",
            "600/600 [==============================] - 2s 3ms/step - loss: 0.0060 - accuracy: 0.9983\n",
            "Epoch 26/100\n",
            "600/600 [==============================] - 2s 3ms/step - loss: 0.0020 - accuracy: 0.9998\n",
            "Epoch 27/100\n",
            "600/600 [==============================] - 2s 3ms/step - loss: 0.0012 - accuracy: 0.9999\n",
            "Epoch 28/100\n",
            "600/600 [==============================] - 2s 3ms/step - loss: 0.0051 - accuracy: 0.9985\n",
            "Epoch 29/100\n",
            "600/600 [==============================] - 2s 3ms/step - loss: 0.0041 - accuracy: 0.9991\n",
            "Epoch 30/100\n",
            "600/600 [==============================] - 2s 3ms/step - loss: 0.0014 - accuracy: 0.9999\n",
            "Epoch 31/100\n",
            "600/600 [==============================] - 2s 3ms/step - loss: 5.5514e-04 - accuracy: 1.0000\n",
            "Epoch 32/100\n",
            "600/600 [==============================] - 2s 3ms/step - loss: 3.9839e-04 - accuracy: 1.0000\n",
            "Epoch 33/100\n",
            "600/600 [==============================] - 2s 3ms/step - loss: 0.0019 - accuracy: 0.9995\n",
            "Epoch 34/100\n",
            "600/600 [==============================] - 2s 3ms/step - loss: 0.0093 - accuracy: 0.9971\n",
            "Epoch 35/100\n",
            "600/600 [==============================] - 2s 3ms/step - loss: 0.0022 - accuracy: 0.9994\n",
            "Epoch 36/100\n",
            "600/600 [==============================] - 2s 3ms/step - loss: 6.0611e-04 - accuracy: 1.0000\n",
            "Epoch 37/100\n",
            "600/600 [==============================] - 2s 3ms/step - loss: 3.2713e-04 - accuracy: 1.0000\n",
            "Epoch 38/100\n",
            "600/600 [==============================] - 2s 3ms/step - loss: 2.5467e-04 - accuracy: 1.0000\n",
            "Epoch 39/100\n",
            "600/600 [==============================] - 2s 3ms/step - loss: 2.1970e-04 - accuracy: 1.0000\n",
            "Epoch 40/100\n",
            "600/600 [==============================] - 2s 3ms/step - loss: 2.0450e-04 - accuracy: 1.0000\n",
            "Epoch 41/100\n",
            "600/600 [==============================] - 2s 3ms/step - loss: 2.2908e-04 - accuracy: 1.0000\n",
            "Epoch 42/100\n",
            "600/600 [==============================] - 2s 3ms/step - loss: 0.0143 - accuracy: 0.9960\n",
            "Epoch 43/100\n",
            "600/600 [==============================] - 2s 3ms/step - loss: 7.6063e-04 - accuracy: 0.9999\n",
            "Epoch 44/100\n",
            "600/600 [==============================] - 2s 3ms/step - loss: 2.9078e-04 - accuracy: 1.0000\n",
            "Epoch 45/100\n",
            "600/600 [==============================] - 2s 3ms/step - loss: 2.0795e-04 - accuracy: 1.0000\n",
            "Epoch 46/100\n",
            "600/600 [==============================] - 2s 3ms/step - loss: 1.7696e-04 - accuracy: 1.0000\n",
            "Epoch 47/100\n",
            "600/600 [==============================] - 2s 3ms/step - loss: 1.5416e-04 - accuracy: 1.0000\n",
            "Epoch 48/100\n",
            "600/600 [==============================] - 2s 3ms/step - loss: 1.3440e-04 - accuracy: 1.0000\n",
            "Epoch 49/100\n",
            "600/600 [==============================] - 2s 3ms/step - loss: 1.1956e-04 - accuracy: 1.0000\n",
            "Epoch 50/100\n",
            "600/600 [==============================] - 2s 3ms/step - loss: 0.0102 - accuracy: 0.9968\n",
            "Epoch 51/100\n",
            "600/600 [==============================] - 2s 3ms/step - loss: 0.0024 - accuracy: 0.9992\n",
            "Epoch 52/100\n",
            "600/600 [==============================] - 2s 3ms/step - loss: 4.0178e-04 - accuracy: 1.0000\n",
            "Epoch 53/100\n",
            "600/600 [==============================] - 2s 3ms/step - loss: 1.7132e-04 - accuracy: 1.0000\n",
            "Epoch 54/100\n",
            "600/600 [==============================] - 2s 3ms/step - loss: 1.2894e-04 - accuracy: 1.0000\n",
            "Epoch 55/100\n",
            "600/600 [==============================] - 2s 3ms/step - loss: 1.1123e-04 - accuracy: 1.0000\n",
            "Epoch 56/100\n",
            "600/600 [==============================] - 2s 3ms/step - loss: 9.6505e-05 - accuracy: 1.0000\n",
            "Epoch 57/100\n",
            "600/600 [==============================] - 2s 3ms/step - loss: 8.6174e-05 - accuracy: 1.0000\n",
            "Epoch 58/100\n",
            "600/600 [==============================] - 2s 3ms/step - loss: 7.3459e-05 - accuracy: 1.0000\n",
            "Epoch 59/100\n",
            "600/600 [==============================] - 2s 3ms/step - loss: 6.9574e-05 - accuracy: 1.0000\n",
            "Epoch 60/100\n",
            "600/600 [==============================] - 2s 3ms/step - loss: 0.0136 - accuracy: 0.9959\n",
            "Epoch 61/100\n",
            "600/600 [==============================] - 2s 3ms/step - loss: 0.0019 - accuracy: 0.9995\n",
            "Epoch 62/100\n",
            "600/600 [==============================] - 2s 3ms/step - loss: 4.9860e-04 - accuracy: 0.9999\n",
            "Epoch 63/100\n",
            "600/600 [==============================] - 2s 3ms/step - loss: 1.4164e-04 - accuracy: 1.0000\n",
            "Epoch 64/100\n",
            "600/600 [==============================] - 2s 3ms/step - loss: 9.6599e-05 - accuracy: 1.0000\n",
            "Epoch 65/100\n",
            "600/600 [==============================] - 2s 3ms/step - loss: 8.0299e-05 - accuracy: 1.0000\n",
            "Epoch 66/100\n",
            "600/600 [==============================] - 2s 3ms/step - loss: 6.8884e-05 - accuracy: 1.0000\n",
            "Epoch 67/100\n",
            "600/600 [==============================] - 2s 3ms/step - loss: 6.0510e-05 - accuracy: 1.0000\n",
            "Epoch 68/100\n",
            "600/600 [==============================] - 2s 3ms/step - loss: 5.4041e-05 - accuracy: 1.0000\n",
            "Epoch 69/100\n",
            "600/600 [==============================] - 2s 3ms/step - loss: 4.6685e-05 - accuracy: 1.0000\n",
            "Epoch 70/100\n",
            "600/600 [==============================] - 2s 3ms/step - loss: 4.2101e-05 - accuracy: 1.0000\n",
            "Epoch 71/100\n",
            "600/600 [==============================] - 2s 3ms/step - loss: 0.0083 - accuracy: 0.9977\n",
            "Epoch 72/100\n",
            "600/600 [==============================] - 2s 3ms/step - loss: 0.0052 - accuracy: 0.9981\n",
            "Epoch 73/100\n",
            "600/600 [==============================] - 2s 3ms/step - loss: 0.0011 - accuracy: 0.9997\n",
            "Epoch 74/100\n",
            "600/600 [==============================] - 2s 3ms/step - loss: 7.0675e-04 - accuracy: 0.9998\n",
            "Epoch 75/100\n",
            "600/600 [==============================] - 2s 3ms/step - loss: 9.5348e-05 - accuracy: 1.0000\n",
            "Epoch 76/100\n",
            "600/600 [==============================] - 2s 3ms/step - loss: 6.6111e-05 - accuracy: 1.0000\n",
            "Epoch 77/100\n",
            "600/600 [==============================] - 2s 3ms/step - loss: 5.4960e-05 - accuracy: 1.0000\n",
            "Epoch 78/100\n",
            "600/600 [==============================] - 2s 3ms/step - loss: 4.7510e-05 - accuracy: 1.0000\n",
            "Epoch 79/100\n",
            "600/600 [==============================] - 2s 3ms/step - loss: 4.1217e-05 - accuracy: 1.0000\n",
            "Epoch 80/100\n",
            "600/600 [==============================] - 2s 3ms/step - loss: 3.5903e-05 - accuracy: 1.0000\n",
            "Epoch 81/100\n",
            "600/600 [==============================] - 2s 3ms/step - loss: 3.1761e-05 - accuracy: 1.0000\n",
            "Epoch 82/100\n",
            "600/600 [==============================] - 2s 3ms/step - loss: 2.8850e-05 - accuracy: 1.0000\n",
            "Epoch 83/100\n",
            "600/600 [==============================] - 2s 3ms/step - loss: 2.4935e-05 - accuracy: 1.0000\n",
            "Epoch 84/100\n",
            "600/600 [==============================] - 2s 3ms/step - loss: 2.2666e-05 - accuracy: 1.0000\n",
            "Epoch 85/100\n",
            "600/600 [==============================] - 2s 3ms/step - loss: 2.0108e-05 - accuracy: 1.0000\n",
            "Epoch 86/100\n",
            "600/600 [==============================] - 2s 3ms/step - loss: 0.0088 - accuracy: 0.9978\n",
            "Epoch 87/100\n",
            "600/600 [==============================] - 2s 3ms/step - loss: 0.0048 - accuracy: 0.9985\n",
            "Epoch 88/100\n",
            "600/600 [==============================] - 2s 3ms/step - loss: 7.2138e-04 - accuracy: 0.9998\n",
            "Epoch 89/100\n",
            "600/600 [==============================] - 2s 3ms/step - loss: 4.4052e-04 - accuracy: 0.9999\n",
            "Epoch 90/100\n",
            "600/600 [==============================] - 2s 3ms/step - loss: 6.1390e-05 - accuracy: 1.0000\n",
            "Epoch 91/100\n",
            "600/600 [==============================] - 2s 3ms/step - loss: 4.4716e-05 - accuracy: 1.0000\n",
            "Epoch 92/100\n",
            "600/600 [==============================] - 2s 3ms/step - loss: 3.7372e-05 - accuracy: 1.0000\n",
            "Epoch 93/100\n",
            "600/600 [==============================] - 2s 3ms/step - loss: 3.2056e-05 - accuracy: 1.0000\n",
            "Epoch 94/100\n",
            "600/600 [==============================] - 2s 3ms/step - loss: 2.7705e-05 - accuracy: 1.0000\n",
            "Epoch 95/100\n",
            "600/600 [==============================] - 2s 3ms/step - loss: 2.4012e-05 - accuracy: 1.0000\n",
            "Epoch 96/100\n",
            "600/600 [==============================] - 2s 3ms/step - loss: 2.0883e-05 - accuracy: 1.0000\n",
            "Epoch 97/100\n",
            "600/600 [==============================] - 2s 3ms/step - loss: 1.8277e-05 - accuracy: 1.0000\n",
            "Epoch 98/100\n",
            "600/600 [==============================] - 2s 3ms/step - loss: 1.5923e-05 - accuracy: 1.0000\n",
            "Epoch 99/100\n",
            "600/600 [==============================] - 2s 3ms/step - loss: 1.3712e-05 - accuracy: 1.0000\n",
            "Epoch 100/100\n",
            "600/600 [==============================] - 2s 3ms/step - loss: 1.1906e-05 - accuracy: 1.0000\n"
          ],
          "name": "stdout"
        }
      ]
    },
    {
      "cell_type": "code",
      "metadata": {
        "colab": {
          "base_uri": "https://localhost:8080/"
        },
        "id": "8jYy8dL7R5eH",
        "outputId": "05ed67da-1772-487a-f356-5d61e7522018"
      },
      "source": [
        "test_loss, test_acc = model.evaluate(test_images, test_labels)\n",
        "print('Test Accuracy', test_acc)"
      ],
      "execution_count": 16,
      "outputs": [
        {
          "output_type": "stream",
          "text": [
            " 55/313 [====>.........................] - ETA: 0s - loss: 0.1860 - accuracy: 0.9790"
          ],
          "name": "stdout"
        },
        {
          "output_type": "stream",
          "text": [
            "/usr/local/lib/python3.7/dist-packages/tensorflow/python/keras/backend.py:4930: UserWarning: \"`sparse_categorical_crossentropy` received `from_logits=True`, but the `output` argument was produced by a sigmoid or softmax activation and thus does not represent logits. Was this intended?\"\n",
            "  '\"`sparse_categorical_crossentropy` received `from_logits=True`, but '\n"
          ],
          "name": "stderr"
        },
        {
          "output_type": "stream",
          "text": [
            "313/313 [==============================] - 1s 2ms/step - loss: 0.1327 - accuracy: 0.9814\n",
            "Test Accuracy 0.9814000129699707\n"
          ],
          "name": "stdout"
        }
      ]
    }
  ]
}