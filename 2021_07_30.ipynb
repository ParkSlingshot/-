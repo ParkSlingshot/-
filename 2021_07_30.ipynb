{
  "nbformat": 4,
  "nbformat_minor": 0,
  "metadata": {
    "colab": {
      "name": "2021.07.30.ipynb",
      "provenance": [],
      "authorship_tag": "ABX9TyOiUgCnGhRnyAU7nUbSO6Nv",
      "include_colab_link": true
    },
    "kernelspec": {
      "name": "python3",
      "display_name": "Python 3"
    },
    "language_info": {
      "name": "python"
    }
  },
  "cells": [
    {
      "cell_type": "markdown",
      "metadata": {
        "id": "view-in-github",
        "colab_type": "text"
      },
      "source": [
        "<a href=\"https://colab.research.google.com/github/ParkSlingshot/-/blob/main/2021_07_30.ipynb\" target=\"_parent\"><img src=\"https://colab.research.google.com/assets/colab-badge.svg\" alt=\"Open In Colab\"/></a>"
      ]
    },
    {
      "cell_type": "markdown",
      "metadata": {
        "id": "eAj8GGQxpJWI"
      },
      "source": [
        "#1. CONDITION"
      ]
    },
    {
      "cell_type": "code",
      "metadata": {
        "id": "YulNGX3spL80"
      },
      "source": [
        "name = input('what is your name : ')"
      ],
      "execution_count": null,
      "outputs": []
    },
    {
      "cell_type": "code",
      "metadata": {
        "id": "Rmrjs8xXpYis"
      },
      "source": [
        "if name =='bird' :\n",
        "  print('I could fly to you')\n",
        "else :\n",
        "  print('I could run to you')"
      ],
      "execution_count": null,
      "outputs": []
    },
    {
      "cell_type": "markdown",
      "metadata": {
        "id": "Y4BEKVJqq4Iu"
      },
      "source": [
        "#2. Loop"
      ]
    },
    {
      "cell_type": "code",
      "metadata": {
        "id": "aHkAbssrq6lf"
      },
      "source": [
        "num = int(input('Miltiplication table of :'))"
      ],
      "execution_count": null,
      "outputs": []
    },
    {
      "cell_type": "code",
      "metadata": {
        "id": "Dvm76kf8rEfd"
      },
      "source": [
        "for i in range(1,10) : \n",
        "  print(num, 'X',i,'=',num*i)"
      ],
      "execution_count": null,
      "outputs": []
    },
    {
      "cell_type": "code",
      "metadata": {
        "id": "V-ZqvJnxrW1S"
      },
      "source": [
        "for i in range(2,10):\n",
        "  for j in range(1,10):\n",
        "    print('%2d X %2d = %4d' %(i,j,i*j))\n",
        "  print(\"---------------\")"
      ],
      "execution_count": null,
      "outputs": []
    },
    {
      "cell_type": "code",
      "metadata": {
        "id": "YwfRPK7EsPTs"
      },
      "source": [
        "num = int(input('Mulipicatuon table of :'))\n",
        "i=1\n",
        "while i<10 :\n",
        "  print(num,'x',i,'=',num*i)\n",
        "  i =i+1"
      ],
      "execution_count": null,
      "outputs": []
    },
    {
      "cell_type": "code",
      "metadata": {
        "id": "90UFLX2GtMqL"
      },
      "source": [
        "i= 2\n",
        "while i<10:\n",
        "  j=1\n",
        "  while j<10:\n",
        "    print('%2d x %2d = %4d' %(i,j,i*j))\n",
        "    j+=1\n",
        "  i+=1\n",
        "  print(\"---------------------\")"
      ],
      "execution_count": null,
      "outputs": []
    },
    {
      "cell_type": "code",
      "metadata": {
        "id": "T7VKtMRdvUWM"
      },
      "source": [
        "stationfares=[\n",
        "              {\"station\" : \"청량리\", \"fare\" : 1500},\n",
        "              {\"station\" : \"성북\", \"fare\" : 1200},\n",
        "              {\"station\" : \"의정부\", \"fare\" : 2000},\n",
        "             {\"station\" : \"소요산\", \"fare\" : 2500}\n",
        "]"
      ],
      "execution_count": null,
      "outputs": []
    },
    {
      "cell_type": "code",
      "metadata": {
        "id": "tKzB3bGDu5P0"
      },
      "source": [
        "stations=[]\n",
        "fares=[]\n",
        "for stationfare in stationfares :\n",
        "  station.append(stationfare[\"station\"])\n",
        "  fare.append(stationfare[\"fare\"])\n",
        "print(stations)\n",
        "print(fares)"
      ],
      "execution_count": null,
      "outputs": []
    },
    {
      "cell_type": "markdown",
      "metadata": {
        "id": "AUEUNvB75Xx7"
      },
      "source": [
        ""
      ]
    },
    {
      "cell_type": "code",
      "metadata": {
        "id": "0nDtiC7r90kO"
      },
      "source": [
        "len(stationfares)"
      ],
      "execution_count": null,
      "outputs": []
    },
    {
      "cell_type": "code",
      "metadata": {
        "id": "wlqbmxox-jDW"
      },
      "source": [
        "max(fares)"
      ],
      "execution_count": null,
      "outputs": []
    },
    {
      "cell_type": "code",
      "metadata": {
        "id": "qJRELLU8-pG-"
      },
      "source": [
        "min(fares)"
      ],
      "execution_count": null,
      "outputs": []
    },
    {
      "cell_type": "code",
      "metadata": {
        "id": "h8VgpFPA-sFR"
      },
      "source": [
        "sum(fares)"
      ],
      "execution_count": null,
      "outputs": []
    },
    {
      "cell_type": "code",
      "metadata": {
        "id": "UWeY27tk-xuU"
      },
      "source": [
        "for idx, station in enumerate(stations):\n",
        "  print(idx,station)\n",
        "\n",
        "#enumerate는 인덱스를 붙여줌"
      ],
      "execution_count": null,
      "outputs": []
    },
    {
      "cell_type": "code",
      "metadata": {
        "id": "wXT0g_S__JB7"
      },
      "source": [
        "#lambda는 사용자 핸들 함수 매트랩의 @에 해당\n",
        "\n",
        "sum = lambda a,b : a+b \n",
        "sum(2,3)"
      ],
      "execution_count": null,
      "outputs": []
    },
    {
      "cell_type": "code",
      "metadata": {
        "id": "IcF12YP3_9Ab"
      },
      "source": [
        "def getfare(station):\n",
        "  for stationfare in stationfares:\n",
        "    if stationfare['station']==station:\n",
        "      return stationfare['fare']\n",
        "\n",
        "fare =getfare('청량리')\n",
        "print(fare)"
      ],
      "execution_count": null,
      "outputs": []
    },
    {
      "cell_type": "code",
      "metadata": {
        "id": "R7On6z7UBzJt"
      },
      "source": [
        "for station in stations:\n",
        "  print(station, getfare(station))"
      ],
      "execution_count": null,
      "outputs": []
    },
    {
      "cell_type": "markdown",
      "metadata": {
        "id": "yJoXaI7f5Z-7"
      },
      "source": [
        "#3.GUI"
      ]
    },
    {
      "cell_type": "code",
      "metadata": {
        "colab": {
          "base_uri": "https://localhost:8080/",
          "height": 398
        },
        "id": "AzzPMZtR5cxl",
        "outputId": "f036a8f4-3025-407a-8a14-4457f68c7f4e"
      },
      "source": [
        "from tkinter import Tk, XView, font, ttk, Label, Button, Text, END\n",
        "from tkinter.constants import X\n",
        "stationfares=[\n",
        "              {\"station\" : \"청량리\", \"fare\" : 1500},\n",
        "              {\"station\" : \"성북\", \"fare\" : 1200},\n",
        "              {\"station\" : \"의정부\", \"fare\" : 2000},\n",
        "             {\"station\" : \"소요산\", \"fare\" : 2500}\n",
        "]\n",
        "\n",
        "selected_index=0\n",
        "\n",
        "#밑에 쓰이는 함수의 정의\n",
        "def stationfares_selected(event):\n",
        "    for item in treeStationfares.selection():\n",
        "        selected_index=int(treeStationfares.item(item,\"text\"))\n",
        "    stationfare=stationfares[selected_index]\n",
        "    station=stationfare['station']\n",
        "    fare=str(stationfare['fare'])\n",
        "    text_Station.delete(\"1.0\",END)\n",
        "    text_Station.insert(\"end\",station)\n",
        "    text_Fare.delete(\"1.0\",END)\n",
        "    text_Fare.insert(\"END\",fare)\n",
        "\n",
        "def setTreeitems():\n",
        "    #기존에 treestationfares에 정보가 있다면 지워줌\n",
        "    treeStationfares.delete(*treeStationfares.get_children())\n",
        "    for idx, stationfare in enumerate(stationfares):\n",
        "        station=stationfare['station']\n",
        "        fare=stationfare['fare']\n",
        "        treeStationfares.insert(\"\",'end', iid=None, text=str(idx), values=[station, fare])\n",
        "\n",
        "def insert_content():\n",
        "    station=text_Station.get(\"1.0\",END)\n",
        "    fare=int(text_Fare.get(\"1.0\",END))\n",
        "    stationfare={'station':station, 'fare':fare}\n",
        "    stationfares.append(stationfare)\n",
        "    setTreeitems()\n",
        "\n",
        "def update_content():\n",
        "    station=text_station.get(\"1.0\",End)\n",
        "    fare=int(text_fare.get(\"1.0\",End))\n",
        "    selecteditem = stationfares[selected_index]\n",
        "    selecteditem['station']=station\n",
        "    selecteditem['fare']=fare\n",
        "\n",
        "def delete_content():\n",
        "    stationfare.pop(selected_index)\n",
        "    setTreeitems()\n",
        "\n",
        "window=Tk()\n",
        "window.title(\"Station Fare Manegement\")\n",
        "window.geometry(\"600x600\")\n",
        "window.resizable(0,0)\n",
        "title=\"정류장 요금관리\"\n",
        "lbl_title=Label(window, text=title, font=(\"돋움체\",20))\n",
        "lbl_title.pack(padx=10, pady=20)\n",
        "\n",
        "#정류장 요금관리를 표시하는 treeStationfares\n",
        "treeStationfares = ttk.Treeview(window)\n",
        "treeStationfares[\"columns\"]=(\"station\",\"fare\")\n",
        "treeStationfares.column(\"#0\",width=50)\n",
        "treeStationfares.column(\"station\", width=200)\n",
        "treeStationfares.column(\"fare\",width=150)\n",
        "\n",
        "#treeStationfares에는 순번, 정류장, 요금 표시\n",
        "treeStationfares.heading(\"#0\",text=\"순번\")\n",
        "treeStationfares.heading(\"station\",text=\"정류장\")\n",
        "treeStationfares.heading(\"fare\",text=\"요금\")\n",
        "treeStationfares.place(x=100,y=100, width=400, height=250)\n",
        "\n",
        "#검색한 정류장 요금을 선택하면 stationfares_selected을 실행함.\n",
        "treeStationfares.bind(\"<<TreeviewSelect>>\",stationfares_selected)\n",
        "\n",
        "#버튼 만들기\n",
        "btn_insert=Button(window, text=\"INSERT\", command=insert_content, font=(\"돋움체\",14))\n",
        "btn_insert.place(x=100, y=400, width=100, height=30)\n",
        "\n",
        "btn_update=Button(window, text=\"UPDATE\", command=update_content, font=(\"돋움체\",14))\n",
        "btn_update.place(x=250,y=400, width=100, height=30)\n",
        "\n",
        "btn_delete=Button(window, text=\"DELETE\", command=update_content, font=(\"돋움체\",14))\n",
        "btn_delete.place(x=400, y=400, width=100, height=30)\n",
        "\n",
        "setTreeitems()\n",
        "window.mainloop()"
      ],
      "execution_count": 1,
      "outputs": [
        {
          "output_type": "error",
          "ename": "TclError",
          "evalue": "ignored",
          "traceback": [
            "\u001b[0;31m---------------------------------------------------------------------------\u001b[0m",
            "\u001b[0;31mTclError\u001b[0m                                  Traceback (most recent call last)",
            "\u001b[0;32m<ipython-input-1-e5a01898cffd>\u001b[0m in \u001b[0;36m<module>\u001b[0;34m()\u001b[0m\n\u001b[1;32m     48\u001b[0m     \u001b[0msetTreeitems\u001b[0m\u001b[0;34m(\u001b[0m\u001b[0;34m)\u001b[0m\u001b[0;34m\u001b[0m\u001b[0;34m\u001b[0m\u001b[0m\n\u001b[1;32m     49\u001b[0m \u001b[0;34m\u001b[0m\u001b[0m\n\u001b[0;32m---> 50\u001b[0;31m \u001b[0mwindow\u001b[0m\u001b[0;34m=\u001b[0m\u001b[0mTk\u001b[0m\u001b[0;34m(\u001b[0m\u001b[0;34m)\u001b[0m\u001b[0;34m\u001b[0m\u001b[0;34m\u001b[0m\u001b[0m\n\u001b[0m\u001b[1;32m     51\u001b[0m \u001b[0mwindow\u001b[0m\u001b[0;34m.\u001b[0m\u001b[0mtitle\u001b[0m\u001b[0;34m(\u001b[0m\u001b[0;34m\"Station Fare Manegement\"\u001b[0m\u001b[0;34m)\u001b[0m\u001b[0;34m\u001b[0m\u001b[0;34m\u001b[0m\u001b[0m\n\u001b[1;32m     52\u001b[0m \u001b[0mwindow\u001b[0m\u001b[0;34m.\u001b[0m\u001b[0mgeometry\u001b[0m\u001b[0;34m(\u001b[0m\u001b[0;34m\"600x600\"\u001b[0m\u001b[0;34m)\u001b[0m\u001b[0;34m\u001b[0m\u001b[0;34m\u001b[0m\u001b[0m\n",
            "\u001b[0;32m/usr/lib/python3.7/tkinter/__init__.py\u001b[0m in \u001b[0;36m__init__\u001b[0;34m(self, screenName, baseName, className, useTk, sync, use)\u001b[0m\n\u001b[1;32m   2021\u001b[0m                 \u001b[0mbaseName\u001b[0m \u001b[0;34m=\u001b[0m \u001b[0mbaseName\u001b[0m \u001b[0;34m+\u001b[0m \u001b[0mext\u001b[0m\u001b[0;34m\u001b[0m\u001b[0;34m\u001b[0m\u001b[0m\n\u001b[1;32m   2022\u001b[0m         \u001b[0minteractive\u001b[0m \u001b[0;34m=\u001b[0m \u001b[0;36m0\u001b[0m\u001b[0;34m\u001b[0m\u001b[0;34m\u001b[0m\u001b[0m\n\u001b[0;32m-> 2023\u001b[0;31m         \u001b[0mself\u001b[0m\u001b[0;34m.\u001b[0m\u001b[0mtk\u001b[0m \u001b[0;34m=\u001b[0m \u001b[0m_tkinter\u001b[0m\u001b[0;34m.\u001b[0m\u001b[0mcreate\u001b[0m\u001b[0;34m(\u001b[0m\u001b[0mscreenName\u001b[0m\u001b[0;34m,\u001b[0m \u001b[0mbaseName\u001b[0m\u001b[0;34m,\u001b[0m \u001b[0mclassName\u001b[0m\u001b[0;34m,\u001b[0m \u001b[0minteractive\u001b[0m\u001b[0;34m,\u001b[0m \u001b[0mwantobjects\u001b[0m\u001b[0;34m,\u001b[0m \u001b[0museTk\u001b[0m\u001b[0;34m,\u001b[0m \u001b[0msync\u001b[0m\u001b[0;34m,\u001b[0m \u001b[0muse\u001b[0m\u001b[0;34m)\u001b[0m\u001b[0;34m\u001b[0m\u001b[0;34m\u001b[0m\u001b[0m\n\u001b[0m\u001b[1;32m   2024\u001b[0m         \u001b[0;32mif\u001b[0m \u001b[0museTk\u001b[0m\u001b[0;34m:\u001b[0m\u001b[0;34m\u001b[0m\u001b[0;34m\u001b[0m\u001b[0m\n\u001b[1;32m   2025\u001b[0m             \u001b[0mself\u001b[0m\u001b[0;34m.\u001b[0m\u001b[0m_loadtk\u001b[0m\u001b[0;34m(\u001b[0m\u001b[0;34m)\u001b[0m\u001b[0;34m\u001b[0m\u001b[0;34m\u001b[0m\u001b[0m\n",
            "\u001b[0;31mTclError\u001b[0m: no display name and no $DISPLAY environment variable"
          ]
        }
      ]
    }
  ]
}