{
  "nbformat": 4,
  "nbformat_minor": 0,
  "metadata": {
    "colab": {
      "name": "MATplotlib.ipynb",
      "provenance": [],
      "collapsed_sections": [],
      "authorship_tag": "ABX9TyP9tORR/4ogBQ1RRnIYYYs3",
      "include_colab_link": true
    },
    "kernelspec": {
      "name": "python3",
      "display_name": "Python 3"
    },
    "language_info": {
      "name": "python"
    }
  },
  "cells": [
    {
      "cell_type": "markdown",
      "metadata": {
        "id": "view-in-github",
        "colab_type": "text"
      },
      "source": [
        "<a href=\"https://colab.research.google.com/github/ParkSlingshot/-/blob/main/MATplotlib.ipynb\" target=\"_parent\"><img src=\"https://colab.research.google.com/assets/colab-badge.svg\" alt=\"Open In Colab\"/></a>"
      ]
    },
    {
      "cell_type": "markdown",
      "metadata": {
        "id": "VHw95dV85p-N"
      },
      "source": [
        "#1.Matplotlib  : visualization\n"
      ]
    },
    {
      "cell_type": "code",
      "metadata": {
        "id": "wxHBbi2j_1if"
      },
      "source": [
        "import matplotlib.pyplot as plt"
      ],
      "execution_count": null,
      "outputs": []
    },
    {
      "cell_type": "code",
      "metadata": {
        "id": "7V83mdwo5s_8"
      },
      "source": [
        "stationfares=[\n",
        "              {\"station\":\"청량리\",\"fare\":1200},\n",
        "               {\"station\":\"소요산\",\"fare\":1500},\n",
        "               {\"station\":\"의정부\",\"fare\":1800},\n",
        "               {\"station\":\"용산\",\"fare\":2500}\n",
        "]"
      ],
      "execution_count": null,
      "outputs": []
    },
    {
      "cell_type": "code",
      "metadata": {
        "id": "kG2Kb0cF-lAD"
      },
      "source": [
        "stations=[]\n",
        "fares=[]\n",
        "for stationfare in stationfares:\n",
        "  stations.append(stationfare[\"station\"])\n",
        "  fares.append(stationfare[\"fare\"])\n",
        "print(fares)\n",
        "print(stations)"
      ],
      "execution_count": null,
      "outputs": []
    },
    {
      "cell_type": "code",
      "metadata": {
        "id": "rW6Lpz9Z_sm6"
      },
      "source": [
        "names=stations\n",
        "values=fares\n",
        "plt.figure(figsize=(10,5))\n",
        "plt.bar(names,values)"
      ],
      "execution_count": null,
      "outputs": []
    },
    {
      "cell_type": "code",
      "metadata": {
        "id": "nAxTNvc-AW_s"
      },
      "source": [
        "!sudo apt-get install -y fonts-nanum\n",
        "!sudo fc-cache -fv\n",
        "!rm -/.cache/matplotlib -rf"
      ],
      "execution_count": null,
      "outputs": []
    },
    {
      "cell_type": "code",
      "metadata": {
        "id": "2fO6EFHgBJPs"
      },
      "source": [
        "plt.xlabel('정류장')\n",
        "plt.ylabel('요금')\n",
        "plt.title('정류장별 요금')\n",
        "plt.plot(names, values, linewidth=5)"
      ],
      "execution_count": null,
      "outputs": []
    }
  ]
}