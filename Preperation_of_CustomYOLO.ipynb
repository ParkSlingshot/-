{
  "nbformat": 4,
  "nbformat_minor": 0,
  "metadata": {
    "colab": {
      "name": "Preperation of CustomYOLO.ipynb",
      "provenance": [],
      "collapsed_sections": [],
      "authorship_tag": "ABX9TyMtF0xH6xYFCFqD/ZP5Rish",
      "include_colab_link": true
    },
    "kernelspec": {
      "name": "python3",
      "display_name": "Python 3"
    },
    "language_info": {
      "name": "python"
    }
  },
  "cells": [
    {
      "cell_type": "markdown",
      "metadata": {
        "id": "view-in-github",
        "colab_type": "text"
      },
      "source": [
        "<a href=\"https://colab.research.google.com/github/ParkSlingshot/-/blob/main/Preperation_of_CustomYOLO.ipynb\" target=\"_parent\"><img src=\"https://colab.research.google.com/assets/colab-badge.svg\" alt=\"Open In Colab\"/></a>"
      ]
    },
    {
      "cell_type": "markdown",
      "metadata": {
        "id": "Pq_ArxdCeqBv"
      },
      "source": [
        "#Mount Drive"
      ]
    },
    {
      "cell_type": "code",
      "metadata": {
        "colab": {
          "base_uri": "https://localhost:8080/"
        },
        "id": "4ma7kHkEeuWe",
        "outputId": "b31fa063-0936-4769-91d4-e85d0ea8796d"
      },
      "source": [
        "from google.colab import drive\n",
        "drive.mount('/gdrive')"
      ],
      "execution_count": 1,
      "outputs": [
        {
          "output_type": "stream",
          "name": "stdout",
          "text": [
            "Mounted at /gdrive\n"
          ]
        }
      ]
    },
    {
      "cell_type": "code",
      "metadata": {
        "colab": {
          "base_uri": "https://localhost:8080/"
        },
        "id": "EpwUSd1lezdN",
        "outputId": "a6319fe8-c48a-4a7b-990f-45c6222d2fff"
      },
      "source": [
        "import os\n",
        "print(os.path.abspath(os.curdir))"
      ],
      "execution_count": 3,
      "outputs": [
        {
          "output_type": "stream",
          "name": "stdout",
          "text": [
            "/content\n"
          ]
        }
      ]
    },
    {
      "cell_type": "markdown",
      "metadata": {
        "id": "PrSo2tC-fEEQ"
      },
      "source": [
        "#PATH SET"
      ]
    },
    {
      "cell_type": "code",
      "metadata": {
        "id": "dJTiKuuefXt6"
      },
      "source": [
        "COALB_DARKNET_PATH = '/gdrive/MyDrive/darknet'\n",
        "DATA_PATH = '/custom'\n",
        "YOLO_IMAGE_PATH = COALB_DARKNET_PATH + DATA_PATH\n",
        "YOLO_FORMAT_PATH = COALB_DARKNET_PATH + DATA_PATH\n"
      ],
      "execution_count": 4,
      "outputs": []
    },
    {
      "cell_type": "code",
      "metadata": {
        "id": "v5pNp1TTgk2o"
      },
      "source": [
        "class_count = 0\n",
        "paths = []\n",
        "test_percentage = 0.2"
      ],
      "execution_count": 6,
      "outputs": []
    },
    {
      "cell_type": "markdown",
      "metadata": {
        "id": "yCK21pNcf-oT"
      },
      "source": [
        "#FILE SET"
      ]
    },
    {
      "cell_type": "code",
      "metadata": {
        "colab": {
          "base_uri": "https://localhost:8080/"
        },
        "id": "UVcZune1f_-v",
        "outputId": "c3289a20-954d-4abc-9c4c-420057876067"
      },
      "source": [
        "with open(YOLO_FORMAT_PATH + '/' + 'classes.names' , 'w') as names, \\\n",
        "    open(YOLO_FORMAT_PATH + '/' + 'classes.txt', 'r') as txt :\n",
        "    for line in txt:\n",
        "      names.write(line)\n",
        "      class_count += 1\n",
        "    print('[classes.naems] is created')\n"
      ],
      "execution_count": 8,
      "outputs": [
        {
          "output_type": "stream",
          "name": "stdout",
          "text": [
            "[classes.naems] is created\n"
          ]
        }
      ]
    },
    {
      "cell_type": "code",
      "metadata": {
        "colab": {
          "base_uri": "https://localhost:8080/"
        },
        "id": "NLSpL7FLgei0",
        "outputId": "c82eba53-ac31-47c6-e845-da373efbde01"
      },
      "source": [
        "with open(YOLO_FORMAT_PATH + '/' + 'custom_data.data', 'w') as data:\n",
        "  data.write('classes = ' + str(class_count) + '\\n')\n",
        "  data.write('train = ' + YOLO_FORMAT_PATH + '/' + 'train.txt' + '\\n')\n",
        "  data.write('valid = ' + YOLO_FORMAT_PATH + '/' + 'test.txt' + '\\n')\n",
        "  data.write('names = ' + YOLO_FORMAT_PATH + '/' + 'classes.names' + '\\n')\n",
        "  data.write('train = ' + YOLO_FORMAT_PATH + '/' + 'train.txt' + '\\n')\n",
        "  data.write('backup = backup')\n",
        "  print('[custom_data.data] is created')"
      ],
      "execution_count": 11,
      "outputs": [
        {
          "output_type": "stream",
          "name": "stdout",
          "text": [
            "[custom_data.data] is created\n"
          ]
        }
      ]
    },
    {
      "cell_type": "code",
      "metadata": {
        "colab": {
          "base_uri": "https://localhost:8080/"
        },
        "id": "fVKAZ7Kaiqa7",
        "outputId": "0bdf69cd-da47-4a18-c4aa-752ae5a73608"
      },
      "source": [
        "#Change the path\n",
        "os.chdir(YOLO_IMAGE_PATH)\n",
        "current_dir = os.path.abspath(os.curdir)\n",
        "print(current_dir)"
      ],
      "execution_count": 16,
      "outputs": [
        {
          "output_type": "stream",
          "name": "stdout",
          "text": [
            "/gdrive/MyDrive/darknet/custom\n"
          ]
        }
      ]
    },
    {
      "cell_type": "code",
      "metadata": {
        "id": "-gBBX3Ehjsei"
      },
      "source": [
        "# . 은 현재 디렉토리에서란 의미\n",
        "#확장자가 jpg 인 파일만 갖고옴\n",
        "paths = []\n",
        "\n",
        "for current_dir, dirs, files in os.walk('.'):\n",
        "  for f in files:\n",
        "    if f.endswith('.jpg'):\n",
        "      image_path = YOLO_IMAGE_PATH + '/' + f\n",
        "      paths.append(image_path + '\\n')\n"
      ],
      "execution_count": 31,
      "outputs": []
    },
    {
      "cell_type": "code",
      "metadata": {
        "id": "CVBwo4m3lR3f"
      },
      "source": [
        "num_test = int(len(paths) * test_percentage)"
      ],
      "execution_count": 35,
      "outputs": []
    },
    {
      "cell_type": "code",
      "metadata": {
        "id": "U4rMo6G8mBJN"
      },
      "source": [
        "path_test = paths[:num_test] \n",
        "path_train = paths[num_test:]\n"
      ],
      "execution_count": 40,
      "outputs": []
    },
    {
      "cell_type": "code",
      "metadata": {
        "colab": {
          "base_uri": "https://localhost:8080/"
        },
        "id": "nzwQ1G80mQRV",
        "outputId": "85a98fb9-c9f7-4579-8fe7-9124315a9488"
      },
      "source": [
        "with open(YOLO_FORMAT_PATH + '/' + 'train.txt', 'w') as train_txt:\n",
        "  for path in path_train:\n",
        "    train_txt.write(path)\n",
        "  print('[train.txt] is created')"
      ],
      "execution_count": 42,
      "outputs": [
        {
          "output_type": "stream",
          "name": "stdout",
          "text": [
            "[train.txt] is created\n"
          ]
        }
      ]
    },
    {
      "cell_type": "code",
      "metadata": {
        "colab": {
          "base_uri": "https://localhost:8080/"
        },
        "id": "bgvoQnVxm8gB",
        "outputId": "d5ffa44e-dfc9-43ec-bf8b-25f676978eb5"
      },
      "source": [
        "with open(YOLO_FORMAT_PATH + '/' + 'test.txt', 'w') as test_txt:\n",
        "  for path in path_test:\n",
        "    test_txt.write(path)\n",
        "  print('[test.txt] is created')"
      ],
      "execution_count": 43,
      "outputs": [
        {
          "output_type": "stream",
          "name": "stdout",
          "text": [
            "[test.txt] is created\n"
          ]
        }
      ]
    },
    {
      "cell_type": "code",
      "metadata": {
        "id": "02TIJOsRnSrs"
      },
      "source": [
        ""
      ],
      "execution_count": null,
      "outputs": []
    }
  ]
}