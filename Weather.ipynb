{
  "nbformat": 4,
  "nbformat_minor": 0,
  "metadata": {
    "colab": {
      "name": "21_07_31_weather.ipynb",
      "provenance": [],
      "authorship_tag": "ABX9TyMD1yA560945uE2KbQHf8uH",
      "include_colab_link": true
    },
    "kernelspec": {
      "name": "python3",
      "display_name": "Python 3"
    },
    "language_info": {
      "name": "python"
    }
  },
  "cells": [
    {
      "cell_type": "markdown",
      "metadata": {
        "id": "view-in-github",
        "colab_type": "text"
      },
      "source": [
        "<a href=\"https://colab.research.google.com/github/ParkSlingshot/-/blob/main/21_07_31_weather.ipynb\" target=\"_parent\"><img src=\"https://colab.research.google.com/assets/colab-badge.svg\" alt=\"Open In Colab\"/></a>"
      ]
    },
    {
      "cell_type": "markdown",
      "metadata": {
        "id": "yS2SkvnvfQv2"
      },
      "source": [
        "# 기상청 홈페이지,지역별 관측데이터 추출\n"
      ]
    },
    {
      "cell_type": "markdown",
      "metadata": {
        "id": "UjtR_KrTfZhA"
      },
      "source": [
        "1.Scraping\n"
      ]
    },
    {
      "cell_type": "code",
      "metadata": {
        "id": "UH1ez84vfcrT"
      },
      "source": [
        "import requests\n",
        "url=\"https://www.weather.go.kr/w/obs-climate/land/city-obs.do\"\n",
        "html_text=requests.get(url).text\n",
        "print(html_text)"
      ],
      "execution_count": null,
      "outputs": []
    },
    {
      "cell_type": "markdown",
      "metadata": {
        "id": "1f96SVJ5gTom"
      },
      "source": [
        "2.parsing"
      ]
    },
    {
      "cell_type": "code",
      "metadata": {
        "id": "lbAGCCQagRDz"
      },
      "source": [
        "from bs4 import BeautifulSoup"
      ],
      "execution_count": null,
      "outputs": []
    },
    {
      "cell_type": "code",
      "metadata": {
        "id": "sr_v9M6ng1oS"
      },
      "source": [
        "soup=BeautifulSoup(html_text,\"html.parser\")\n",
        "print(soup)"
      ],
      "execution_count": null,
      "outputs": []
    },
    {
      "cell_type": "markdown",
      "metadata": {
        "id": "H3fDXOOVhsxq"
      },
      "source": [
        "3.Manipulation"
      ]
    },
    {
      "cell_type": "code",
      "metadata": {
        "id": "KNmpL1jAhrqr"
      },
      "source": [
        "table=soup.find(\"table\",{\"class\":\"table-col\"})\n",
        "print(table)"
      ],
      "execution_count": null,
      "outputs": []
    },
    {
      "cell_type": "code",
      "metadata": {
        "id": "qeYxP5EBkXuP"
      },
      "source": [
        "trs=table.find(\"tbody\").find_all('tr')"
      ],
      "execution_count": null,
      "outputs": []
    },
    {
      "cell_type": "code",
      "metadata": {
        "colab": {
          "base_uri": "https://localhost:8080/",
          "height": 310
        },
        "id": "imQk7ZJ8m_7g",
        "outputId": "30316ada-eedc-4c3d-daf3-b3ce005329f0"
      },
      "source": [
        "tds=trs.find('td')\n"
      ],
      "execution_count": 98,
      "outputs": [
        {
          "output_type": "error",
          "ename": "AttributeError",
          "evalue": "ignored",
          "traceback": [
            "\u001b[0;31m---------------------------------------------------------------------------\u001b[0m",
            "\u001b[0;31mAttributeError\u001b[0m                            Traceback (most recent call last)",
            "\u001b[0;32m<ipython-input-98-a01373612f58>\u001b[0m in \u001b[0;36m<module>\u001b[0;34m()\u001b[0m\n\u001b[0;32m----> 1\u001b[0;31m \u001b[0mtds\u001b[0m\u001b[0;34m=\u001b[0m\u001b[0mtrs\u001b[0m\u001b[0;34m.\u001b[0m\u001b[0mfind\u001b[0m\u001b[0;34m(\u001b[0m\u001b[0;34m'td'\u001b[0m\u001b[0;34m)\u001b[0m\u001b[0;34m\u001b[0m\u001b[0;34m\u001b[0m\u001b[0m\n\u001b[0m",
            "\u001b[0;32m/usr/local/lib/python3.7/dist-packages/bs4/element.py\u001b[0m in \u001b[0;36m__getattr__\u001b[0;34m(self, key)\u001b[0m\n\u001b[1;32m   1882\u001b[0m     \u001b[0;32mdef\u001b[0m \u001b[0m__getattr__\u001b[0m\u001b[0;34m(\u001b[0m\u001b[0mself\u001b[0m\u001b[0;34m,\u001b[0m \u001b[0mkey\u001b[0m\u001b[0;34m)\u001b[0m\u001b[0;34m:\u001b[0m\u001b[0;34m\u001b[0m\u001b[0;34m\u001b[0m\u001b[0m\n\u001b[1;32m   1883\u001b[0m         raise AttributeError(\n\u001b[0;32m-> 1884\u001b[0;31m             \u001b[0;34m\"ResultSet object has no attribute '%s'. You're probably treating a list of items like a single item. Did you call find_all() when you meant to call find()?\"\u001b[0m \u001b[0;34m%\u001b[0m \u001b[0mkey\u001b[0m\u001b[0;34m\u001b[0m\u001b[0;34m\u001b[0m\u001b[0m\n\u001b[0m\u001b[1;32m   1885\u001b[0m         )\n",
            "\u001b[0;31mAttributeError\u001b[0m: ResultSet object has no attribute 'find'. You're probably treating a list of items like a single item. Did you call find_all() when you meant to call find()?"
          ]
        }
      ]
    },
    {
      "cell_type": "code",
      "metadata": {
        "colab": {
          "base_uri": "https://localhost:8080/"
        },
        "id": "-jGP3DNOlF2Y",
        "outputId": "008a8011-b773-4cab-8dce-ed0baa770db9"
      },
      "source": [
        ""
      ],
      "execution_count": 96,
      "outputs": [
        {
          "output_type": "execute_result",
          "data": {
            "text/plain": [
              "<td>30.3</td>"
            ]
          },
          "metadata": {
            "tags": []
          },
          "execution_count": 96
        }
      ]
    },
    {
      "cell_type": "code",
      "metadata": {
        "id": "vWsgyOSekcrK"
      },
      "source": [
        "locationTemp=[]\n",
        "for td in tds:\n",
        "  dic={}\n",
        "  dic['location']=tds[0].text\n",
        "  dic['temp']=tds[5].text\n",
        "  locationTemp.append(dic)"
      ],
      "execution_count": 99,
      "outputs": []
    },
    {
      "cell_type": "code",
      "metadata": {
        "colab": {
          "base_uri": "https://localhost:8080/"
        },
        "id": "7P3p4hY1moGL",
        "outputId": "6a5dbef0-592e-42c7-f0b7-6ce9193d92d0"
      },
      "source": [
        "locationTemp"
      ],
      "execution_count": 100,
      "outputs": [
        {
          "output_type": "execute_result",
          "data": {
            "text/plain": [
              "[{'location': '강릉', 'temp': '30.3'},\n",
              " {'location': '강릉', 'temp': '30.3'},\n",
              " {'location': '강릉', 'temp': '30.3'},\n",
              " {'location': '강릉', 'temp': '30.3'},\n",
              " {'location': '강릉', 'temp': '30.3'},\n",
              " {'location': '강릉', 'temp': '30.3'},\n",
              " {'location': '강릉', 'temp': '30.3'},\n",
              " {'location': '강릉', 'temp': '30.3'},\n",
              " {'location': '강릉', 'temp': '30.3'},\n",
              " {'location': '강릉', 'temp': '30.3'},\n",
              " {'location': '강릉', 'temp': '30.3'},\n",
              " {'location': '강릉', 'temp': '30.3'},\n",
              " {'location': '강릉', 'temp': '30.3'}]"
            ]
          },
          "metadata": {
            "tags": []
          },
          "execution_count": 100
        }
      ]
    }
  ]
}
