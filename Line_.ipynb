{
  "nbformat": 4,
  "nbformat_minor": 0,
  "metadata": {
    "colab": {
      "name": "Line .ipynb",
      "provenance": [],
      "authorship_tag": "ABX9TyNfhlPUsKSOTpUijWsBs7MF",
      "include_colab_link": true
    },
    "kernelspec": {
      "name": "python3",
      "display_name": "Python 3"
    },
    "language_info": {
      "name": "python"
    }
  },
  "cells": [
    {
      "cell_type": "markdown",
      "metadata": {
        "id": "view-in-github",
        "colab_type": "text"
      },
      "source": [
        "<a href=\"https://colab.research.google.com/github/ParkSlingshot/-/blob/main/Line_.ipynb\" target=\"_parent\"><img src=\"https://colab.research.google.com/assets/colab-badge.svg\" alt=\"Open In Colab\"/></a>"
      ]
    },
    {
      "cell_type": "markdown",
      "metadata": {
        "id": "O5UdeeD5AAq8"
      },
      "source": [
        "#1. Mount"
      ]
    },
    {
      "cell_type": "code",
      "metadata": {
        "colab": {
          "base_uri": "https://localhost:8080/"
        },
        "id": "Fj_9sEmE5No2",
        "outputId": "638c4e85-7616-4f79-cd89-4985392cc0c5"
      },
      "source": [
        " from google.colab import drive\n",
        " drive.mount('/gdrive')"
      ],
      "execution_count": 30,
      "outputs": [
        {
          "output_type": "stream",
          "text": [
            "Drive already mounted at /gdrive; to attempt to forcibly remount, call drive.mount(\"/gdrive\", force_remount=True).\n"
          ],
          "name": "stdout"
        }
      ]
    },
    {
      "cell_type": "markdown",
      "metadata": {
        "id": "6pIcT1ZkAEW6"
      },
      "source": [
        "#2. 한글패치"
      ]
    },
    {
      "cell_type": "code",
      "metadata": {
        "colab": {
          "base_uri": "https://localhost:8080/"
        },
        "id": "jBEOJ6k0_1A0",
        "outputId": "81ba2110-ee2f-4c77-b6ba-7143ef86b96b"
      },
      "source": [
        "!sudo apt-get install -y fonts-nanum\n",
        "!sudo fc-cache -fv\n",
        "!rm ~/.cache/matplotlib -rf"
      ],
      "execution_count": 34,
      "outputs": [
        {
          "output_type": "stream",
          "text": [
            "Reading package lists... Done\n",
            "Building dependency tree       \n",
            "Reading state information... Done\n",
            "fonts-nanum is already the newest version (20170925-1).\n",
            "0 upgraded, 0 newly installed, 0 to remove and 40 not upgraded.\n",
            "/usr/share/fonts: caching, new cache contents: 0 fonts, 1 dirs\n",
            "/usr/share/fonts/truetype: caching, new cache contents: 0 fonts, 3 dirs\n",
            "/usr/share/fonts/truetype/humor-sans: caching, new cache contents: 1 fonts, 0 dirs\n",
            "/usr/share/fonts/truetype/liberation: caching, new cache contents: 16 fonts, 0 dirs\n",
            "/usr/share/fonts/truetype/nanum: caching, new cache contents: 10 fonts, 0 dirs\n",
            "/usr/local/share/fonts: caching, new cache contents: 0 fonts, 0 dirs\n",
            "/root/.local/share/fonts: skipping, no such directory\n",
            "/root/.fonts: skipping, no such directory\n",
            "/var/cache/fontconfig: cleaning cache directory\n",
            "/root/.cache/fontconfig: not cleaning non-existent cache directory\n",
            "/root/.fontconfig: not cleaning non-existent cache directory\n",
            "fc-cache: succeeded\n"
          ],
          "name": "stdout"
        }
      ]
    },
    {
      "cell_type": "code",
      "metadata": {
        "id": "Gc1nAbPMAYcI"
      },
      "source": [
        "import matplotlib.pyplot as plt\n",
        "import pandas as pd"
      ],
      "execution_count": 31,
      "outputs": []
    },
    {
      "cell_type": "code",
      "metadata": {
        "id": "8Xm0-ay-Ac7R"
      },
      "source": [
        "plt.rc('font', family='NanumBarunGothic')"
      ],
      "execution_count": 32,
      "outputs": []
    },
    {
      "cell_type": "markdown",
      "metadata": {
        "id": "yBwc4R_wApXL"
      },
      "source": [
        "#3. Load Data"
      ]
    },
    {
      "cell_type": "code",
      "metadata": {
        "id": "9WgbdjYWArvt"
      },
      "source": [
        "file = '/gdrive/MyDrive/data/data_2020.csv'\n",
        "data= pd.read_csv(file)"
      ],
      "execution_count": 34,
      "outputs": []
    },
    {
      "cell_type": "code",
      "metadata": {
        "colab": {
          "base_uri": "https://localhost:8080/"
        },
        "id": "wii9CHM2A9nV",
        "outputId": "d41bc0b1-ebd5-4c6b-b42b-2e9485944a30"
      },
      "source": [
        "data.info()"
      ],
      "execution_count": 4,
      "outputs": [
        {
          "output_type": "stream",
          "text": [
            "<class 'pandas.core.frame.DataFrame'>\n",
            "RangeIndex: 37132 entries, 0 to 37131\n",
            "Data columns (total 6 columns):\n",
            " #   Column   Non-Null Count  Dtype\n",
            "---  ------   --------------  -----\n",
            " 0   집계일자     37132 non-null  int64\n",
            " 1   집계시      37132 non-null  int64\n",
            " 2   출발영업소코드  37132 non-null  int64\n",
            " 3   도착영업소코드  37132 non-null  int64\n",
            " 4   통행시간     37132 non-null  int64\n",
            " 5   요일       37132 non-null  int64\n",
            "dtypes: int64(6)\n",
            "memory usage: 1.7 MB\n"
          ],
          "name": "stdout"
        }
      ]
    },
    {
      "cell_type": "markdown",
      "metadata": {
        "id": "OIFjCLAQBGQV"
      },
      "source": [
        "#4. Select Data"
      ]
    },
    {
      "cell_type": "code",
      "metadata": {
        "id": "9UqiVrIDBH12"
      },
      "source": [
        "data_6_22 = data[data['집계시'].isin(range(6,23))]"
      ],
      "execution_count": 35,
      "outputs": []
    },
    {
      "cell_type": "code",
      "metadata": {
        "colab": {
          "base_uri": "https://localhost:8080/",
          "height": 204
        },
        "id": "XNeCZrdSBRSx",
        "outputId": "498e17d4-3d49-45d8-a870-d687680bb2f2"
      },
      "source": [
        "data_6_22.head()"
      ],
      "execution_count": 36,
      "outputs": [
        {
          "output_type": "execute_result",
          "data": {
            "text/html": [
              "<div>\n",
              "<style scoped>\n",
              "    .dataframe tbody tr th:only-of-type {\n",
              "        vertical-align: middle;\n",
              "    }\n",
              "\n",
              "    .dataframe tbody tr th {\n",
              "        vertical-align: top;\n",
              "    }\n",
              "\n",
              "    .dataframe thead th {\n",
              "        text-align: right;\n",
              "    }\n",
              "</style>\n",
              "<table border=\"1\" class=\"dataframe\">\n",
              "  <thead>\n",
              "    <tr style=\"text-align: right;\">\n",
              "      <th></th>\n",
              "      <th>집계일자</th>\n",
              "      <th>집계시</th>\n",
              "      <th>출발영업소코드</th>\n",
              "      <th>도착영업소코드</th>\n",
              "      <th>통행시간</th>\n",
              "      <th>요일</th>\n",
              "    </tr>\n",
              "  </thead>\n",
              "  <tbody>\n",
              "    <tr>\n",
              "      <th>10</th>\n",
              "      <td>20200101</td>\n",
              "      <td>10</td>\n",
              "      <td>101</td>\n",
              "      <td>105</td>\n",
              "      <td>686</td>\n",
              "      <td>2</td>\n",
              "    </tr>\n",
              "    <tr>\n",
              "      <th>11</th>\n",
              "      <td>20200101</td>\n",
              "      <td>10</td>\n",
              "      <td>101</td>\n",
              "      <td>105</td>\n",
              "      <td>761</td>\n",
              "      <td>2</td>\n",
              "    </tr>\n",
              "    <tr>\n",
              "      <th>12</th>\n",
              "      <td>20200101</td>\n",
              "      <td>10</td>\n",
              "      <td>101</td>\n",
              "      <td>105</td>\n",
              "      <td>704</td>\n",
              "      <td>2</td>\n",
              "    </tr>\n",
              "    <tr>\n",
              "      <th>13</th>\n",
              "      <td>20200101</td>\n",
              "      <td>10</td>\n",
              "      <td>101</td>\n",
              "      <td>105</td>\n",
              "      <td>807</td>\n",
              "      <td>2</td>\n",
              "    </tr>\n",
              "    <tr>\n",
              "      <th>14</th>\n",
              "      <td>20200101</td>\n",
              "      <td>10</td>\n",
              "      <td>101</td>\n",
              "      <td>105</td>\n",
              "      <td>687</td>\n",
              "      <td>2</td>\n",
              "    </tr>\n",
              "  </tbody>\n",
              "</table>\n",
              "</div>"
            ],
            "text/plain": [
              "        집계일자  집계시  출발영업소코드  도착영업소코드  통행시간  요일\n",
              "10  20200101   10      101      105   686   2\n",
              "11  20200101   10      101      105   761   2\n",
              "12  20200101   10      101      105   704   2\n",
              "13  20200101   10      101      105   807   2\n",
              "14  20200101   10      101      105   687   2"
            ]
          },
          "metadata": {
            "tags": []
          },
          "execution_count": 36
        }
      ]
    },
    {
      "cell_type": "code",
      "metadata": {
        "colab": {
          "base_uri": "https://localhost:8080/",
          "height": 418
        },
        "id": "tvYKliH5BTNL",
        "outputId": "48e910a3-bf88-4aa5-c6b9-2fb21158ea12"
      },
      "source": [
        "#집계시 기준 정렬\n",
        "data_6_22.sort_values(by='집계시')"
      ],
      "execution_count": 37,
      "outputs": [
        {
          "output_type": "execute_result",
          "data": {
            "text/html": [
              "<div>\n",
              "<style scoped>\n",
              "    .dataframe tbody tr th:only-of-type {\n",
              "        vertical-align: middle;\n",
              "    }\n",
              "\n",
              "    .dataframe tbody tr th {\n",
              "        vertical-align: top;\n",
              "    }\n",
              "\n",
              "    .dataframe thead th {\n",
              "        text-align: right;\n",
              "    }\n",
              "</style>\n",
              "<table border=\"1\" class=\"dataframe\">\n",
              "  <thead>\n",
              "    <tr style=\"text-align: right;\">\n",
              "      <th></th>\n",
              "      <th>집계일자</th>\n",
              "      <th>집계시</th>\n",
              "      <th>출발영업소코드</th>\n",
              "      <th>도착영업소코드</th>\n",
              "      <th>통행시간</th>\n",
              "      <th>요일</th>\n",
              "    </tr>\n",
              "  </thead>\n",
              "  <tbody>\n",
              "    <tr>\n",
              "      <th>25164</th>\n",
              "      <td>20200302</td>\n",
              "      <td>6</td>\n",
              "      <td>101</td>\n",
              "      <td>110</td>\n",
              "      <td>2772</td>\n",
              "      <td>0</td>\n",
              "    </tr>\n",
              "    <tr>\n",
              "      <th>22064</th>\n",
              "      <td>20200213</td>\n",
              "      <td>6</td>\n",
              "      <td>101</td>\n",
              "      <td>130</td>\n",
              "      <td>8044</td>\n",
              "      <td>3</td>\n",
              "    </tr>\n",
              "    <tr>\n",
              "      <th>12199</th>\n",
              "      <td>20200130</td>\n",
              "      <td>6</td>\n",
              "      <td>101</td>\n",
              "      <td>115</td>\n",
              "      <td>6542</td>\n",
              "      <td>3</td>\n",
              "    </tr>\n",
              "    <tr>\n",
              "      <th>6518</th>\n",
              "      <td>20200117</td>\n",
              "      <td>6</td>\n",
              "      <td>101</td>\n",
              "      <td>105</td>\n",
              "      <td>806</td>\n",
              "      <td>4</td>\n",
              "    </tr>\n",
              "    <tr>\n",
              "      <th>28006</th>\n",
              "      <td>20200309</td>\n",
              "      <td>6</td>\n",
              "      <td>101</td>\n",
              "      <td>115</td>\n",
              "      <td>7670</td>\n",
              "      <td>0</td>\n",
              "    </tr>\n",
              "    <tr>\n",
              "      <th>...</th>\n",
              "      <td>...</td>\n",
              "      <td>...</td>\n",
              "      <td>...</td>\n",
              "      <td>...</td>\n",
              "      <td>...</td>\n",
              "      <td>...</td>\n",
              "    </tr>\n",
              "    <tr>\n",
              "      <th>15006</th>\n",
              "      <td>20200207</td>\n",
              "      <td>22</td>\n",
              "      <td>101</td>\n",
              "      <td>105</td>\n",
              "      <td>991</td>\n",
              "      <td>4</td>\n",
              "    </tr>\n",
              "    <tr>\n",
              "      <th>16139</th>\n",
              "      <td>20200209</td>\n",
              "      <td>22</td>\n",
              "      <td>101</td>\n",
              "      <td>130</td>\n",
              "      <td>9075</td>\n",
              "      <td>6</td>\n",
              "    </tr>\n",
              "    <tr>\n",
              "      <th>28346</th>\n",
              "      <td>20200310</td>\n",
              "      <td>22</td>\n",
              "      <td>101</td>\n",
              "      <td>115</td>\n",
              "      <td>4747</td>\n",
              "      <td>1</td>\n",
              "    </tr>\n",
              "    <tr>\n",
              "      <th>16141</th>\n",
              "      <td>20200209</td>\n",
              "      <td>22</td>\n",
              "      <td>101</td>\n",
              "      <td>130</td>\n",
              "      <td>7947</td>\n",
              "      <td>6</td>\n",
              "    </tr>\n",
              "    <tr>\n",
              "      <th>21183</th>\n",
              "      <td>20200221</td>\n",
              "      <td>22</td>\n",
              "      <td>101</td>\n",
              "      <td>115</td>\n",
              "      <td>6355</td>\n",
              "      <td>4</td>\n",
              "    </tr>\n",
              "  </tbody>\n",
              "</table>\n",
              "<p>28304 rows × 6 columns</p>\n",
              "</div>"
            ],
            "text/plain": [
              "           집계일자  집계시  출발영업소코드  도착영업소코드  통행시간  요일\n",
              "25164  20200302    6      101      110  2772   0\n",
              "22064  20200213    6      101      130  8044   3\n",
              "12199  20200130    6      101      115  6542   3\n",
              "6518   20200117    6      101      105   806   4\n",
              "28006  20200309    6      101      115  7670   0\n",
              "...         ...  ...      ...      ...   ...  ..\n",
              "15006  20200207   22      101      105   991   4\n",
              "16139  20200209   22      101      130  9075   6\n",
              "28346  20200310   22      101      115  4747   1\n",
              "16141  20200209   22      101      130  7947   6\n",
              "21183  20200221   22      101      115  6355   4\n",
              "\n",
              "[28304 rows x 6 columns]"
            ]
          },
          "metadata": {
            "tags": []
          },
          "execution_count": 37
        }
      ]
    },
    {
      "cell_type": "code",
      "metadata": {
        "id": "I0XMriy2BZ0X"
      },
      "source": [
        "data_6_22_count = data_6_22['집계시'].value_counts()"
      ],
      "execution_count": 38,
      "outputs": []
    },
    {
      "cell_type": "code",
      "metadata": {
        "colab": {
          "base_uri": "https://localhost:8080/"
        },
        "id": "nuZRAUu4BiGG",
        "outputId": "01817863-4fa9-41bb-e669-53dc9689fcf2"
      },
      "source": [
        "data_6_22_count.head()"
      ],
      "execution_count": 9,
      "outputs": [
        {
          "output_type": "execute_result",
          "data": {
            "text/plain": [
              "10    1738\n",
              "11    1735\n",
              "14    1732\n",
              "12    1729\n",
              "13    1726\n",
              "Name: 집계시, dtype: int64"
            ]
          },
          "metadata": {
            "tags": []
          },
          "execution_count": 9
        }
      ]
    },
    {
      "cell_type": "code",
      "metadata": {
        "id": "sR2JABWMBlbn"
      },
      "source": [
        "data_6_22_count_sorted = data_6_22_count.sort_index()"
      ],
      "execution_count": 39,
      "outputs": []
    },
    {
      "cell_type": "code",
      "metadata": {
        "colab": {
          "base_uri": "https://localhost:8080/"
        },
        "id": "vQhfdvRuBwT7",
        "outputId": "a256fde3-149e-4ece-a07f-d3964524b6b3"
      },
      "source": [
        "data_6_22_count_sorted.head()"
      ],
      "execution_count": 11,
      "outputs": [
        {
          "output_type": "execute_result",
          "data": {
            "text/plain": [
              "6     1483\n",
              "7     1626\n",
              "8     1664\n",
              "9     1724\n",
              "10    1738\n",
              "Name: 집계시, dtype: int64"
            ]
          },
          "metadata": {
            "tags": []
          },
          "execution_count": 11
        }
      ]
    },
    {
      "cell_type": "markdown",
      "metadata": {
        "id": "w0fMhuMBB-68"
      },
      "source": [
        "#5.Plot"
      ]
    },
    {
      "cell_type": "code",
      "metadata": {
        "colab": {
          "base_uri": "https://localhost:8080/",
          "height": 611
        },
        "id": "Ae8FvvDsCAsp",
        "outputId": "ffda9b05-3b78-40e0-b812-b5d367024712"
      },
      "source": [
        "plt.figure(figsize=(20,10))\n",
        "plt.plot(data_6_22_count_sorted.index, data_6_22_count_sorted.values)"
      ],
      "execution_count": 8,
      "outputs": [
        {
          "output_type": "execute_result",
          "data": {
            "text/plain": [
              "[<matplotlib.lines.Line2D at 0x7fa6bc710f50>]"
            ]
          },
          "metadata": {
            "tags": []
          },
          "execution_count": 8
        },
        {
          "output_type": "display_data",
          "data": {
            "image/png": "[encoded data removed]",
            "text/plain": [
              "<Figure size 1440x720 with 1 Axes>"
            ]
          },
          "metadata": {
            "tags": [],
            "needs_background": "light"
          }
        }
      ]
    },
    {
      "cell_type": "code",
      "metadata": {
        "id": "l7LgkztlDISm"
      },
      "source": [
        "x= data_6_22_count_sorted.index"
      ],
      "execution_count": 40,
      "outputs": []
    },
    {
      "cell_type": "code",
      "metadata": {
        "id": "lul9hPrlDKxh"
      },
      "source": [
        "labels=[str(i)+'시' for i in x]"
      ],
      "execution_count": 41,
      "outputs": []
    },
    {
      "cell_type": "code",
      "metadata": {
        "colab": {
          "base_uri": "https://localhost:8080/"
        },
        "id": "ep6-Kh8ODU4F",
        "outputId": "df2e1165-25ec-4048-deda-f177464ede44"
      },
      "source": [
        "labels"
      ],
      "execution_count": 15,
      "outputs": [
        {
          "output_type": "execute_result",
          "data": {
            "text/plain": [
              "['6시',\n",
              " '7시',\n",
              " '8시',\n",
              " '9시',\n",
              " '10시',\n",
              " '11시',\n",
              " '12시',\n",
              " '13시',\n",
              " '14시',\n",
              " '15시',\n",
              " '16시',\n",
              " '17시',\n",
              " '18시',\n",
              " '19시',\n",
              " '20시',\n",
              " '21시',\n",
              " '22시']"
            ]
          },
          "metadata": {
            "tags": []
          },
          "execution_count": 15
        }
      ]
    },
    {
      "cell_type": "code",
      "metadata": {
        "id": "xw-N_hB5DVWj"
      },
      "source": [
        "y = data_6_22_count_sorted.values"
      ],
      "execution_count": 42,
      "outputs": []
    },
    {
      "cell_type": "code",
      "metadata": {
        "colab": {
          "base_uri": "https://localhost:8080/"
        },
        "id": "f83jGg7fDaBe",
        "outputId": "f78ea63f-44a2-4792-894c-c5d5c9bfd617"
      },
      "source": [
        "y"
      ],
      "execution_count": 17,
      "outputs": [
        {
          "output_type": "execute_result",
          "data": {
            "text/plain": [
              "array([1483, 1626, 1664, 1724, 1738, 1735, 1729, 1726, 1732, 1722, 1712,\n",
              "       1696, 1653, 1620, 1591, 1527, 1482])"
            ]
          },
          "metadata": {
            "tags": []
          },
          "execution_count": 17
        }
      ]
    },
    {
      "cell_type": "code",
      "metadata": {
        "colab": {
          "base_uri": "https://localhost:8080/",
          "height": 652
        },
        "id": "7EGXjFFKDanA",
        "outputId": "cb83236f-3d72-4869-c3b8-a3f4c35dabc2"
      },
      "source": [
        "plt.figure(figsize=(20,10))\n",
        "plt.plot(labels, y, marker='s', color='r')\n",
        "plt.title('집계시 기준 통행횟수', fontsize =18)\n",
        "plt.xlabel('집계시',fontdict={'size':16})\n",
        "plt.ylabel('통행횟수',fontdict={'size':16})\n",
        "plt.show"
      ],
      "execution_count": 43,
      "outputs": [
        {
          "output_type": "execute_result",
          "data": {
            "text/plain": [
              "<function matplotlib.pyplot.show>"
            ]
          },
          "metadata": {
            "tags": []
          },
          "execution_count": 43
        },
        {
          "output_type": "display_data",
          "data": {
            "image/png": "[encoded data removed]",
            "text/plain": [
              "<Figure size 1440x720 with 1 Axes>"
            ]
          },
          "metadata": {
            "tags": [],
            "needs_background": "light"
          }
        }
      ]
    },
    {
      "cell_type": "markdown",
      "metadata": {
        "id": "JCIleUIAEtzK"
      },
      "source": [
        "#6. 도착영업소코드"
      ]
    },
    {
      "cell_type": "code",
      "metadata": {
        "id": "sm6JpihIEwYA"
      },
      "source": [
        "data_dest_counting = data['도착영업소코드'].value_counts()"
      ],
      "execution_count": 44,
      "outputs": []
    },
    {
      "cell_type": "code",
      "metadata": {
        "id": "xljQxdf1E3E7"
      },
      "source": [
        "data_dest_counting_sorted = data_dest_counting.sort_index()"
      ],
      "execution_count": 45,
      "outputs": []
    },
    {
      "cell_type": "code",
      "metadata": {
        "id": "7ByWqPeVFNI4"
      },
      "source": [
        "x = [str(i) for i in x]"
      ],
      "execution_count": 46,
      "outputs": []
    },
    {
      "cell_type": "code",
      "metadata": {
        "id": "HyedzoQMFVuP"
      },
      "source": [
        "x = ['기흥','목천','대전','황간','남구미','동김천','경주','부산']"
      ],
      "execution_count": 47,
      "outputs": []
    },
    {
      "cell_type": "code",
      "metadata": {
        "id": "fuZdDSlAFeUU"
      },
      "source": [
        "y = data_dest_counting_sorted.values"
      ],
      "execution_count": 48,
      "outputs": []
    },
    {
      "cell_type": "code",
      "metadata": {
        "colab": {
          "base_uri": "https://localhost:8080/",
          "height": 612
        },
        "id": "NHPAG5mrFi2g",
        "outputId": "e857bdb3-09da-4e6a-ad8e-89067b76d7a8"
      },
      "source": [
        "plt.figure(figsize=(15,10))\n",
        "plt.plot(x,y, marker='*',color='b')\n",
        "plt.title('도착영업소 기준 통행횟수', fontsize = 18)\n",
        "plt.show()"
      ],
      "execution_count": 49,
      "outputs": [
        {
          "output_type": "display_data",
          "data": {
            "image/png": "[encoded data removed]",
            "text/plain": [
              "<Figure size 1080x720 with 1 Axes>"
            ]
          },
          "metadata": {
            "tags": [],
            "needs_background": "light"
          }
        }
      ]
    },
    {
      "cell_type": "markdown",
      "metadata": {
        "id": "In6R3vCjGcr9"
      },
      "source": [
        "#7.요일\n"
      ]
    },
    {
      "cell_type": "code",
      "metadata": {
        "id": "ny1I0sDaGdqd"
      },
      "source": [
        "data_week = data.groupby(by=['요일']).mean()"
      ],
      "execution_count": 53,
      "outputs": []
    },
    {
      "cell_type": "code",
      "metadata": {
        "id": "ggkSDcoRGoxP"
      },
      "source": [
        "data_week_time = data_week['통행시간']"
      ],
      "execution_count": 54,
      "outputs": []
    },
    {
      "cell_type": "code",
      "metadata": {
        "colab": {
          "base_uri": "https://localhost:8080/",
          "height": 296
        },
        "id": "V2V1X2VVGsqz",
        "outputId": "62f8f573-9f0b-4580-cb30-9f468d224c10"
      },
      "source": [
        "data_week"
      ],
      "execution_count": 55,
      "outputs": [
        {
          "output_type": "execute_result",
          "data": {
            "text/html": [
              "<div>\n",
              "<style scoped>\n",
              "    .dataframe tbody tr th:only-of-type {\n",
              "        vertical-align: middle;\n",
              "    }\n",
              "\n",
              "    .dataframe tbody tr th {\n",
              "        vertical-align: top;\n",
              "    }\n",
              "\n",
              "    .dataframe thead th {\n",
              "        text-align: right;\n",
              "    }\n",
              "</style>\n",
              "<table border=\"1\" class=\"dataframe\">\n",
              "  <thead>\n",
              "    <tr style=\"text-align: right;\">\n",
              "      <th></th>\n",
              "      <th>집계일자</th>\n",
              "      <th>집계시</th>\n",
              "      <th>출발영업소코드</th>\n",
              "      <th>도착영업소코드</th>\n",
              "      <th>통행시간</th>\n",
              "    </tr>\n",
              "    <tr>\n",
              "      <th>요일</th>\n",
              "      <th></th>\n",
              "      <th></th>\n",
              "      <th></th>\n",
              "      <th></th>\n",
              "      <th></th>\n",
              "    </tr>\n",
              "  </thead>\n",
              "  <tbody>\n",
              "    <tr>\n",
              "      <th>0</th>\n",
              "      <td>2.020022e+07</td>\n",
              "      <td>11.734950</td>\n",
              "      <td>101.0</td>\n",
              "      <td>114.529922</td>\n",
              "      <td>4813.112783</td>\n",
              "    </tr>\n",
              "    <tr>\n",
              "      <th>1</th>\n",
              "      <td>2.020022e+07</td>\n",
              "      <td>11.691664</td>\n",
              "      <td>101.0</td>\n",
              "      <td>113.743022</td>\n",
              "      <td>4612.857648</td>\n",
              "    </tr>\n",
              "    <tr>\n",
              "      <th>2</th>\n",
              "      <td>2.020021e+07</td>\n",
              "      <td>11.902394</td>\n",
              "      <td>101.0</td>\n",
              "      <td>113.841621</td>\n",
              "      <td>4774.242357</td>\n",
              "    </tr>\n",
              "    <tr>\n",
              "      <th>3</th>\n",
              "      <td>2.020021e+07</td>\n",
              "      <td>11.929709</td>\n",
              "      <td>101.0</td>\n",
              "      <td>114.103057</td>\n",
              "      <td>4918.862530</td>\n",
              "    </tr>\n",
              "    <tr>\n",
              "      <th>4</th>\n",
              "      <td>2.020021e+07</td>\n",
              "      <td>11.923865</td>\n",
              "      <td>101.0</td>\n",
              "      <td>114.440886</td>\n",
              "      <td>5264.959004</td>\n",
              "    </tr>\n",
              "    <tr>\n",
              "      <th>5</th>\n",
              "      <td>2.020022e+07</td>\n",
              "      <td>11.463546</td>\n",
              "      <td>101.0</td>\n",
              "      <td>114.764006</td>\n",
              "      <td>5137.932272</td>\n",
              "    </tr>\n",
              "    <tr>\n",
              "      <th>6</th>\n",
              "      <td>2.020022e+07</td>\n",
              "      <td>12.400000</td>\n",
              "      <td>101.0</td>\n",
              "      <td>115.002099</td>\n",
              "      <td>4823.627282</td>\n",
              "    </tr>\n",
              "  </tbody>\n",
              "</table>\n",
              "</div>"
            ],
            "text/plain": [
              "            집계일자        집계시  출발영업소코드     도착영업소코드         통행시간\n",
              "요일                                                           \n",
              "0   2.020022e+07  11.734950    101.0  114.529922  4813.112783\n",
              "1   2.020022e+07  11.691664    101.0  113.743022  4612.857648\n",
              "2   2.020021e+07  11.902394    101.0  113.841621  4774.242357\n",
              "3   2.020021e+07  11.929709    101.0  114.103057  4918.862530\n",
              "4   2.020021e+07  11.923865    101.0  114.440886  5264.959004\n",
              "5   2.020022e+07  11.463546    101.0  114.764006  5137.932272\n",
              "6   2.020022e+07  12.400000    101.0  115.002099  4823.627282"
            ]
          },
          "metadata": {
            "tags": []
          },
          "execution_count": 55
        }
      ]
    },
    {
      "cell_type": "code",
      "metadata": {
        "colab": {
          "base_uri": "https://localhost:8080/"
        },
        "id": "DU5zqQy4GxoA",
        "outputId": "1d263ea3-0db9-4fbe-9237-5b63ea100d31"
      },
      "source": [
        "data_week_time"
      ],
      "execution_count": 56,
      "outputs": [
        {
          "output_type": "execute_result",
          "data": {
            "text/plain": [
              "요일\n",
              "0    4813.112783\n",
              "1    4612.857648\n",
              "2    4774.242357\n",
              "3    4918.862530\n",
              "4    5264.959004\n",
              "5    5137.932272\n",
              "6    4823.627282\n",
              "Name: 통행시간, dtype: float64"
            ]
          },
          "metadata": {
            "tags": []
          },
          "execution_count": 56
        }
      ]
    },
    {
      "cell_type": "code",
      "metadata": {
        "id": "UvSiV5KnGysv"
      },
      "source": [
        "x=data_week_time.index"
      ],
      "execution_count": 58,
      "outputs": []
    },
    {
      "cell_type": "code",
      "metadata": {
        "colab": {
          "base_uri": "https://localhost:8080/"
        },
        "id": "zNotdS7UG3VM",
        "outputId": "3bc8add8-255b-49f7-aad0-1fdf57ecb76a"
      },
      "source": [
        "x"
      ],
      "execution_count": 59,
      "outputs": [
        {
          "output_type": "execute_result",
          "data": {
            "text/plain": [
              "Int64Index([0, 1, 2, 3, 4, 5, 6], dtype='int64', name='요일')"
            ]
          },
          "metadata": {
            "tags": []
          },
          "execution_count": 59
        }
      ]
    },
    {
      "cell_type": "code",
      "metadata": {
        "colab": {
          "base_uri": "https://localhost:8080/"
        },
        "id": "YNw8M8T5G6VS",
        "outputId": "dd324c5b-f70b-4864-9b3a-b6fd57e5daab"
      },
      "source": [
        "y = data_week_time.values\n",
        "y"
      ],
      "execution_count": 60,
      "outputs": [
        {
          "output_type": "execute_result",
          "data": {
            "text/plain": [
              "array([4813.11278329, 4612.85764793, 4774.24235727, 4918.86252975,\n",
              "       5264.95900439, 5137.93227168, 4823.62728227])"
            ]
          },
          "metadata": {
            "tags": []
          },
          "execution_count": 60
        }
      ]
    },
    {
      "cell_type": "code",
      "metadata": {
        "colab": {
          "base_uri": "https://localhost:8080/",
          "height": 612
        },
        "id": "nMiu88EmHFdF",
        "outputId": "481ddd8b-351c-49e3-d7fe-c0a96c0b5af8"
      },
      "source": [
        "plt.figure(figsize=(15,10))\n",
        "plt.plot(x,y, marker='*',color='b')\n",
        "plt.title('요일 별 통행횟수', fontsize = 18)\n",
        "plt.show()"
      ],
      "execution_count": 62,
      "outputs": [
        {
          "output_type": "display_data",
          "data": {
            "image/png": "[encoded data removed]",
            "text/plain": [
              "<Figure size 1080x720 with 1 Axes>"
            ]
          },
          "metadata": {
            "tags": [],
            "needs_background": "light"
          }
        }
      ]
    }
  ]
}